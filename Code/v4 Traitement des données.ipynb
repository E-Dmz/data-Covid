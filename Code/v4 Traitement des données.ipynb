{
 "cells": [
  {
   "cell_type": "code",
   "execution_count": 1,
   "metadata": {},
   "outputs": [],
   "source": [
    "import pandas as pd\n",
    "from time import time"
   ]
  },
  {
   "cell_type": "code",
   "execution_count": 2,
   "metadata": {},
   "outputs": [
    {
     "name": "stdout",
     "output_type": "stream",
     "text": [
      "Today is 14/04/2021. Retrieve data from how many days? 0\n",
      "Ok, will retrieve data from 14/04/2021\n"
     ]
    }
   ],
   "source": [
    "import my_package.v4_dicts as dc\n",
    "import my_package.v4_datepaths as dp\n",
    "import my_package.v4_calculus as cc"
   ]
  },
  {
   "cell_type": "markdown",
   "metadata": {},
   "source": [
    "https://www.data.gouv.fr/fr/datasets/donnees-relatives-aux-resultats-des-tests-virologiques-covid-19/\n",
    "\n",
    "https://www.data.gouv.fr/fr/datasets/donnees-hospitalieres-relatives-a-lepidemie-de-covid-19/\n",
    "\n",
    "https://www.data.gouv.fr/fr/datasets/donnees-relatives-aux-personnes-vaccinees-contre-la-covid-19-1/"
   ]
  },
  {
   "cell_type": "markdown",
   "metadata": {},
   "source": [
    "# Données relatives aux résultats des tests virologiques"
   ]
  },
  {
   "cell_type": "code",
   "execution_count": 3,
   "metadata": {},
   "outputs": [],
   "source": [
    "tic = time()"
   ]
  },
  {
   "cell_type": "code",
   "execution_count": 4,
   "metadata": {},
   "outputs": [
    {
     "name": "stdout",
     "output_type": "stream",
     "text": [
      "../Data/sp-pos-quot-dep-2021-04-14-18h04.csv\n",
      "../Temp/v4/sp-pos-quot-dep-2021-04-14-18h04-tot-3C-compute.csv\n"
     ]
    }
   ],
   "source": [
    "d_tests_1, path_temp = cc.sp_input()\n",
    "d_tests_2 = cc.sp_tot_3C(d_tests_1)\n",
    "d_tests_3 = cc.sp_compute(d_tests_2)\n",
    "\n",
    "dout = d_tests_3\n",
    "fname = path_temp + '-tot-3C-compute.csv'\n",
    "dout.to_csv(fname, sep = ';', index = False)\n",
    "print(fname)"
   ]
  },
  {
   "cell_type": "code",
   "execution_count": 5,
   "metadata": {},
   "outputs": [
    {
     "name": "stdout",
     "output_type": "stream",
     "text": [
      "(382096, 6)\n"
     ]
    },
    {
     "data": {
      "text/html": [
       "<div>\n",
       "<style scoped>\n",
       "    .dataframe tbody tr th:only-of-type {\n",
       "        vertical-align: middle;\n",
       "    }\n",
       "\n",
       "    .dataframe tbody tr th {\n",
       "        vertical-align: top;\n",
       "    }\n",
       "\n",
       "    .dataframe thead th {\n",
       "        text-align: right;\n",
       "    }\n",
       "</style>\n",
       "<table border=\"1\" class=\"dataframe\">\n",
       "  <thead>\n",
       "    <tr style=\"text-align: right;\">\n",
       "      <th></th>\n",
       "      <th>dep</th>\n",
       "      <th>jour</th>\n",
       "      <th>P</th>\n",
       "      <th>T</th>\n",
       "      <th>cl_age90</th>\n",
       "      <th>pop</th>\n",
       "    </tr>\n",
       "  </thead>\n",
       "  <tbody>\n",
       "    <tr>\n",
       "      <th>3923</th>\n",
       "      <td>02</td>\n",
       "      <td>2020-06-04</td>\n",
       "      <td>0</td>\n",
       "      <td>34</td>\n",
       "      <td>79</td>\n",
       "      <td>45371.0</td>\n",
       "    </tr>\n",
       "    <tr>\n",
       "      <th>282669</th>\n",
       "      <td>76</td>\n",
       "      <td>2021-03-22</td>\n",
       "      <td>157</td>\n",
       "      <td>1534</td>\n",
       "      <td>29</td>\n",
       "      <td>142048.0</td>\n",
       "    </tr>\n",
       "    <tr>\n",
       "      <th>22813</th>\n",
       "      <td>07</td>\n",
       "      <td>2020-07-21</td>\n",
       "      <td>2</td>\n",
       "      <td>259</td>\n",
       "      <td>0</td>\n",
       "      <td>326875.0</td>\n",
       "    </tr>\n",
       "  </tbody>\n",
       "</table>\n",
       "</div>"
      ],
      "text/plain": [
       "       dep       jour    P     T  cl_age90       pop\n",
       "3923    02 2020-06-04    0    34        79   45371.0\n",
       "282669  76 2021-03-22  157  1534        29  142048.0\n",
       "22813   07 2020-07-21    2   259         0  326875.0"
      ]
     },
     "execution_count": 5,
     "metadata": {},
     "output_type": "execute_result"
    }
   ],
   "source": [
    "print(d_tests_1.shape)\n",
    "d_tests_1.sample(3)"
   ]
  },
  {
   "cell_type": "code",
   "execution_count": 6,
   "metadata": {},
   "outputs": [
    {
     "name": "stdout",
     "output_type": "stream",
     "text": [
      "(154976, 6)\n"
     ]
    },
    {
     "data": {
      "text/html": [
       "<div>\n",
       "<style scoped>\n",
       "    .dataframe tbody tr th:only-of-type {\n",
       "        vertical-align: middle;\n",
       "    }\n",
       "\n",
       "    .dataframe tbody tr th {\n",
       "        vertical-align: top;\n",
       "    }\n",
       "\n",
       "    .dataframe thead th {\n",
       "        text-align: right;\n",
       "    }\n",
       "</style>\n",
       "<table border=\"1\" class=\"dataframe\">\n",
       "  <thead>\n",
       "    <tr style=\"text-align: right;\">\n",
       "      <th></th>\n",
       "      <th>entity</th>\n",
       "      <th>three_class</th>\n",
       "      <th>jour</th>\n",
       "      <th>P</th>\n",
       "      <th>T</th>\n",
       "      <th>pop</th>\n",
       "    </tr>\n",
       "  </thead>\n",
       "  <tbody>\n",
       "    <tr>\n",
       "      <th>6979</th>\n",
       "      <td>06</td>\n",
       "      <td>whole</td>\n",
       "      <td>2020-07-26</td>\n",
       "      <td>8</td>\n",
       "      <td>247</td>\n",
       "      <td>1079396.0</td>\n",
       "    </tr>\n",
       "    <tr>\n",
       "      <th>143146</th>\n",
       "      <td>Grand Est</td>\n",
       "      <td>60+</td>\n",
       "      <td>2020-06-30</td>\n",
       "      <td>15</td>\n",
       "      <td>2070</td>\n",
       "      <td>1512834.0</td>\n",
       "    </tr>\n",
       "    <tr>\n",
       "      <th>121631</th>\n",
       "      <td>91</td>\n",
       "      <td>whole</td>\n",
       "      <td>2020-05-26</td>\n",
       "      <td>13</td>\n",
       "      <td>1065</td>\n",
       "      <td>1319401.0</td>\n",
       "    </tr>\n",
       "  </tbody>\n",
       "</table>\n",
       "</div>"
      ],
      "text/plain": [
       "           entity three_class       jour   P     T        pop\n",
       "6979           06       whole 2020-07-26   8   247  1079396.0\n",
       "143146  Grand Est         60+ 2020-06-30  15  2070  1512834.0\n",
       "121631         91       whole 2020-05-26  13  1065  1319401.0"
      ]
     },
     "execution_count": 6,
     "metadata": {},
     "output_type": "execute_result"
    }
   ],
   "source": [
    "print(d_tests_2.shape)\n",
    "d_tests_2.sample(3)"
   ]
  },
  {
   "cell_type": "code",
   "execution_count": 7,
   "metadata": {},
   "outputs": [
    {
     "name": "stdout",
     "output_type": "stream",
     "text": [
      "(154976, 11)\n"
     ]
    },
    {
     "data": {
      "text/html": [
       "<div>\n",
       "<style scoped>\n",
       "    .dataframe tbody tr th:only-of-type {\n",
       "        vertical-align: middle;\n",
       "    }\n",
       "\n",
       "    .dataframe tbody tr th {\n",
       "        vertical-align: top;\n",
       "    }\n",
       "\n",
       "    .dataframe thead th {\n",
       "        text-align: right;\n",
       "    }\n",
       "</style>\n",
       "<table border=\"1\" class=\"dataframe\">\n",
       "  <thead>\n",
       "    <tr style=\"text-align: right;\">\n",
       "      <th></th>\n",
       "      <th>entity</th>\n",
       "      <th>three_class</th>\n",
       "      <th>jour</th>\n",
       "      <th>P</th>\n",
       "      <th>T</th>\n",
       "      <th>pop</th>\n",
       "      <th>P hebdo</th>\n",
       "      <th>T hebdo</th>\n",
       "      <th>incidence hebdo</th>\n",
       "      <th>taux de positifs hebdo</th>\n",
       "      <th>taux de tests hebdo</th>\n",
       "    </tr>\n",
       "  </thead>\n",
       "  <tbody>\n",
       "    <tr>\n",
       "      <th>42839</th>\n",
       "      <td>32</td>\n",
       "      <td>whole</td>\n",
       "      <td>2020-06-03</td>\n",
       "      <td>0</td>\n",
       "      <td>140</td>\n",
       "      <td>190040.0</td>\n",
       "      <td>14.0</td>\n",
       "      <td>878.0</td>\n",
       "      <td>7.366870</td>\n",
       "      <td>1.594533</td>\n",
       "      <td>462.007998</td>\n",
       "    </tr>\n",
       "    <tr>\n",
       "      <th>2805</th>\n",
       "      <td>03</td>\n",
       "      <td>30-59</td>\n",
       "      <td>2020-06-15</td>\n",
       "      <td>0</td>\n",
       "      <td>98</td>\n",
       "      <td>118653.0</td>\n",
       "      <td>1.0</td>\n",
       "      <td>349.0</td>\n",
       "      <td>0.842794</td>\n",
       "      <td>0.286533</td>\n",
       "      <td>294.134999</td>\n",
       "    </tr>\n",
       "    <tr>\n",
       "      <th>10235</th>\n",
       "      <td>08</td>\n",
       "      <td>whole</td>\n",
       "      <td>2020-12-19</td>\n",
       "      <td>94</td>\n",
       "      <td>2216</td>\n",
       "      <td>265531.0</td>\n",
       "      <td>880.0</td>\n",
       "      <td>15425.0</td>\n",
       "      <td>331.411398</td>\n",
       "      <td>5.705024</td>\n",
       "      <td>5809.114567</td>\n",
       "    </tr>\n",
       "  </tbody>\n",
       "</table>\n",
       "</div>"
      ],
      "text/plain": [
       "      entity three_class       jour   P     T       pop  P hebdo  T hebdo  \\\n",
       "42839     32       whole 2020-06-03   0   140  190040.0     14.0    878.0   \n",
       "2805      03       30-59 2020-06-15   0    98  118653.0      1.0    349.0   \n",
       "10235     08       whole 2020-12-19  94  2216  265531.0    880.0  15425.0   \n",
       "\n",
       "       incidence hebdo  taux de positifs hebdo  taux de tests hebdo  \n",
       "42839         7.366870                1.594533           462.007998  \n",
       "2805          0.842794                0.286533           294.134999  \n",
       "10235       331.411398                5.705024          5809.114567  "
      ]
     },
     "execution_count": 7,
     "metadata": {},
     "output_type": "execute_result"
    }
   ],
   "source": [
    "print(d_tests_3.shape)\n",
    "d_tests_3.sample(3)"
   ]
  },
  {
   "cell_type": "markdown",
   "metadata": {},
   "source": [
    "# Données hospitalières"
   ]
  },
  {
   "cell_type": "code",
   "execution_count": 8,
   "metadata": {},
   "outputs": [
    {
     "name": "stdout",
     "output_type": "stream",
     "text": [
      "../Data/donnees-hospitalieres-classe-age-covid19-2021-04-14-18h08.csv\n",
      "../Temp/v4/donnees-hospitalieres-classe-age-covid19-2021-04-14-18h08-3C-compute.csv\n"
     ]
    }
   ],
   "source": [
    "d_hosp_1, path_temp = cc.hosp_input()\n",
    "d_hosp_2 = cc.hosp_3C(d_hosp_1)\n",
    "d_hosp_3 = cc.hosp_compute(d_hosp_2)\n",
    "\n",
    "dout = d_hosp_3\n",
    "fname = path_temp + '-3C-compute.csv'\n",
    "dout.to_csv(fname, sep = ';', index = False)\n",
    "print(fname)"
   ]
  },
  {
   "cell_type": "code",
   "execution_count": 9,
   "metadata": {},
   "outputs": [
    {
     "name": "stdout",
     "output_type": "stream",
     "text": [
      "(77814, 10)\n"
     ]
    },
    {
     "data": {
      "text/html": [
       "<div>\n",
       "<style scoped>\n",
       "    .dataframe tbody tr th:only-of-type {\n",
       "        vertical-align: middle;\n",
       "    }\n",
       "\n",
       "    .dataframe tbody tr th {\n",
       "        vertical-align: top;\n",
       "    }\n",
       "\n",
       "    .dataframe thead th {\n",
       "        text-align: right;\n",
       "    }\n",
       "</style>\n",
       "<table border=\"1\" class=\"dataframe\">\n",
       "  <thead>\n",
       "    <tr style=\"text-align: right;\">\n",
       "      <th></th>\n",
       "      <th>jour</th>\n",
       "      <th>hosp</th>\n",
       "      <th>rea</th>\n",
       "      <th>HospConv</th>\n",
       "      <th>SSR_USLD</th>\n",
       "      <th>autres</th>\n",
       "      <th>rad</th>\n",
       "      <th>dc</th>\n",
       "      <th>entity</th>\n",
       "      <th>three_class</th>\n",
       "    </tr>\n",
       "  </thead>\n",
       "  <tbody>\n",
       "    <tr>\n",
       "      <th>60716</th>\n",
       "      <td>2021-01-18</td>\n",
       "      <td>98</td>\n",
       "      <td>27</td>\n",
       "      <td>NaN</td>\n",
       "      <td>NaN</td>\n",
       "      <td>NaN</td>\n",
       "      <td>1060</td>\n",
       "      <td>129</td>\n",
       "      <td>Pays de la Loire</td>\n",
       "      <td>60+</td>\n",
       "    </tr>\n",
       "    <tr>\n",
       "      <th>31042</th>\n",
       "      <td>2020-08-21</td>\n",
       "      <td>97</td>\n",
       "      <td>14</td>\n",
       "      <td>NaN</td>\n",
       "      <td>NaN</td>\n",
       "      <td>NaN</td>\n",
       "      <td>3039</td>\n",
       "      <td>520</td>\n",
       "      <td>Occitanie</td>\n",
       "      <td>whole</td>\n",
       "    </tr>\n",
       "    <tr>\n",
       "      <th>10591</th>\n",
       "      <td>2020-05-10</td>\n",
       "      <td>168</td>\n",
       "      <td>9</td>\n",
       "      <td>NaN</td>\n",
       "      <td>NaN</td>\n",
       "      <td>NaN</td>\n",
       "      <td>197</td>\n",
       "      <td>143</td>\n",
       "      <td>Normandie</td>\n",
       "      <td>60+</td>\n",
       "    </tr>\n",
       "  </tbody>\n",
       "</table>\n",
       "</div>"
      ],
      "text/plain": [
       "            jour  hosp  rea  HospConv  SSR_USLD  autres   rad   dc  \\\n",
       "60716 2021-01-18    98   27       NaN       NaN     NaN  1060  129   \n",
       "31042 2020-08-21    97   14       NaN       NaN     NaN  3039  520   \n",
       "10591 2020-05-10   168    9       NaN       NaN     NaN   197  143   \n",
       "\n",
       "                 entity three_class  \n",
       "60716  Pays de la Loire         60+  \n",
       "31042         Occitanie       whole  \n",
       "10591         Normandie         60+  "
      ]
     },
     "execution_count": 9,
     "metadata": {},
     "output_type": "execute_result"
    }
   ],
   "source": [
    "print(d_hosp_1.shape)\n",
    "d_hosp_1.sample(3)"
   ]
  },
  {
   "cell_type": "code",
   "execution_count": 10,
   "metadata": {},
   "outputs": [
    {
     "name": "stdout",
     "output_type": "stream",
     "text": [
      "(23580, 6)\n"
     ]
    },
    {
     "data": {
      "text/html": [
       "<div>\n",
       "<style scoped>\n",
       "    .dataframe tbody tr th:only-of-type {\n",
       "        vertical-align: middle;\n",
       "    }\n",
       "\n",
       "    .dataframe tbody tr th {\n",
       "        vertical-align: top;\n",
       "    }\n",
       "\n",
       "    .dataframe thead th {\n",
       "        text-align: right;\n",
       "    }\n",
       "</style>\n",
       "<table border=\"1\" class=\"dataframe\">\n",
       "  <thead>\n",
       "    <tr style=\"text-align: right;\">\n",
       "      <th></th>\n",
       "      <th>entity</th>\n",
       "      <th>three_class</th>\n",
       "      <th>jour</th>\n",
       "      <th>hosp</th>\n",
       "      <th>rea</th>\n",
       "      <th>dc</th>\n",
       "    </tr>\n",
       "  </thead>\n",
       "  <tbody>\n",
       "    <tr>\n",
       "      <th>4621</th>\n",
       "      <td>Bretagne</td>\n",
       "      <td>30-59</td>\n",
       "      <td>2021-03-22</td>\n",
       "      <td>112</td>\n",
       "      <td>25</td>\n",
       "      <td>34</td>\n",
       "    </tr>\n",
       "    <tr>\n",
       "      <th>11510</th>\n",
       "      <td>Normandie</td>\n",
       "      <td>60+</td>\n",
       "      <td>2020-07-22</td>\n",
       "      <td>166</td>\n",
       "      <td>3</td>\n",
       "      <td>411</td>\n",
       "    </tr>\n",
       "    <tr>\n",
       "      <th>8764</th>\n",
       "      <td>Grand Est</td>\n",
       "      <td>0-29</td>\n",
       "      <td>2020-10-30</td>\n",
       "      <td>13</td>\n",
       "      <td>0</td>\n",
       "      <td>3</td>\n",
       "    </tr>\n",
       "  </tbody>\n",
       "</table>\n",
       "</div>"
      ],
      "text/plain": [
       "          entity three_class       jour  hosp  rea   dc\n",
       "4621    Bretagne       30-59 2021-03-22   112   25   34\n",
       "11510  Normandie         60+ 2020-07-22   166    3  411\n",
       "8764   Grand Est        0-29 2020-10-30    13    0    3"
      ]
     },
     "execution_count": 10,
     "metadata": {},
     "output_type": "execute_result"
    }
   ],
   "source": [
    "print(d_hosp_2.shape)\n",
    "d_hosp_2.sample(3)"
   ]
  },
  {
   "cell_type": "code",
   "execution_count": 11,
   "metadata": {},
   "outputs": [
    {
     "name": "stdout",
     "output_type": "stream",
     "text": [
      "(23580, 10)\n"
     ]
    },
    {
     "data": {
      "text/html": [
       "<div>\n",
       "<style scoped>\n",
       "    .dataframe tbody tr th:only-of-type {\n",
       "        vertical-align: middle;\n",
       "    }\n",
       "\n",
       "    .dataframe tbody tr th {\n",
       "        vertical-align: top;\n",
       "    }\n",
       "\n",
       "    .dataframe thead th {\n",
       "        text-align: right;\n",
       "    }\n",
       "</style>\n",
       "<table border=\"1\" class=\"dataframe\">\n",
       "  <thead>\n",
       "    <tr style=\"text-align: right;\">\n",
       "      <th></th>\n",
       "      <th>entity</th>\n",
       "      <th>three_class</th>\n",
       "      <th>jour</th>\n",
       "      <th>hosp</th>\n",
       "      <th>rea</th>\n",
       "      <th>dc</th>\n",
       "      <th>dc hebdo</th>\n",
       "      <th>taux hosp</th>\n",
       "      <th>taux rea</th>\n",
       "      <th>taux décès</th>\n",
       "    </tr>\n",
       "  </thead>\n",
       "  <tbody>\n",
       "    <tr>\n",
       "      <th>1814</th>\n",
       "      <td>Bourgogne-Franche-Comté</td>\n",
       "      <td>60+</td>\n",
       "      <td>2020-05-17</td>\n",
       "      <td>729</td>\n",
       "      <td>78</td>\n",
       "      <td>928</td>\n",
       "      <td>30.0</td>\n",
       "      <td>85.871085</td>\n",
       "      <td>9.187853</td>\n",
       "      <td>3.533790</td>\n",
       "    </tr>\n",
       "    <tr>\n",
       "      <th>4106</th>\n",
       "      <td>Bretagne</td>\n",
       "      <td>60+</td>\n",
       "      <td>2020-11-13</td>\n",
       "      <td>623</td>\n",
       "      <td>102</td>\n",
       "      <td>423</td>\n",
       "      <td>46.0</td>\n",
       "      <td>63.232810</td>\n",
       "      <td>10.352723</td>\n",
       "      <td>4.668875</td>\n",
       "    </tr>\n",
       "    <tr>\n",
       "      <th>6873</th>\n",
       "      <td>Corse</td>\n",
       "      <td>30-59</td>\n",
       "      <td>2020-08-11</td>\n",
       "      <td>1</td>\n",
       "      <td>0</td>\n",
       "      <td>2</td>\n",
       "      <td>0.0</td>\n",
       "      <td>0.730999</td>\n",
       "      <td>0.000000</td>\n",
       "      <td>0.000000</td>\n",
       "    </tr>\n",
       "  </tbody>\n",
       "</table>\n",
       "</div>"
      ],
      "text/plain": [
       "                       entity three_class       jour  hosp  rea   dc  \\\n",
       "1814  Bourgogne-Franche-Comté         60+ 2020-05-17   729   78  928   \n",
       "4106                 Bretagne         60+ 2020-11-13   623  102  423   \n",
       "6873                    Corse       30-59 2020-08-11     1    0    2   \n",
       "\n",
       "      dc hebdo  taux hosp   taux rea  taux décès  \n",
       "1814      30.0  85.871085   9.187853    3.533790  \n",
       "4106      46.0  63.232810  10.352723    4.668875  \n",
       "6873       0.0   0.730999   0.000000    0.000000  "
      ]
     },
     "execution_count": 11,
     "metadata": {},
     "output_type": "execute_result"
    }
   ],
   "source": [
    "print(d_hosp_3.shape)\n",
    "d_hosp_3.sample(3)"
   ]
  },
  {
   "cell_type": "markdown",
   "metadata": {},
   "source": [
    "# Données relatives aux personnes vaccinées (VACSI) "
   ]
  },
  {
   "cell_type": "code",
   "execution_count": 12,
   "metadata": {},
   "outputs": [
    {
     "name": "stdout",
     "output_type": "stream",
     "text": [
      "../Data/vacsi-a-dep-2021-04-14-18h08.csv\n",
      "../Temp/v4/vacsi-a-dep-2021-04-14-18h08-tot-3C-compute.csv\n"
     ]
    }
   ],
   "source": [
    "d_vac_1, path_temp = cc.vac_input()\n",
    "d_vac_2 = cc.vac_tot_3C(d_vac_1)\n",
    "d_vac_3 = cc.vac_compute(d_vac_2)\n",
    "\n",
    "dout = d_vac_3\n",
    "fname = path_temp + '-tot-3C-compute.csv'\n",
    "dout.to_csv(fname, sep = ';', index = False)\n",
    "print(fname)"
   ]
  },
  {
   "cell_type": "code",
   "execution_count": 13,
   "metadata": {},
   "outputs": [
    {
     "name": "stdout",
     "output_type": "stream",
     "text": [
      "(125928, 7)\n"
     ]
    },
    {
     "data": {
      "text/html": [
       "<div>\n",
       "<style scoped>\n",
       "    .dataframe tbody tr th:only-of-type {\n",
       "        vertical-align: middle;\n",
       "    }\n",
       "\n",
       "    .dataframe tbody tr th {\n",
       "        vertical-align: top;\n",
       "    }\n",
       "\n",
       "    .dataframe thead th {\n",
       "        text-align: right;\n",
       "    }\n",
       "</style>\n",
       "<table border=\"1\" class=\"dataframe\">\n",
       "  <thead>\n",
       "    <tr style=\"text-align: right;\">\n",
       "      <th></th>\n",
       "      <th>dep</th>\n",
       "      <th>clage_vacsi</th>\n",
       "      <th>jour</th>\n",
       "      <th>n_dose1</th>\n",
       "      <th>n_dose2</th>\n",
       "      <th>n_cum_dose1</th>\n",
       "      <th>n_cum_dose2</th>\n",
       "    </tr>\n",
       "  </thead>\n",
       "  <tbody>\n",
       "    <tr>\n",
       "      <th>53346</th>\n",
       "      <td>48</td>\n",
       "      <td>49</td>\n",
       "      <td>2021-04-08</td>\n",
       "      <td>31</td>\n",
       "      <td>1</td>\n",
       "      <td>889</td>\n",
       "      <td>326</td>\n",
       "    </tr>\n",
       "    <tr>\n",
       "      <th>44865</th>\n",
       "      <td>40</td>\n",
       "      <td>64</td>\n",
       "      <td>2021-02-10</td>\n",
       "      <td>19</td>\n",
       "      <td>34</td>\n",
       "      <td>798</td>\n",
       "      <td>254</td>\n",
       "    </tr>\n",
       "    <tr>\n",
       "      <th>14743</th>\n",
       "      <td>13</td>\n",
       "      <td>69</td>\n",
       "      <td>2021-02-20</td>\n",
       "      <td>21</td>\n",
       "      <td>33</td>\n",
       "      <td>4471</td>\n",
       "      <td>2174</td>\n",
       "    </tr>\n",
       "  </tbody>\n",
       "</table>\n",
       "</div>"
      ],
      "text/plain": [
       "      dep  clage_vacsi       jour  n_dose1  n_dose2  n_cum_dose1  n_cum_dose2\n",
       "53346  48           49 2021-04-08       31        1          889          326\n",
       "44865  40           64 2021-02-10       19       34          798          254\n",
       "14743  13           69 2021-02-20       21       33         4471         2174"
      ]
     },
     "execution_count": 13,
     "metadata": {},
     "output_type": "execute_result"
    }
   ],
   "source": [
    "print(d_vac_1.shape)\n",
    "d_vac_1.sample(3)"
   ]
  },
  {
   "cell_type": "code",
   "execution_count": 14,
   "metadata": {},
   "outputs": [
    {
     "name": "stdout",
     "output_type": "stream",
     "text": [
      "(50112, 7)\n"
     ]
    },
    {
     "data": {
      "text/html": [
       "<div>\n",
       "<style scoped>\n",
       "    .dataframe tbody tr th:only-of-type {\n",
       "        vertical-align: middle;\n",
       "    }\n",
       "\n",
       "    .dataframe tbody tr th {\n",
       "        vertical-align: top;\n",
       "    }\n",
       "\n",
       "    .dataframe thead th {\n",
       "        text-align: right;\n",
       "    }\n",
       "</style>\n",
       "<table border=\"1\" class=\"dataframe\">\n",
       "  <thead>\n",
       "    <tr style=\"text-align: right;\">\n",
       "      <th></th>\n",
       "      <th>entity</th>\n",
       "      <th>three_class</th>\n",
       "      <th>jour</th>\n",
       "      <th>n_dose1</th>\n",
       "      <th>n_dose2</th>\n",
       "      <th>n_cum_dose1</th>\n",
       "      <th>n_cum_dose2</th>\n",
       "    </tr>\n",
       "  </thead>\n",
       "  <tbody>\n",
       "    <tr>\n",
       "      <th>39383</th>\n",
       "      <td>91</td>\n",
       "      <td>whole</td>\n",
       "      <td>2021-01-13</td>\n",
       "      <td>670</td>\n",
       "      <td>0</td>\n",
       "      <td>3326</td>\n",
       "      <td>0</td>\n",
       "    </tr>\n",
       "    <tr>\n",
       "      <th>8932</th>\n",
       "      <td>22</td>\n",
       "      <td>0-29</td>\n",
       "      <td>2021-03-10</td>\n",
       "      <td>41</td>\n",
       "      <td>35</td>\n",
       "      <td>884</td>\n",
       "      <td>196</td>\n",
       "    </tr>\n",
       "    <tr>\n",
       "      <th>31534</th>\n",
       "      <td>72</td>\n",
       "      <td>60+</td>\n",
       "      <td>2021-04-13</td>\n",
       "      <td>1916</td>\n",
       "      <td>942</td>\n",
       "      <td>60176</td>\n",
       "      <td>21493</td>\n",
       "    </tr>\n",
       "  </tbody>\n",
       "</table>\n",
       "</div>"
      ],
      "text/plain": [
       "      entity three_class       jour  n_dose1  n_dose2  n_cum_dose1  \\\n",
       "39383     91       whole 2021-01-13      670        0         3326   \n",
       "8932      22        0-29 2021-03-10       41       35          884   \n",
       "31534     72         60+ 2021-04-13     1916      942        60176   \n",
       "\n",
       "       n_cum_dose2  \n",
       "39383            0  \n",
       "8932           196  \n",
       "31534        21493  "
      ]
     },
     "execution_count": 14,
     "metadata": {},
     "output_type": "execute_result"
    }
   ],
   "source": [
    "print(d_vac_2.shape)\n",
    "d_vac_2.sample(3)"
   ]
  },
  {
   "cell_type": "code",
   "execution_count": 15,
   "metadata": {},
   "outputs": [
    {
     "name": "stdout",
     "output_type": "stream",
     "text": [
      "(50112, 9)\n"
     ]
    },
    {
     "data": {
      "text/html": [
       "<div>\n",
       "<style scoped>\n",
       "    .dataframe tbody tr th:only-of-type {\n",
       "        vertical-align: middle;\n",
       "    }\n",
       "\n",
       "    .dataframe tbody tr th {\n",
       "        vertical-align: top;\n",
       "    }\n",
       "\n",
       "    .dataframe thead th {\n",
       "        text-align: right;\n",
       "    }\n",
       "</style>\n",
       "<table border=\"1\" class=\"dataframe\">\n",
       "  <thead>\n",
       "    <tr style=\"text-align: right;\">\n",
       "      <th></th>\n",
       "      <th>entity</th>\n",
       "      <th>three_class</th>\n",
       "      <th>jour</th>\n",
       "      <th>n_dose1</th>\n",
       "      <th>n_dose2</th>\n",
       "      <th>n_cum_dose1</th>\n",
       "      <th>n_cum_dose2</th>\n",
       "      <th>taux dose 1</th>\n",
       "      <th>taux dose 2</th>\n",
       "    </tr>\n",
       "  </thead>\n",
       "  <tbody>\n",
       "    <tr>\n",
       "      <th>19227</th>\n",
       "      <td>44</td>\n",
       "      <td>whole</td>\n",
       "      <td>2021-02-19</td>\n",
       "      <td>1576</td>\n",
       "      <td>2496</td>\n",
       "      <td>51495</td>\n",
       "      <td>27329</td>\n",
       "      <td>3.583166</td>\n",
       "      <td>1.901628</td>\n",
       "    </tr>\n",
       "    <tr>\n",
       "      <th>8483</th>\n",
       "      <td>21</td>\n",
       "      <td>whole</td>\n",
       "      <td>2021-03-05</td>\n",
       "      <td>2069</td>\n",
       "      <td>525</td>\n",
       "      <td>36366</td>\n",
       "      <td>22144</td>\n",
       "      <td>6.824349</td>\n",
       "      <td>4.155485</td>\n",
       "    </tr>\n",
       "    <tr>\n",
       "      <th>17153</th>\n",
       "      <td>39</td>\n",
       "      <td>30-59</td>\n",
       "      <td>2021-03-13</td>\n",
       "      <td>118</td>\n",
       "      <td>4</td>\n",
       "      <td>5693</td>\n",
       "      <td>3469</td>\n",
       "      <td>5.864659</td>\n",
       "      <td>3.573599</td>\n",
       "    </tr>\n",
       "  </tbody>\n",
       "</table>\n",
       "</div>"
      ],
      "text/plain": [
       "      entity three_class       jour  n_dose1  n_dose2  n_cum_dose1  \\\n",
       "19227     44       whole 2021-02-19     1576     2496        51495   \n",
       "8483      21       whole 2021-03-05     2069      525        36366   \n",
       "17153     39       30-59 2021-03-13      118        4         5693   \n",
       "\n",
       "       n_cum_dose2  taux dose 1  taux dose 2  \n",
       "19227        27329     3.583166     1.901628  \n",
       "8483         22144     6.824349     4.155485  \n",
       "17153         3469     5.864659     3.573599  "
      ]
     },
     "execution_count": 15,
     "metadata": {},
     "output_type": "execute_result"
    }
   ],
   "source": [
    "print(d_vac_3.shape)\n",
    "d_vac_3.sample(3)"
   ]
  },
  {
   "cell_type": "code",
   "execution_count": 16,
   "metadata": {},
   "outputs": [
    {
     "name": "stdout",
     "output_type": "stream",
     "text": [
      "5.9739158153533936  s\n"
     ]
    }
   ],
   "source": [
    "toc = time()\n",
    "print(-tic+toc, ' s')"
   ]
  }
 ],
 "metadata": {
  "kernelspec": {
   "display_name": "Python 3",
   "language": "python",
   "name": "python3"
  },
  "language_info": {
   "codemirror_mode": {
    "name": "ipython",
    "version": 3
   },
   "file_extension": ".py",
   "mimetype": "text/x-python",
   "name": "python",
   "nbconvert_exporter": "python",
   "pygments_lexer": "ipython3",
   "version": "3.7.3"
  }
 },
 "nbformat": 4,
 "nbformat_minor": 2
}
