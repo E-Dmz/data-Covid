{
 "cells": [
  {
   "cell_type": "code",
   "execution_count": 1,
   "metadata": {},
   "outputs": [],
   "source": [
    "import pandas as pd\n",
    "from time import time"
   ]
  },
  {
   "cell_type": "code",
   "execution_count": 2,
   "metadata": {},
   "outputs": [
    {
     "name": "stdout",
     "output_type": "stream",
     "text": [
      "Today is 15/04/2021. Retrieve data from how many days? 0\n",
      "Ok, will retrieve data from 15/04/2021\n"
     ]
    }
   ],
   "source": [
    "import my_package.v4_dicts as dc\n",
    "import my_package.v4_datepaths as dp\n",
    "import my_package.v4_calculus as cc"
   ]
  },
  {
   "cell_type": "markdown",
   "metadata": {},
   "source": [
    "https://www.data.gouv.fr/fr/datasets/donnees-relatives-aux-resultats-des-tests-virologiques-covid-19/\n",
    "\n",
    "https://www.data.gouv.fr/fr/datasets/donnees-hospitalieres-relatives-a-lepidemie-de-covid-19/\n",
    "\n",
    "https://www.data.gouv.fr/fr/datasets/donnees-relatives-aux-personnes-vaccinees-contre-la-covid-19-1/"
   ]
  },
  {
   "cell_type": "markdown",
   "metadata": {},
   "source": [
    "# Données relatives aux résultats des tests virologiques"
   ]
  },
  {
   "cell_type": "code",
   "execution_count": 3,
   "metadata": {},
   "outputs": [],
   "source": [
    "tic = time()"
   ]
  },
  {
   "cell_type": "code",
   "execution_count": 4,
   "metadata": {},
   "outputs": [
    {
     "name": "stdout",
     "output_type": "stream",
     "text": [
      "../Data/sp-pos-quot-dep-2021-04-15-19h20.csv\n",
      "./Temp/v4/sp-pos-quot-dep-2021-04-15-19h20-tot-3C-compute.csv\n"
     ]
    }
   ],
   "source": [
    "d_tests_1, path_temp = cc.sp_input()\n",
    "d_tests_2 = cc.sp_tot_3C(d_tests_1)\n",
    "d_tests_3 = cc.sp_compute(d_tests_2)\n",
    "\n",
    "dout = d_tests_3\n",
    "fname = path_temp + '-tot-3C-compute.csv'\n",
    "dout.to_csv(fname, sep = ';', index = False)\n",
    "print(fname)"
   ]
  },
  {
   "cell_type": "code",
   "execution_count": 5,
   "metadata": {},
   "outputs": [
    {
     "name": "stdout",
     "output_type": "stream",
     "text": [
      "(383240, 6)\n"
     ]
    },
    {
     "data": {
      "text/html": [
       "<div>\n",
       "<style scoped>\n",
       "    .dataframe tbody tr th:only-of-type {\n",
       "        vertical-align: middle;\n",
       "    }\n",
       "\n",
       "    .dataframe tbody tr th {\n",
       "        vertical-align: top;\n",
       "    }\n",
       "\n",
       "    .dataframe thead th {\n",
       "        text-align: right;\n",
       "    }\n",
       "</style>\n",
       "<table border=\"1\" class=\"dataframe\">\n",
       "  <thead>\n",
       "    <tr style=\"text-align: right;\">\n",
       "      <th></th>\n",
       "      <th>dep</th>\n",
       "      <th>jour</th>\n",
       "      <th>P</th>\n",
       "      <th>T</th>\n",
       "      <th>cl_age90</th>\n",
       "      <th>pop</th>\n",
       "    </tr>\n",
       "  </thead>\n",
       "  <tbody>\n",
       "    <tr>\n",
       "      <th>203329</th>\n",
       "      <td>55</td>\n",
       "      <td>2020-07-11</td>\n",
       "      <td>0</td>\n",
       "      <td>13</td>\n",
       "      <td>59</td>\n",
       "      <td>25507.0</td>\n",
       "    </tr>\n",
       "    <tr>\n",
       "      <th>329425</th>\n",
       "      <td>89</td>\n",
       "      <td>2020-09-22</td>\n",
       "      <td>4</td>\n",
       "      <td>62</td>\n",
       "      <td>89</td>\n",
       "      <td>19687.0</td>\n",
       "    </tr>\n",
       "    <tr>\n",
       "      <th>323374</th>\n",
       "      <td>87</td>\n",
       "      <td>2021-01-20</td>\n",
       "      <td>8</td>\n",
       "      <td>86</td>\n",
       "      <td>79</td>\n",
       "      <td>38447.0</td>\n",
       "    </tr>\n",
       "  </tbody>\n",
       "</table>\n",
       "</div>"
      ],
      "text/plain": [
       "       dep       jour  P   T  cl_age90      pop\n",
       "203329  55 2020-07-11  0  13        59  25507.0\n",
       "329425  89 2020-09-22  4  62        89  19687.0\n",
       "323374  87 2021-01-20  8  86        79  38447.0"
      ]
     },
     "execution_count": 5,
     "metadata": {},
     "output_type": "execute_result"
    }
   ],
   "source": [
    "print(d_tests_1.shape)\n",
    "d_tests_1.sample(3)"
   ]
  },
  {
   "cell_type": "code",
   "execution_count": 6,
   "metadata": {},
   "outputs": [
    {
     "name": "stdout",
     "output_type": "stream",
     "text": [
      "(155440, 6)\n"
     ]
    },
    {
     "data": {
      "text/html": [
       "<div>\n",
       "<style scoped>\n",
       "    .dataframe tbody tr th:only-of-type {\n",
       "        vertical-align: middle;\n",
       "    }\n",
       "\n",
       "    .dataframe tbody tr th {\n",
       "        vertical-align: top;\n",
       "    }\n",
       "\n",
       "    .dataframe thead th {\n",
       "        text-align: right;\n",
       "    }\n",
       "</style>\n",
       "<table border=\"1\" class=\"dataframe\">\n",
       "  <thead>\n",
       "    <tr style=\"text-align: right;\">\n",
       "      <th></th>\n",
       "      <th>entity</th>\n",
       "      <th>three_class</th>\n",
       "      <th>jour</th>\n",
       "      <th>P</th>\n",
       "      <th>T</th>\n",
       "      <th>pop</th>\n",
       "    </tr>\n",
       "  </thead>\n",
       "  <tbody>\n",
       "    <tr>\n",
       "      <th>75529</th>\n",
       "      <td>56</td>\n",
       "      <td>30-59</td>\n",
       "      <td>2020-09-12</td>\n",
       "      <td>13</td>\n",
       "      <td>373</td>\n",
       "      <td>278704.0</td>\n",
       "    </tr>\n",
       "    <tr>\n",
       "      <th>144163</th>\n",
       "      <td>Grand Est</td>\n",
       "      <td>whole</td>\n",
       "      <td>2020-11-24</td>\n",
       "      <td>1391</td>\n",
       "      <td>20134</td>\n",
       "      <td>5511747.0</td>\n",
       "    </tr>\n",
       "    <tr>\n",
       "      <th>88432</th>\n",
       "      <td>65</td>\n",
       "      <td>0-29</td>\n",
       "      <td>2021-04-11</td>\n",
       "      <td>3</td>\n",
       "      <td>10</td>\n",
       "      <td>64264.0</td>\n",
       "    </tr>\n",
       "  </tbody>\n",
       "</table>\n",
       "</div>"
      ],
      "text/plain": [
       "           entity three_class       jour     P      T        pop\n",
       "75529          56       30-59 2020-09-12    13    373   278704.0\n",
       "144163  Grand Est       whole 2020-11-24  1391  20134  5511747.0\n",
       "88432          65        0-29 2021-04-11     3     10    64264.0"
      ]
     },
     "execution_count": 6,
     "metadata": {},
     "output_type": "execute_result"
    }
   ],
   "source": [
    "print(d_tests_2.shape)\n",
    "d_tests_2.sample(3)"
   ]
  },
  {
   "cell_type": "code",
   "execution_count": 7,
   "metadata": {},
   "outputs": [
    {
     "name": "stdout",
     "output_type": "stream",
     "text": [
      "(155440, 11)\n"
     ]
    },
    {
     "data": {
      "text/html": [
       "<div>\n",
       "<style scoped>\n",
       "    .dataframe tbody tr th:only-of-type {\n",
       "        vertical-align: middle;\n",
       "    }\n",
       "\n",
       "    .dataframe tbody tr th {\n",
       "        vertical-align: top;\n",
       "    }\n",
       "\n",
       "    .dataframe thead th {\n",
       "        text-align: right;\n",
       "    }\n",
       "</style>\n",
       "<table border=\"1\" class=\"dataframe\">\n",
       "  <thead>\n",
       "    <tr style=\"text-align: right;\">\n",
       "      <th></th>\n",
       "      <th>entity</th>\n",
       "      <th>three_class</th>\n",
       "      <th>jour</th>\n",
       "      <th>P</th>\n",
       "      <th>T</th>\n",
       "      <th>pop</th>\n",
       "      <th>P hebdo</th>\n",
       "      <th>T hebdo</th>\n",
       "      <th>incidence hebdo</th>\n",
       "      <th>taux de positifs hebdo</th>\n",
       "      <th>taux de tests hebdo</th>\n",
       "    </tr>\n",
       "  </thead>\n",
       "  <tbody>\n",
       "    <tr>\n",
       "      <th>58754</th>\n",
       "      <td>43</td>\n",
       "      <td>60+</td>\n",
       "      <td>2021-02-20</td>\n",
       "      <td>6</td>\n",
       "      <td>176</td>\n",
       "      <td>73091.0</td>\n",
       "      <td>75.0</td>\n",
       "      <td>1350.0</td>\n",
       "      <td>102.611813</td>\n",
       "      <td>5.555556</td>\n",
       "      <td>1847.012628</td>\n",
       "    </tr>\n",
       "    <tr>\n",
       "      <th>134480</th>\n",
       "      <td>976</td>\n",
       "      <td>0-29</td>\n",
       "      <td>2020-09-10</td>\n",
       "      <td>12</td>\n",
       "      <td>129</td>\n",
       "      <td>186908.0</td>\n",
       "      <td>75.0</td>\n",
       "      <td>987.0</td>\n",
       "      <td>40.126693</td>\n",
       "      <td>7.598784</td>\n",
       "      <td>528.067284</td>\n",
       "    </tr>\n",
       "    <tr>\n",
       "      <th>34029</th>\n",
       "      <td>27</td>\n",
       "      <td>30-59</td>\n",
       "      <td>2020-09-22</td>\n",
       "      <td>42</td>\n",
       "      <td>521</td>\n",
       "      <td>234082.0</td>\n",
       "      <td>191.0</td>\n",
       "      <td>2906.0</td>\n",
       "      <td>81.595338</td>\n",
       "      <td>6.572608</td>\n",
       "      <td>1241.445305</td>\n",
       "    </tr>\n",
       "  </tbody>\n",
       "</table>\n",
       "</div>"
      ],
      "text/plain": [
       "       entity three_class       jour   P    T       pop  P hebdo  T hebdo  \\\n",
       "58754      43         60+ 2021-02-20   6  176   73091.0     75.0   1350.0   \n",
       "134480    976        0-29 2020-09-10  12  129  186908.0     75.0    987.0   \n",
       "34029      27       30-59 2020-09-22  42  521  234082.0    191.0   2906.0   \n",
       "\n",
       "        incidence hebdo  taux de positifs hebdo  taux de tests hebdo  \n",
       "58754        102.611813                5.555556          1847.012628  \n",
       "134480        40.126693                7.598784           528.067284  \n",
       "34029         81.595338                6.572608          1241.445305  "
      ]
     },
     "execution_count": 7,
     "metadata": {},
     "output_type": "execute_result"
    }
   ],
   "source": [
    "print(d_tests_3.shape)\n",
    "d_tests_3.sample(3)"
   ]
  },
  {
   "cell_type": "markdown",
   "metadata": {},
   "source": [
    "# Données hospitalières"
   ]
  },
  {
   "cell_type": "code",
   "execution_count": 8,
   "metadata": {},
   "outputs": [
    {
     "name": "stdout",
     "output_type": "stream",
     "text": [
      "../Data/donnees-hospitalieres-classe-age-covid19-2021-04-15-19h15.csv\n",
      "./Temp/v4/donnees-hospitalieres-classe-age-covid19-2021-04-15-19h15-3C-compute.csv\n"
     ]
    }
   ],
   "source": [
    "d_hosp_1, path_temp = cc.hosp_input()\n",
    "d_hosp_2 = cc.hosp_3C(d_hosp_1)\n",
    "d_hosp_3 = cc.hosp_compute(d_hosp_2)\n",
    "\n",
    "dout = d_hosp_3\n",
    "fname = path_temp + '-3C-compute.csv'\n",
    "dout.to_csv(fname, sep = ';', index = False)\n",
    "print(fname)"
   ]
  },
  {
   "cell_type": "code",
   "execution_count": 9,
   "metadata": {},
   "outputs": [
    {
     "name": "stdout",
     "output_type": "stream",
     "text": [
      "(78012, 10)\n"
     ]
    },
    {
     "data": {
      "text/html": [
       "<div>\n",
       "<style scoped>\n",
       "    .dataframe tbody tr th:only-of-type {\n",
       "        vertical-align: middle;\n",
       "    }\n",
       "\n",
       "    .dataframe tbody tr th {\n",
       "        vertical-align: top;\n",
       "    }\n",
       "\n",
       "    .dataframe thead th {\n",
       "        text-align: right;\n",
       "    }\n",
       "</style>\n",
       "<table border=\"1\" class=\"dataframe\">\n",
       "  <thead>\n",
       "    <tr style=\"text-align: right;\">\n",
       "      <th></th>\n",
       "      <th>jour</th>\n",
       "      <th>hosp</th>\n",
       "      <th>rea</th>\n",
       "      <th>HospConv</th>\n",
       "      <th>SSR_USLD</th>\n",
       "      <th>autres</th>\n",
       "      <th>rad</th>\n",
       "      <th>dc</th>\n",
       "      <th>entity</th>\n",
       "      <th>three_class</th>\n",
       "    </tr>\n",
       "  </thead>\n",
       "  <tbody>\n",
       "    <tr>\n",
       "      <th>44659</th>\n",
       "      <td>2020-10-29</td>\n",
       "      <td>304</td>\n",
       "      <td>2</td>\n",
       "      <td>NaN</td>\n",
       "      <td>NaN</td>\n",
       "      <td>NaN</td>\n",
       "      <td>829</td>\n",
       "      <td>501</td>\n",
       "      <td>Hauts-de-France</td>\n",
       "      <td>60+</td>\n",
       "    </tr>\n",
       "    <tr>\n",
       "      <th>3481</th>\n",
       "      <td>2020-04-04</td>\n",
       "      <td>233</td>\n",
       "      <td>71</td>\n",
       "      <td>NaN</td>\n",
       "      <td>NaN</td>\n",
       "      <td>NaN</td>\n",
       "      <td>277</td>\n",
       "      <td>12</td>\n",
       "      <td>Grand Est</td>\n",
       "      <td>30-59</td>\n",
       "    </tr>\n",
       "    <tr>\n",
       "      <th>40831</th>\n",
       "      <td>2020-10-10</td>\n",
       "      <td>0</td>\n",
       "      <td>0</td>\n",
       "      <td>NaN</td>\n",
       "      <td>NaN</td>\n",
       "      <td>NaN</td>\n",
       "      <td>3</td>\n",
       "      <td>0</td>\n",
       "      <td>Outre-mer (DROM)</td>\n",
       "      <td>60+</td>\n",
       "    </tr>\n",
       "  </tbody>\n",
       "</table>\n",
       "</div>"
      ],
      "text/plain": [
       "            jour  hosp  rea  HospConv  SSR_USLD  autres  rad   dc  \\\n",
       "44659 2020-10-29   304    2       NaN       NaN     NaN  829  501   \n",
       "3481  2020-04-04   233   71       NaN       NaN     NaN  277   12   \n",
       "40831 2020-10-10     0    0       NaN       NaN     NaN    3    0   \n",
       "\n",
       "                 entity three_class  \n",
       "44659   Hauts-de-France         60+  \n",
       "3481          Grand Est       30-59  \n",
       "40831  Outre-mer (DROM)         60+  "
      ]
     },
     "execution_count": 9,
     "metadata": {},
     "output_type": "execute_result"
    }
   ],
   "source": [
    "print(d_hosp_1.shape)\n",
    "d_hosp_1.sample(3)"
   ]
  },
  {
   "cell_type": "code",
   "execution_count": 10,
   "metadata": {},
   "outputs": [
    {
     "name": "stdout",
     "output_type": "stream",
     "text": [
      "(23640, 6)\n"
     ]
    },
    {
     "data": {
      "text/html": [
       "<div>\n",
       "<style scoped>\n",
       "    .dataframe tbody tr th:only-of-type {\n",
       "        vertical-align: middle;\n",
       "    }\n",
       "\n",
       "    .dataframe tbody tr th {\n",
       "        vertical-align: top;\n",
       "    }\n",
       "\n",
       "    .dataframe thead th {\n",
       "        text-align: right;\n",
       "    }\n",
       "</style>\n",
       "<table border=\"1\" class=\"dataframe\">\n",
       "  <thead>\n",
       "    <tr style=\"text-align: right;\">\n",
       "      <th></th>\n",
       "      <th>entity</th>\n",
       "      <th>three_class</th>\n",
       "      <th>jour</th>\n",
       "      <th>hosp</th>\n",
       "      <th>rea</th>\n",
       "      <th>dc</th>\n",
       "    </tr>\n",
       "  </thead>\n",
       "  <tbody>\n",
       "    <tr>\n",
       "      <th>1608</th>\n",
       "      <td>Bourgogne-Franche-Comté</td>\n",
       "      <td>0-29</td>\n",
       "      <td>2020-03-26</td>\n",
       "      <td>13</td>\n",
       "      <td>1</td>\n",
       "      <td>0</td>\n",
       "    </tr>\n",
       "    <tr>\n",
       "      <th>7487</th>\n",
       "      <td>Corse</td>\n",
       "      <td>whole</td>\n",
       "      <td>2021-01-07</td>\n",
       "      <td>19</td>\n",
       "      <td>8</td>\n",
       "      <td>116</td>\n",
       "    </tr>\n",
       "    <tr>\n",
       "      <th>5684</th>\n",
       "      <td>Centre-Val de Loire</td>\n",
       "      <td>0-29</td>\n",
       "      <td>2020-11-12</td>\n",
       "      <td>17</td>\n",
       "      <td>4</td>\n",
       "      <td>0</td>\n",
       "    </tr>\n",
       "  </tbody>\n",
       "</table>\n",
       "</div>"
      ],
      "text/plain": [
       "                       entity three_class       jour  hosp  rea   dc\n",
       "1608  Bourgogne-Franche-Comté        0-29 2020-03-26    13    1    0\n",
       "7487                    Corse       whole 2021-01-07    19    8  116\n",
       "5684      Centre-Val de Loire        0-29 2020-11-12    17    4    0"
      ]
     },
     "execution_count": 10,
     "metadata": {},
     "output_type": "execute_result"
    }
   ],
   "source": [
    "print(d_hosp_2.shape)\n",
    "d_hosp_2.sample(3)"
   ]
  },
  {
   "cell_type": "code",
   "execution_count": 11,
   "metadata": {},
   "outputs": [
    {
     "name": "stdout",
     "output_type": "stream",
     "text": [
      "(23640, 10)\n"
     ]
    },
    {
     "data": {
      "text/html": [
       "<div>\n",
       "<style scoped>\n",
       "    .dataframe tbody tr th:only-of-type {\n",
       "        vertical-align: middle;\n",
       "    }\n",
       "\n",
       "    .dataframe tbody tr th {\n",
       "        vertical-align: top;\n",
       "    }\n",
       "\n",
       "    .dataframe thead th {\n",
       "        text-align: right;\n",
       "    }\n",
       "</style>\n",
       "<table border=\"1\" class=\"dataframe\">\n",
       "  <thead>\n",
       "    <tr style=\"text-align: right;\">\n",
       "      <th></th>\n",
       "      <th>entity</th>\n",
       "      <th>three_class</th>\n",
       "      <th>jour</th>\n",
       "      <th>hosp</th>\n",
       "      <th>rea</th>\n",
       "      <th>dc</th>\n",
       "      <th>dc hebdo</th>\n",
       "      <th>taux hosp</th>\n",
       "      <th>taux rea</th>\n",
       "      <th>taux décès</th>\n",
       "    </tr>\n",
       "  </thead>\n",
       "  <tbody>\n",
       "    <tr>\n",
       "      <th>9076</th>\n",
       "      <td>Grand Est</td>\n",
       "      <td>0-29</td>\n",
       "      <td>2021-01-11</td>\n",
       "      <td>18</td>\n",
       "      <td>2</td>\n",
       "      <td>3</td>\n",
       "      <td>0.0</td>\n",
       "      <td>0.960220</td>\n",
       "      <td>0.106691</td>\n",
       "      <td>0.000000</td>\n",
       "    </tr>\n",
       "    <tr>\n",
       "      <th>20558</th>\n",
       "      <td>Île-de-France</td>\n",
       "      <td>60+</td>\n",
       "      <td>2020-04-04</td>\n",
       "      <td>7326</td>\n",
       "      <td>1262</td>\n",
       "      <td>1750</td>\n",
       "      <td>1130.0</td>\n",
       "      <td>291.056971</td>\n",
       "      <td>50.138397</td>\n",
       "      <td>44.894127</td>\n",
       "    </tr>\n",
       "    <tr>\n",
       "      <th>10881</th>\n",
       "      <td>Hauts-de-France</td>\n",
       "      <td>30-59</td>\n",
       "      <td>2021-03-09</td>\n",
       "      <td>471</td>\n",
       "      <td>138</td>\n",
       "      <td>256</td>\n",
       "      <td>6.0</td>\n",
       "      <td>20.701959</td>\n",
       "      <td>6.065542</td>\n",
       "      <td>0.263719</td>\n",
       "    </tr>\n",
       "  </tbody>\n",
       "</table>\n",
       "</div>"
      ],
      "text/plain": [
       "                entity three_class       jour  hosp   rea    dc  dc hebdo  \\\n",
       "9076         Grand Est        0-29 2021-01-11    18     2     3       0.0   \n",
       "20558    Île-de-France         60+ 2020-04-04  7326  1262  1750    1130.0   \n",
       "10881  Hauts-de-France       30-59 2021-03-09   471   138   256       6.0   \n",
       "\n",
       "        taux hosp   taux rea  taux décès  \n",
       "9076     0.960220   0.106691    0.000000  \n",
       "20558  291.056971  50.138397   44.894127  \n",
       "10881   20.701959   6.065542    0.263719  "
      ]
     },
     "execution_count": 11,
     "metadata": {},
     "output_type": "execute_result"
    }
   ],
   "source": [
    "print(d_hosp_3.shape)\n",
    "d_hosp_3.sample(3)"
   ]
  },
  {
   "cell_type": "markdown",
   "metadata": {},
   "source": [
    "# Données relatives aux personnes vaccinées (VACSI) "
   ]
  },
  {
   "cell_type": "code",
   "execution_count": 12,
   "metadata": {},
   "outputs": [
    {
     "name": "stdout",
     "output_type": "stream",
     "text": [
      "../Data/vacsi-a-dep-2021-04-15-19h16.csv\n",
      "./Temp/v4/vacsi-a-dep-2021-04-15-19h16-tot-3C-compute.csv\n"
     ]
    }
   ],
   "source": [
    "d_vac_1, path_temp = cc.vac_input()\n",
    "d_vac_2 = cc.vac_tot_3C(d_vac_1)\n",
    "d_vac_3 = cc.vac_compute(d_vac_2)\n",
    "\n",
    "dout = d_vac_3\n",
    "fname = path_temp + '-tot-3C-compute.csv'\n",
    "dout.to_csv(fname, sep = ';', index = False)\n",
    "print(fname)"
   ]
  },
  {
   "cell_type": "code",
   "execution_count": 13,
   "metadata": {},
   "outputs": [
    {
     "name": "stdout",
     "output_type": "stream",
     "text": [
      "(127094, 7)\n"
     ]
    },
    {
     "data": {
      "text/html": [
       "<div>\n",
       "<style scoped>\n",
       "    .dataframe tbody tr th:only-of-type {\n",
       "        vertical-align: middle;\n",
       "    }\n",
       "\n",
       "    .dataframe tbody tr th {\n",
       "        vertical-align: top;\n",
       "    }\n",
       "\n",
       "    .dataframe thead th {\n",
       "        text-align: right;\n",
       "    }\n",
       "</style>\n",
       "<table border=\"1\" class=\"dataframe\">\n",
       "  <thead>\n",
       "    <tr style=\"text-align: right;\">\n",
       "      <th></th>\n",
       "      <th>dep</th>\n",
       "      <th>clage_vacsi</th>\n",
       "      <th>jour</th>\n",
       "      <th>n_dose1</th>\n",
       "      <th>n_dose2</th>\n",
       "      <th>n_cum_dose1</th>\n",
       "      <th>n_cum_dose2</th>\n",
       "    </tr>\n",
       "  </thead>\n",
       "  <tbody>\n",
       "    <tr>\n",
       "      <th>90667</th>\n",
       "      <td>81</td>\n",
       "      <td>29</td>\n",
       "      <td>2021-03-25</td>\n",
       "      <td>14</td>\n",
       "      <td>2</td>\n",
       "      <td>443</td>\n",
       "      <td>97</td>\n",
       "    </tr>\n",
       "    <tr>\n",
       "      <th>19058</th>\n",
       "      <td>17</td>\n",
       "      <td>59</td>\n",
       "      <td>2021-03-29</td>\n",
       "      <td>171</td>\n",
       "      <td>10</td>\n",
       "      <td>10347</td>\n",
       "      <td>4062</td>\n",
       "    </tr>\n",
       "    <tr>\n",
       "      <th>32897</th>\n",
       "      <td>2B</td>\n",
       "      <td>29</td>\n",
       "      <td>2021-03-25</td>\n",
       "      <td>7</td>\n",
       "      <td>1</td>\n",
       "      <td>153</td>\n",
       "      <td>41</td>\n",
       "    </tr>\n",
       "  </tbody>\n",
       "</table>\n",
       "</div>"
      ],
      "text/plain": [
       "      dep  clage_vacsi       jour  n_dose1  n_dose2  n_cum_dose1  n_cum_dose2\n",
       "90667  81           29 2021-03-25       14        2          443           97\n",
       "19058  17           59 2021-03-29      171       10        10347         4062\n",
       "32897  2B           29 2021-03-25        7        1          153           41"
      ]
     },
     "execution_count": 13,
     "metadata": {},
     "output_type": "execute_result"
    }
   ],
   "source": [
    "print(d_vac_1.shape)\n",
    "d_vac_1.sample(3)"
   ]
  },
  {
   "cell_type": "code",
   "execution_count": 14,
   "metadata": {},
   "outputs": [
    {
     "name": "stdout",
     "output_type": "stream",
     "text": [
      "(50576, 7)\n"
     ]
    },
    {
     "data": {
      "text/html": [
       "<div>\n",
       "<style scoped>\n",
       "    .dataframe tbody tr th:only-of-type {\n",
       "        vertical-align: middle;\n",
       "    }\n",
       "\n",
       "    .dataframe tbody tr th {\n",
       "        vertical-align: top;\n",
       "    }\n",
       "\n",
       "    .dataframe thead th {\n",
       "        text-align: right;\n",
       "    }\n",
       "</style>\n",
       "<table border=\"1\" class=\"dataframe\">\n",
       "  <thead>\n",
       "    <tr style=\"text-align: right;\">\n",
       "      <th></th>\n",
       "      <th>entity</th>\n",
       "      <th>three_class</th>\n",
       "      <th>jour</th>\n",
       "      <th>n_dose1</th>\n",
       "      <th>n_dose2</th>\n",
       "      <th>n_cum_dose1</th>\n",
       "      <th>n_cum_dose2</th>\n",
       "    </tr>\n",
       "  </thead>\n",
       "  <tbody>\n",
       "    <tr>\n",
       "      <th>11665</th>\n",
       "      <td>28</td>\n",
       "      <td>30-59</td>\n",
       "      <td>2021-03-19</td>\n",
       "      <td>287</td>\n",
       "      <td>28</td>\n",
       "      <td>8325</td>\n",
       "      <td>3653</td>\n",
       "    </tr>\n",
       "    <tr>\n",
       "      <th>31322</th>\n",
       "      <td>71</td>\n",
       "      <td>60+</td>\n",
       "      <td>2021-03-28</td>\n",
       "      <td>49</td>\n",
       "      <td>0</td>\n",
       "      <td>64264</td>\n",
       "      <td>21509</td>\n",
       "    </tr>\n",
       "    <tr>\n",
       "      <th>21658</th>\n",
       "      <td>49</td>\n",
       "      <td>60+</td>\n",
       "      <td>2021-03-10</td>\n",
       "      <td>1786</td>\n",
       "      <td>699</td>\n",
       "      <td>37120</td>\n",
       "      <td>19310</td>\n",
       "    </tr>\n",
       "  </tbody>\n",
       "</table>\n",
       "</div>"
      ],
      "text/plain": [
       "      entity three_class       jour  n_dose1  n_dose2  n_cum_dose1  \\\n",
       "11665     28       30-59 2021-03-19      287       28         8325   \n",
       "31322     71         60+ 2021-03-28       49        0        64264   \n",
       "21658     49         60+ 2021-03-10     1786      699        37120   \n",
       "\n",
       "       n_cum_dose2  \n",
       "11665         3653  \n",
       "31322        21509  \n",
       "21658        19310  "
      ]
     },
     "execution_count": 14,
     "metadata": {},
     "output_type": "execute_result"
    }
   ],
   "source": [
    "print(d_vac_2.shape)\n",
    "d_vac_2.sample(3)"
   ]
  },
  {
   "cell_type": "code",
   "execution_count": 15,
   "metadata": {},
   "outputs": [
    {
     "name": "stdout",
     "output_type": "stream",
     "text": [
      "(50576, 9)\n"
     ]
    },
    {
     "data": {
      "text/html": [
       "<div>\n",
       "<style scoped>\n",
       "    .dataframe tbody tr th:only-of-type {\n",
       "        vertical-align: middle;\n",
       "    }\n",
       "\n",
       "    .dataframe tbody tr th {\n",
       "        vertical-align: top;\n",
       "    }\n",
       "\n",
       "    .dataframe thead th {\n",
       "        text-align: right;\n",
       "    }\n",
       "</style>\n",
       "<table border=\"1\" class=\"dataframe\">\n",
       "  <thead>\n",
       "    <tr style=\"text-align: right;\">\n",
       "      <th></th>\n",
       "      <th>entity</th>\n",
       "      <th>three_class</th>\n",
       "      <th>jour</th>\n",
       "      <th>n_dose1</th>\n",
       "      <th>n_dose2</th>\n",
       "      <th>n_cum_dose1</th>\n",
       "      <th>n_cum_dose2</th>\n",
       "      <th>taux dose 1</th>\n",
       "      <th>taux dose 2</th>\n",
       "    </tr>\n",
       "  </thead>\n",
       "  <tbody>\n",
       "    <tr>\n",
       "      <th>13007</th>\n",
       "      <td>2B</td>\n",
       "      <td>whole</td>\n",
       "      <td>2021-03-27</td>\n",
       "      <td>1076</td>\n",
       "      <td>20</td>\n",
       "      <td>26912</td>\n",
       "      <td>11100</td>\n",
       "      <td>14.765881</td>\n",
       "      <td>6.090268</td>\n",
       "    </tr>\n",
       "    <tr>\n",
       "      <th>18737</th>\n",
       "      <td>42</td>\n",
       "      <td>30-59</td>\n",
       "      <td>2021-04-12</td>\n",
       "      <td>913</td>\n",
       "      <td>98</td>\n",
       "      <td>28322</td>\n",
       "      <td>7137</td>\n",
       "      <td>10.181178</td>\n",
       "      <td>2.565605</td>\n",
       "    </tr>\n",
       "    <tr>\n",
       "      <th>4500</th>\n",
       "      <td>11</td>\n",
       "      <td>0-29</td>\n",
       "      <td>2021-01-31</td>\n",
       "      <td>0</td>\n",
       "      <td>0</td>\n",
       "      <td>132</td>\n",
       "      <td>5</td>\n",
       "      <td>0.120625</td>\n",
       "      <td>0.004569</td>\n",
       "    </tr>\n",
       "  </tbody>\n",
       "</table>\n",
       "</div>"
      ],
      "text/plain": [
       "      entity three_class       jour  n_dose1  n_dose2  n_cum_dose1  \\\n",
       "13007     2B       whole 2021-03-27     1076       20        26912   \n",
       "18737     42       30-59 2021-04-12      913       98        28322   \n",
       "4500      11        0-29 2021-01-31        0        0          132   \n",
       "\n",
       "       n_cum_dose2  taux dose 1  taux dose 2  \n",
       "13007        11100    14.765881     6.090268  \n",
       "18737         7137    10.181178     2.565605  \n",
       "4500             5     0.120625     0.004569  "
      ]
     },
     "execution_count": 15,
     "metadata": {},
     "output_type": "execute_result"
    }
   ],
   "source": [
    "print(d_vac_3.shape)\n",
    "d_vac_3.sample(3)"
   ]
  },
  {
   "cell_type": "code",
   "execution_count": 16,
   "metadata": {},
   "outputs": [
    {
     "name": "stdout",
     "output_type": "stream",
     "text": [
      "6.0260889530181885  s\n"
     ]
    }
   ],
   "source": [
    "toc = time()\n",
    "print(-tic+toc, ' s')"
   ]
  }
 ],
 "metadata": {
  "kernelspec": {
   "display_name": "Python 3",
   "language": "python",
   "name": "python3"
  },
  "language_info": {
   "codemirror_mode": {
    "name": "ipython",
    "version": 3
   },
   "file_extension": ".py",
   "mimetype": "text/x-python",
   "name": "python",
   "nbconvert_exporter": "python",
   "pygments_lexer": "ipython3",
   "version": "3.7.3"
  }
 },
 "nbformat": 4,
 "nbformat_minor": 2
}
