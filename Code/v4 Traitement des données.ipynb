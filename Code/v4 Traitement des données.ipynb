{
 "cells": [
  {
   "cell_type": "code",
   "execution_count": 1,
   "metadata": {},
   "outputs": [],
   "source": [
    "import pandas as pd\n",
    "from time import time"
   ]
  },
  {
   "cell_type": "code",
   "execution_count": 2,
   "metadata": {},
   "outputs": [
    {
     "name": "stdout",
     "output_type": "stream",
     "text": [
      "Today is 13/04/2021. Retrieve data from how many days? 0\n",
      "Ok, will retrieve data from 13/04/2021\n"
     ]
    }
   ],
   "source": [
    "import my_package.v4_dicts as dc\n",
    "import my_package.v4_datepaths as dp\n",
    "import my_package.v4_calculus as cc"
   ]
  },
  {
   "cell_type": "markdown",
   "metadata": {},
   "source": [
    "https://www.data.gouv.fr/fr/datasets/donnees-relatives-aux-resultats-des-tests-virologiques-covid-19/\n",
    "\n",
    "https://www.data.gouv.fr/fr/datasets/donnees-hospitalieres-relatives-a-lepidemie-de-covid-19/\n",
    "\n",
    "https://www.data.gouv.fr/fr/datasets/donnees-relatives-aux-personnes-vaccinees-contre-la-covid-19-1/"
   ]
  },
  {
   "cell_type": "markdown",
   "metadata": {},
   "source": [
    "# Données relatives aux résultats des tests virologiques"
   ]
  },
  {
   "cell_type": "code",
   "execution_count": 3,
   "metadata": {},
   "outputs": [],
   "source": [
    "tic = time()"
   ]
  },
  {
   "cell_type": "code",
   "execution_count": 4,
   "metadata": {},
   "outputs": [
    {
     "name": "stdout",
     "output_type": "stream",
     "text": [
      "../Data/sp-pos-quot-dep-2021-04-13-18h57.csv\n",
      "../Temp/v4/sp-pos-quot-dep-2021-04-13-18h57-tot-3C-compute.csv\n"
     ]
    }
   ],
   "source": [
    "d_tests_1, path_temp = cc.sp_input()\n",
    "d_tests_2 = cc.sp_tot_3C(d_tests_1)\n",
    "d_tests_3 = cc.sp_compute(d_tests_2)\n",
    "\n",
    "dout = d_tests_3\n",
    "fname = path_temp + '-tot-3C-compute.csv'\n",
    "dout.to_csv(fname, sep = ';', index = False)\n",
    "print(fname)"
   ]
  },
  {
   "cell_type": "code",
   "execution_count": 5,
   "metadata": {},
   "outputs": [
    {
     "name": "stdout",
     "output_type": "stream",
     "text": [
      "(380952, 6)\n"
     ]
    },
    {
     "data": {
      "text/html": [
       "<div>\n",
       "<style scoped>\n",
       "    .dataframe tbody tr th:only-of-type {\n",
       "        vertical-align: middle;\n",
       "    }\n",
       "\n",
       "    .dataframe tbody tr th {\n",
       "        vertical-align: top;\n",
       "    }\n",
       "\n",
       "    .dataframe thead th {\n",
       "        text-align: right;\n",
       "    }\n",
       "</style>\n",
       "<table border=\"1\" class=\"dataframe\">\n",
       "  <thead>\n",
       "    <tr style=\"text-align: right;\">\n",
       "      <th></th>\n",
       "      <th>dep</th>\n",
       "      <th>jour</th>\n",
       "      <th>P</th>\n",
       "      <th>T</th>\n",
       "      <th>cl_age90</th>\n",
       "      <th>pop</th>\n",
       "    </tr>\n",
       "  </thead>\n",
       "  <tbody>\n",
       "    <tr>\n",
       "      <th>136770</th>\n",
       "      <td>37</td>\n",
       "      <td>2020-09-02</td>\n",
       "      <td>1</td>\n",
       "      <td>106</td>\n",
       "      <td>79</td>\n",
       "      <td>54650.0</td>\n",
       "    </tr>\n",
       "    <tr>\n",
       "      <th>143423</th>\n",
       "      <td>39</td>\n",
       "      <td>2020-07-03</td>\n",
       "      <td>0</td>\n",
       "      <td>74</td>\n",
       "      <td>59</td>\n",
       "      <td>36427.0</td>\n",
       "    </tr>\n",
       "    <tr>\n",
       "      <th>123144</th>\n",
       "      <td>33</td>\n",
       "      <td>2020-12-04</td>\n",
       "      <td>176</td>\n",
       "      <td>4331</td>\n",
       "      <td>0</td>\n",
       "      <td>1633440.0</td>\n",
       "    </tr>\n",
       "  </tbody>\n",
       "</table>\n",
       "</div>"
      ],
      "text/plain": [
       "       dep       jour    P     T  cl_age90        pop\n",
       "136770  37 2020-09-02    1   106        79    54650.0\n",
       "143423  39 2020-07-03    0    74        59    36427.0\n",
       "123144  33 2020-12-04  176  4331         0  1633440.0"
      ]
     },
     "execution_count": 5,
     "metadata": {},
     "output_type": "execute_result"
    }
   ],
   "source": [
    "print(d_tests_1.shape)\n",
    "d_tests_1.sample(3)"
   ]
  },
  {
   "cell_type": "code",
   "execution_count": 6,
   "metadata": {},
   "outputs": [
    {
     "name": "stdout",
     "output_type": "stream",
     "text": [
      "(154512, 6)\n"
     ]
    },
    {
     "data": {
      "text/html": [
       "<div>\n",
       "<style scoped>\n",
       "    .dataframe tbody tr th:only-of-type {\n",
       "        vertical-align: middle;\n",
       "    }\n",
       "\n",
       "    .dataframe tbody tr th {\n",
       "        vertical-align: top;\n",
       "    }\n",
       "\n",
       "    .dataframe thead th {\n",
       "        text-align: right;\n",
       "    }\n",
       "</style>\n",
       "<table border=\"1\" class=\"dataframe\">\n",
       "  <thead>\n",
       "    <tr style=\"text-align: right;\">\n",
       "      <th></th>\n",
       "      <th>entity</th>\n",
       "      <th>three_class</th>\n",
       "      <th>jour</th>\n",
       "      <th>P</th>\n",
       "      <th>T</th>\n",
       "      <th>pop</th>\n",
       "    </tr>\n",
       "  </thead>\n",
       "  <tbody>\n",
       "    <tr>\n",
       "      <th>60967</th>\n",
       "      <td>45</td>\n",
       "      <td>whole</td>\n",
       "      <td>2021-01-24</td>\n",
       "      <td>34</td>\n",
       "      <td>562</td>\n",
       "      <td>682890.0</td>\n",
       "    </tr>\n",
       "    <tr>\n",
       "      <th>42679</th>\n",
       "      <td>32</td>\n",
       "      <td>whole</td>\n",
       "      <td>2020-05-26</td>\n",
       "      <td>2</td>\n",
       "      <td>212</td>\n",
       "      <td>190040.0</td>\n",
       "    </tr>\n",
       "    <tr>\n",
       "      <th>119906</th>\n",
       "      <td>90</td>\n",
       "      <td>60+</td>\n",
       "      <td>2020-05-19</td>\n",
       "      <td>4</td>\n",
       "      <td>49</td>\n",
       "      <td>38060.0</td>\n",
       "    </tr>\n",
       "  </tbody>\n",
       "</table>\n",
       "</div>"
      ],
      "text/plain": [
       "       entity three_class       jour   P    T       pop\n",
       "60967      45       whole 2021-01-24  34  562  682890.0\n",
       "42679      32       whole 2020-05-26   2  212  190040.0\n",
       "119906     90         60+ 2020-05-19   4   49   38060.0"
      ]
     },
     "execution_count": 6,
     "metadata": {},
     "output_type": "execute_result"
    }
   ],
   "source": [
    "print(d_tests_2.shape)\n",
    "d_tests_2.sample(3)"
   ]
  },
  {
   "cell_type": "code",
   "execution_count": 7,
   "metadata": {},
   "outputs": [
    {
     "name": "stdout",
     "output_type": "stream",
     "text": [
      "(154512, 11)\n"
     ]
    },
    {
     "data": {
      "text/html": [
       "<div>\n",
       "<style scoped>\n",
       "    .dataframe tbody tr th:only-of-type {\n",
       "        vertical-align: middle;\n",
       "    }\n",
       "\n",
       "    .dataframe tbody tr th {\n",
       "        vertical-align: top;\n",
       "    }\n",
       "\n",
       "    .dataframe thead th {\n",
       "        text-align: right;\n",
       "    }\n",
       "</style>\n",
       "<table border=\"1\" class=\"dataframe\">\n",
       "  <thead>\n",
       "    <tr style=\"text-align: right;\">\n",
       "      <th></th>\n",
       "      <th>entity</th>\n",
       "      <th>three_class</th>\n",
       "      <th>jour</th>\n",
       "      <th>P</th>\n",
       "      <th>T</th>\n",
       "      <th>pop</th>\n",
       "      <th>P hebdo</th>\n",
       "      <th>T hebdo</th>\n",
       "      <th>incidence hebdo</th>\n",
       "      <th>taux de positifs hebdo</th>\n",
       "      <th>taux de tests hebdo</th>\n",
       "    </tr>\n",
       "  </thead>\n",
       "  <tbody>\n",
       "    <tr>\n",
       "      <th>94712</th>\n",
       "      <td>71</td>\n",
       "      <td>0-29</td>\n",
       "      <td>2020-06-17</td>\n",
       "      <td>0</td>\n",
       "      <td>57</td>\n",
       "      <td>163376.0</td>\n",
       "      <td>2.0</td>\n",
       "      <td>270.0</td>\n",
       "      <td>1.224170</td>\n",
       "      <td>0.740741</td>\n",
       "      <td>165.262952</td>\n",
       "    </tr>\n",
       "    <tr>\n",
       "      <th>2396</th>\n",
       "      <td>02</td>\n",
       "      <td>0-29</td>\n",
       "      <td>2021-02-03</td>\n",
       "      <td>58</td>\n",
       "      <td>884</td>\n",
       "      <td>181295.0</td>\n",
       "      <td>402.0</td>\n",
       "      <td>5380.0</td>\n",
       "      <td>221.738051</td>\n",
       "      <td>7.472119</td>\n",
       "      <td>2967.539094</td>\n",
       "    </tr>\n",
       "    <tr>\n",
       "      <th>49275</th>\n",
       "      <td>36</td>\n",
       "      <td>whole</td>\n",
       "      <td>2021-04-08</td>\n",
       "      <td>92</td>\n",
       "      <td>1054</td>\n",
       "      <td>217139.0</td>\n",
       "      <td>432.0</td>\n",
       "      <td>5706.0</td>\n",
       "      <td>198.950902</td>\n",
       "      <td>7.570978</td>\n",
       "      <td>2627.809836</td>\n",
       "    </tr>\n",
       "  </tbody>\n",
       "</table>\n",
       "</div>"
      ],
      "text/plain": [
       "      entity three_class       jour   P     T       pop  P hebdo  T hebdo  \\\n",
       "94712     71        0-29 2020-06-17   0    57  163376.0      2.0    270.0   \n",
       "2396      02        0-29 2021-02-03  58   884  181295.0    402.0   5380.0   \n",
       "49275     36       whole 2021-04-08  92  1054  217139.0    432.0   5706.0   \n",
       "\n",
       "       incidence hebdo  taux de positifs hebdo  taux de tests hebdo  \n",
       "94712         1.224170                0.740741           165.262952  \n",
       "2396        221.738051                7.472119          2967.539094  \n",
       "49275       198.950902                7.570978          2627.809836  "
      ]
     },
     "execution_count": 7,
     "metadata": {},
     "output_type": "execute_result"
    }
   ],
   "source": [
    "print(d_tests_3.shape)\n",
    "d_tests_3.sample(3)"
   ]
  },
  {
   "cell_type": "markdown",
   "metadata": {},
   "source": [
    "# Données hospitalières"
   ]
  },
  {
   "cell_type": "code",
   "execution_count": 8,
   "metadata": {},
   "outputs": [
    {
     "name": "stdout",
     "output_type": "stream",
     "text": [
      "../Data/donnees-hospitalieres-classe-age-covid19-2021-04-13-18h56.csv\n",
      "../Temp/v4/donnees-hospitalieres-classe-age-covid19-2021-04-13-18h56-3C-compute.csv\n"
     ]
    }
   ],
   "source": [
    "d_hosp_1, path_temp = cc.hosp_input()\n",
    "d_hosp_2 = cc.hosp_3C(d_hosp_1)\n",
    "d_hosp_3 = cc.hosp_compute(d_hosp_2)\n",
    "\n",
    "dout = d_hosp_3\n",
    "fname = path_temp + '-3C-compute.csv'\n",
    "dout.to_csv(fname, sep = ';', index = False)\n",
    "print(fname)"
   ]
  },
  {
   "cell_type": "code",
   "execution_count": 9,
   "metadata": {},
   "outputs": [
    {
     "name": "stdout",
     "output_type": "stream",
     "text": [
      "(77616, 10)\n"
     ]
    },
    {
     "data": {
      "text/html": [
       "<div>\n",
       "<style scoped>\n",
       "    .dataframe tbody tr th:only-of-type {\n",
       "        vertical-align: middle;\n",
       "    }\n",
       "\n",
       "    .dataframe tbody tr th {\n",
       "        vertical-align: top;\n",
       "    }\n",
       "\n",
       "    .dataframe thead th {\n",
       "        text-align: right;\n",
       "    }\n",
       "</style>\n",
       "<table border=\"1\" class=\"dataframe\">\n",
       "  <thead>\n",
       "    <tr style=\"text-align: right;\">\n",
       "      <th></th>\n",
       "      <th>jour</th>\n",
       "      <th>hosp</th>\n",
       "      <th>rea</th>\n",
       "      <th>HospConv</th>\n",
       "      <th>SSR_USLD</th>\n",
       "      <th>autres</th>\n",
       "      <th>rad</th>\n",
       "      <th>dc</th>\n",
       "      <th>entity</th>\n",
       "      <th>three_class</th>\n",
       "    </tr>\n",
       "  </thead>\n",
       "  <tbody>\n",
       "    <tr>\n",
       "      <th>22527</th>\n",
       "      <td>2020-07-09</td>\n",
       "      <td>11</td>\n",
       "      <td>0</td>\n",
       "      <td>NaN</td>\n",
       "      <td>NaN</td>\n",
       "      <td>NaN</td>\n",
       "      <td>238</td>\n",
       "      <td>105</td>\n",
       "      <td>Nouvelle-Aquitaine</td>\n",
       "      <td>60+</td>\n",
       "    </tr>\n",
       "    <tr>\n",
       "      <th>66818</th>\n",
       "      <td>2021-02-18</td>\n",
       "      <td>19</td>\n",
       "      <td>7</td>\n",
       "      <td>NaN</td>\n",
       "      <td>NaN</td>\n",
       "      <td>NaN</td>\n",
       "      <td>286</td>\n",
       "      <td>4</td>\n",
       "      <td>Normandie</td>\n",
       "      <td>30-59</td>\n",
       "    </tr>\n",
       "    <tr>\n",
       "      <th>18446</th>\n",
       "      <td>2020-06-19</td>\n",
       "      <td>0</td>\n",
       "      <td>0</td>\n",
       "      <td>NaN</td>\n",
       "      <td>NaN</td>\n",
       "      <td>NaN</td>\n",
       "      <td>0</td>\n",
       "      <td>1</td>\n",
       "      <td>Outre-mer (DROM)</td>\n",
       "      <td>60+</td>\n",
       "    </tr>\n",
       "  </tbody>\n",
       "</table>\n",
       "</div>"
      ],
      "text/plain": [
       "            jour  hosp  rea  HospConv  SSR_USLD  autres  rad   dc  \\\n",
       "22527 2020-07-09    11    0       NaN       NaN     NaN  238  105   \n",
       "66818 2021-02-18    19    7       NaN       NaN     NaN  286    4   \n",
       "18446 2020-06-19     0    0       NaN       NaN     NaN    0    1   \n",
       "\n",
       "                   entity three_class  \n",
       "22527  Nouvelle-Aquitaine         60+  \n",
       "66818           Normandie       30-59  \n",
       "18446    Outre-mer (DROM)         60+  "
      ]
     },
     "execution_count": 9,
     "metadata": {},
     "output_type": "execute_result"
    }
   ],
   "source": [
    "print(d_hosp_1.shape)\n",
    "d_hosp_1.sample(3)"
   ]
  },
  {
   "cell_type": "code",
   "execution_count": 10,
   "metadata": {},
   "outputs": [
    {
     "name": "stdout",
     "output_type": "stream",
     "text": [
      "(23520, 6)\n"
     ]
    },
    {
     "data": {
      "text/html": [
       "<div>\n",
       "<style scoped>\n",
       "    .dataframe tbody tr th:only-of-type {\n",
       "        vertical-align: middle;\n",
       "    }\n",
       "\n",
       "    .dataframe tbody tr th {\n",
       "        vertical-align: top;\n",
       "    }\n",
       "\n",
       "    .dataframe thead th {\n",
       "        text-align: right;\n",
       "    }\n",
       "</style>\n",
       "<table border=\"1\" class=\"dataframe\">\n",
       "  <thead>\n",
       "    <tr style=\"text-align: right;\">\n",
       "      <th></th>\n",
       "      <th>entity</th>\n",
       "      <th>three_class</th>\n",
       "      <th>jour</th>\n",
       "      <th>hosp</th>\n",
       "      <th>rea</th>\n",
       "      <th>dc</th>\n",
       "    </tr>\n",
       "  </thead>\n",
       "  <tbody>\n",
       "    <tr>\n",
       "      <th>2661</th>\n",
       "      <td>Bourgogne-Franche-Comté</td>\n",
       "      <td>30-59</td>\n",
       "      <td>2020-12-16</td>\n",
       "      <td>169</td>\n",
       "      <td>24</td>\n",
       "      <td>66</td>\n",
       "    </tr>\n",
       "    <tr>\n",
       "      <th>4677</th>\n",
       "      <td>Bretagne</td>\n",
       "      <td>30-59</td>\n",
       "      <td>2021-04-07</td>\n",
       "      <td>144</td>\n",
       "      <td>31</td>\n",
       "      <td>38</td>\n",
       "    </tr>\n",
       "    <tr>\n",
       "      <th>3153</th>\n",
       "      <td>Bretagne</td>\n",
       "      <td>30-59</td>\n",
       "      <td>2020-03-22</td>\n",
       "      <td>29</td>\n",
       "      <td>9</td>\n",
       "      <td>0</td>\n",
       "    </tr>\n",
       "  </tbody>\n",
       "</table>\n",
       "</div>"
      ],
      "text/plain": [
       "                       entity three_class       jour  hosp  rea  dc\n",
       "2661  Bourgogne-Franche-Comté       30-59 2020-12-16   169   24  66\n",
       "4677                 Bretagne       30-59 2021-04-07   144   31  38\n",
       "3153                 Bretagne       30-59 2020-03-22    29    9   0"
      ]
     },
     "execution_count": 10,
     "metadata": {},
     "output_type": "execute_result"
    }
   ],
   "source": [
    "print(d_hosp_2.shape)\n",
    "d_hosp_2.sample(3)"
   ]
  },
  {
   "cell_type": "code",
   "execution_count": 11,
   "metadata": {},
   "outputs": [
    {
     "name": "stdout",
     "output_type": "stream",
     "text": [
      "(23520, 10)\n"
     ]
    },
    {
     "data": {
      "text/html": [
       "<div>\n",
       "<style scoped>\n",
       "    .dataframe tbody tr th:only-of-type {\n",
       "        vertical-align: middle;\n",
       "    }\n",
       "\n",
       "    .dataframe tbody tr th {\n",
       "        vertical-align: top;\n",
       "    }\n",
       "\n",
       "    .dataframe thead th {\n",
       "        text-align: right;\n",
       "    }\n",
       "</style>\n",
       "<table border=\"1\" class=\"dataframe\">\n",
       "  <thead>\n",
       "    <tr style=\"text-align: right;\">\n",
       "      <th></th>\n",
       "      <th>entity</th>\n",
       "      <th>three_class</th>\n",
       "      <th>jour</th>\n",
       "      <th>hosp</th>\n",
       "      <th>rea</th>\n",
       "      <th>dc</th>\n",
       "      <th>dc hebdo</th>\n",
       "      <th>taux hosp</th>\n",
       "      <th>taux rea</th>\n",
       "      <th>taux décès</th>\n",
       "    </tr>\n",
       "  </thead>\n",
       "  <tbody>\n",
       "    <tr>\n",
       "      <th>17044</th>\n",
       "      <td>Outre-mer (DROM)</td>\n",
       "      <td>0-29</td>\n",
       "      <td>2021-02-22</td>\n",
       "      <td>41</td>\n",
       "      <td>2</td>\n",
       "      <td>7</td>\n",
       "      <td>1.0</td>\n",
       "      <td>4.284795</td>\n",
       "      <td>0.209014</td>\n",
       "      <td>0.104507</td>\n",
       "    </tr>\n",
       "    <tr>\n",
       "      <th>17227</th>\n",
       "      <td>Outre-mer (DROM)</td>\n",
       "      <td>whole</td>\n",
       "      <td>2021-04-08</td>\n",
       "      <td>398</td>\n",
       "      <td>103</td>\n",
       "      <td>611</td>\n",
       "      <td>21.0</td>\n",
       "      <td>17.951856</td>\n",
       "      <td>4.645832</td>\n",
       "      <td>0.947208</td>\n",
       "    </tr>\n",
       "    <tr>\n",
       "      <th>12661</th>\n",
       "      <td>Nouvelle-Aquitaine</td>\n",
       "      <td>30-59</td>\n",
       "      <td>2020-04-16</td>\n",
       "      <td>122</td>\n",
       "      <td>57</td>\n",
       "      <td>8</td>\n",
       "      <td>-1.0</td>\n",
       "      <td>5.444343</td>\n",
       "      <td>2.543669</td>\n",
       "      <td>-0.044626</td>\n",
       "    </tr>\n",
       "  </tbody>\n",
       "</table>\n",
       "</div>"
      ],
      "text/plain": [
       "                   entity three_class       jour  hosp  rea   dc  dc hebdo  \\\n",
       "17044    Outre-mer (DROM)        0-29 2021-02-22    41    2    7       1.0   \n",
       "17227    Outre-mer (DROM)       whole 2021-04-08   398  103  611      21.0   \n",
       "12661  Nouvelle-Aquitaine       30-59 2020-04-16   122   57    8      -1.0   \n",
       "\n",
       "       taux hosp  taux rea  taux décès  \n",
       "17044   4.284795  0.209014    0.104507  \n",
       "17227  17.951856  4.645832    0.947208  \n",
       "12661   5.444343  2.543669   -0.044626  "
      ]
     },
     "execution_count": 11,
     "metadata": {},
     "output_type": "execute_result"
    }
   ],
   "source": [
    "print(d_hosp_3.shape)\n",
    "d_hosp_3.sample(3)"
   ]
  },
  {
   "cell_type": "markdown",
   "metadata": {},
   "source": [
    "# Données relatives aux personnes vaccinées (VACSI) "
   ]
  },
  {
   "cell_type": "code",
   "execution_count": 12,
   "metadata": {},
   "outputs": [
    {
     "name": "stdout",
     "output_type": "stream",
     "text": [
      "../Data/vacsi-a-dep-2021-04-13-18h55.csv\n",
      "../Temp/v4/vacsi-a-dep-2021-04-13-18h55-tot-3C-compute.csv\n"
     ]
    }
   ],
   "source": [
    "d_vac_1, path_temp = cc.vac_input()\n",
    "d_vac_2 = cc.vac_tot_3C(d_vac_1)\n",
    "d_vac_3 = cc.vac_compute(d_vac_2)\n",
    "\n",
    "dout = d_vac_3\n",
    "fname = path_temp + '-tot-3C-compute.csv'\n",
    "dout.to_csv(fname, sep = ';', index = False)\n",
    "print(fname)"
   ]
  },
  {
   "cell_type": "code",
   "execution_count": 13,
   "metadata": {},
   "outputs": [
    {
     "name": "stdout",
     "output_type": "stream",
     "text": [
      "(124762, 7)\n"
     ]
    },
    {
     "data": {
      "text/html": [
       "<div>\n",
       "<style scoped>\n",
       "    .dataframe tbody tr th:only-of-type {\n",
       "        vertical-align: middle;\n",
       "    }\n",
       "\n",
       "    .dataframe tbody tr th {\n",
       "        vertical-align: top;\n",
       "    }\n",
       "\n",
       "    .dataframe thead th {\n",
       "        text-align: right;\n",
       "    }\n",
       "</style>\n",
       "<table border=\"1\" class=\"dataframe\">\n",
       "  <thead>\n",
       "    <tr style=\"text-align: right;\">\n",
       "      <th></th>\n",
       "      <th>dep</th>\n",
       "      <th>clage_vacsi</th>\n",
       "      <th>jour</th>\n",
       "      <th>n_dose1</th>\n",
       "      <th>n_dose2</th>\n",
       "      <th>n_cum_dose1</th>\n",
       "      <th>n_cum_dose2</th>\n",
       "    </tr>\n",
       "  </thead>\n",
       "  <tbody>\n",
       "    <tr>\n",
       "      <th>98670</th>\n",
       "      <td>90</td>\n",
       "      <td>39</td>\n",
       "      <td>2021-01-12</td>\n",
       "      <td>4</td>\n",
       "      <td>0</td>\n",
       "      <td>8</td>\n",
       "      <td>0</td>\n",
       "    </tr>\n",
       "    <tr>\n",
       "      <th>3013</th>\n",
       "      <td>02</td>\n",
       "      <td>79</td>\n",
       "      <td>2021-01-13</td>\n",
       "      <td>21</td>\n",
       "      <td>0</td>\n",
       "      <td>72</td>\n",
       "      <td>0</td>\n",
       "    </tr>\n",
       "    <tr>\n",
       "      <th>105862</th>\n",
       "      <td>970</td>\n",
       "      <td>80</td>\n",
       "      <td>2021-02-04</td>\n",
       "      <td>0</td>\n",
       "      <td>0</td>\n",
       "      <td>0</td>\n",
       "      <td>0</td>\n",
       "    </tr>\n",
       "  </tbody>\n",
       "</table>\n",
       "</div>"
      ],
      "text/plain": [
       "        dep  clage_vacsi       jour  n_dose1  n_dose2  n_cum_dose1  \\\n",
       "98670    90           39 2021-01-12        4        0            8   \n",
       "3013     02           79 2021-01-13       21        0           72   \n",
       "105862  970           80 2021-02-04        0        0            0   \n",
       "\n",
       "        n_cum_dose2  \n",
       "98670             0  \n",
       "3013              0  \n",
       "105862            0  "
      ]
     },
     "execution_count": 13,
     "metadata": {},
     "output_type": "execute_result"
    }
   ],
   "source": [
    "print(d_vac_1.shape)\n",
    "d_vac_1.sample(3)"
   ]
  },
  {
   "cell_type": "code",
   "execution_count": 14,
   "metadata": {},
   "outputs": [
    {
     "name": "stdout",
     "output_type": "stream",
     "text": [
      "(49648, 7)\n"
     ]
    },
    {
     "data": {
      "text/html": [
       "<div>\n",
       "<style scoped>\n",
       "    .dataframe tbody tr th:only-of-type {\n",
       "        vertical-align: middle;\n",
       "    }\n",
       "\n",
       "    .dataframe tbody tr th {\n",
       "        vertical-align: top;\n",
       "    }\n",
       "\n",
       "    .dataframe thead th {\n",
       "        text-align: right;\n",
       "    }\n",
       "</style>\n",
       "<table border=\"1\" class=\"dataframe\">\n",
       "  <thead>\n",
       "    <tr style=\"text-align: right;\">\n",
       "      <th></th>\n",
       "      <th>entity</th>\n",
       "      <th>three_class</th>\n",
       "      <th>jour</th>\n",
       "      <th>n_dose1</th>\n",
       "      <th>n_dose2</th>\n",
       "      <th>n_cum_dose1</th>\n",
       "      <th>n_cum_dose2</th>\n",
       "    </tr>\n",
       "  </thead>\n",
       "  <tbody>\n",
       "    <tr>\n",
       "      <th>16734</th>\n",
       "      <td>39</td>\n",
       "      <td>60+</td>\n",
       "      <td>2021-01-06</td>\n",
       "      <td>45</td>\n",
       "      <td>0</td>\n",
       "      <td>48</td>\n",
       "      <td>0</td>\n",
       "    </tr>\n",
       "    <tr>\n",
       "      <th>44930</th>\n",
       "      <td>Centre-Val de Loire</td>\n",
       "      <td>60+</td>\n",
       "      <td>2021-04-10</td>\n",
       "      <td>7584</td>\n",
       "      <td>1682</td>\n",
       "      <td>316120</td>\n",
       "      <td>124595</td>\n",
       "    </tr>\n",
       "    <tr>\n",
       "      <th>11604</th>\n",
       "      <td>29</td>\n",
       "      <td>0-29</td>\n",
       "      <td>2021-01-08</td>\n",
       "      <td>4</td>\n",
       "      <td>0</td>\n",
       "      <td>4</td>\n",
       "      <td>0</td>\n",
       "    </tr>\n",
       "  </tbody>\n",
       "</table>\n",
       "</div>"
      ],
      "text/plain": [
       "                    entity three_class       jour  n_dose1  n_dose2  \\\n",
       "16734                   39         60+ 2021-01-06       45        0   \n",
       "44930  Centre-Val de Loire         60+ 2021-04-10     7584     1682   \n",
       "11604                   29        0-29 2021-01-08        4        0   \n",
       "\n",
       "       n_cum_dose1  n_cum_dose2  \n",
       "16734           48            0  \n",
       "44930       316120       124595  \n",
       "11604            4            0  "
      ]
     },
     "execution_count": 14,
     "metadata": {},
     "output_type": "execute_result"
    }
   ],
   "source": [
    "print(d_vac_2.shape)\n",
    "d_vac_2.sample(3)"
   ]
  },
  {
   "cell_type": "code",
   "execution_count": 15,
   "metadata": {},
   "outputs": [
    {
     "name": "stdout",
     "output_type": "stream",
     "text": [
      "(49648, 9)\n"
     ]
    },
    {
     "data": {
      "text/html": [
       "<div>\n",
       "<style scoped>\n",
       "    .dataframe tbody tr th:only-of-type {\n",
       "        vertical-align: middle;\n",
       "    }\n",
       "\n",
       "    .dataframe tbody tr th {\n",
       "        vertical-align: top;\n",
       "    }\n",
       "\n",
       "    .dataframe thead th {\n",
       "        text-align: right;\n",
       "    }\n",
       "</style>\n",
       "<table border=\"1\" class=\"dataframe\">\n",
       "  <thead>\n",
       "    <tr style=\"text-align: right;\">\n",
       "      <th></th>\n",
       "      <th>entity</th>\n",
       "      <th>three_class</th>\n",
       "      <th>jour</th>\n",
       "      <th>n_dose1</th>\n",
       "      <th>n_dose2</th>\n",
       "      <th>n_cum_dose1</th>\n",
       "      <th>n_cum_dose2</th>\n",
       "      <th>taux dose 1</th>\n",
       "      <th>taux dose 2</th>\n",
       "    </tr>\n",
       "  </thead>\n",
       "  <tbody>\n",
       "    <tr>\n",
       "      <th>44962</th>\n",
       "      <td>Corse</td>\n",
       "      <td>60+</td>\n",
       "      <td>2021-01-01</td>\n",
       "      <td>0</td>\n",
       "      <td>0</td>\n",
       "      <td>0</td>\n",
       "      <td>0</td>\n",
       "      <td>0.000000</td>\n",
       "      <td>0.000000</td>\n",
       "    </tr>\n",
       "    <tr>\n",
       "      <th>25774</th>\n",
       "      <td>60</td>\n",
       "      <td>60+</td>\n",
       "      <td>2021-01-19</td>\n",
       "      <td>844</td>\n",
       "      <td>1</td>\n",
       "      <td>3155</td>\n",
       "      <td>2</td>\n",
       "      <td>1.613877</td>\n",
       "      <td>0.001023</td>\n",
       "    </tr>\n",
       "    <tr>\n",
       "      <th>34110</th>\n",
       "      <td>79</td>\n",
       "      <td>60+</td>\n",
       "      <td>2021-03-11</td>\n",
       "      <td>1279</td>\n",
       "      <td>237</td>\n",
       "      <td>19297</td>\n",
       "      <td>11571</td>\n",
       "      <td>16.768626</td>\n",
       "      <td>10.054919</td>\n",
       "    </tr>\n",
       "  </tbody>\n",
       "</table>\n",
       "</div>"
      ],
      "text/plain": [
       "      entity three_class       jour  n_dose1  n_dose2  n_cum_dose1  \\\n",
       "44962  Corse         60+ 2021-01-01        0        0            0   \n",
       "25774     60         60+ 2021-01-19      844        1         3155   \n",
       "34110     79         60+ 2021-03-11     1279      237        19297   \n",
       "\n",
       "       n_cum_dose2  taux dose 1  taux dose 2  \n",
       "44962            0     0.000000     0.000000  \n",
       "25774            2     1.613877     0.001023  \n",
       "34110        11571    16.768626    10.054919  "
      ]
     },
     "execution_count": 15,
     "metadata": {},
     "output_type": "execute_result"
    }
   ],
   "source": [
    "print(d_vac_3.shape)\n",
    "d_vac_3.sample(3)"
   ]
  },
  {
   "cell_type": "code",
   "execution_count": 16,
   "metadata": {},
   "outputs": [
    {
     "name": "stdout",
     "output_type": "stream",
     "text": [
      "5.950894594192505  s\n"
     ]
    }
   ],
   "source": [
    "toc = time()\n",
    "print(-tic+toc, ' s')"
   ]
  }
 ],
 "metadata": {
  "kernelspec": {
   "display_name": "Python 3",
   "language": "python",
   "name": "python3"
  },
  "language_info": {
   "codemirror_mode": {
    "name": "ipython",
    "version": 3
   },
   "file_extension": ".py",
   "mimetype": "text/x-python",
   "name": "python",
   "nbconvert_exporter": "python",
   "pygments_lexer": "ipython3",
   "version": "3.7.3"
  }
 },
 "nbformat": 4,
 "nbformat_minor": 2
}
