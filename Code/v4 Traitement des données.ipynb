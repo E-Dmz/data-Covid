{
 "cells": [
  {
   "cell_type": "code",
   "execution_count": 1,
   "metadata": {},
   "outputs": [],
   "source": [
    "import pandas as pd"
   ]
  },
  {
   "cell_type": "code",
   "execution_count": 2,
   "metadata": {},
   "outputs": [
    {
     "name": "stdout",
     "output_type": "stream",
     "text": [
      "Today is 13/04/2021. Retrieve data from how many days? 0\n",
      "Ok, will retrieve data from 13/04/2021\n"
     ]
    }
   ],
   "source": [
    "import my_package.v4_dicts as dc\n",
    "import my_package.v4_datepaths as dp\n",
    "import my_package.v4_calculus as cc"
   ]
  },
  {
   "cell_type": "markdown",
   "metadata": {},
   "source": [
    "https://www.data.gouv.fr/fr/datasets/donnees-relatives-aux-resultats-des-tests-virologiques-covid-19/\n",
    "\n",
    "https://www.data.gouv.fr/fr/datasets/donnees-hospitalieres-relatives-a-lepidemie-de-covid-19/\n",
    "\n",
    "https://www.data.gouv.fr/fr/datasets/donnees-relatives-aux-personnes-vaccinees-contre-la-covid-19-1/"
   ]
  },
  {
   "cell_type": "markdown",
   "metadata": {},
   "source": [
    "# Données relatives aux résultats des tests virologiques"
   ]
  },
  {
   "cell_type": "code",
   "execution_count": 3,
   "metadata": {},
   "outputs": [
    {
     "name": "stdout",
     "output_type": "stream",
     "text": [
      "../Data/sp-pos-quot-dep-2021-04-13-18h57.csv\n",
      "../Temp/v4/sp-pos-quot-dep-2021-04-13-18h57-tot-3C-compute.csv\n"
     ]
    }
   ],
   "source": [
    "d_tests_1, path_temp = cc.sp_input()\n",
    "d_tests_2 = cc.sp_tot_3C(d_tests_1)\n",
    "d_tests_3 = cc.sp_compute(d_tests_2)\n",
    "\n",
    "dout = d_tests_3\n",
    "fname = path_temp + '-tot-3C-compute.csv'\n",
    "dout.to_csv(fname, sep = ';', index = False)\n",
    "print(fname)"
   ]
  },
  {
   "cell_type": "code",
   "execution_count": 4,
   "metadata": {},
   "outputs": [
    {
     "name": "stdout",
     "output_type": "stream",
     "text": [
      "(380952, 6)\n"
     ]
    },
    {
     "data": {
      "text/html": [
       "<div>\n",
       "<style scoped>\n",
       "    .dataframe tbody tr th:only-of-type {\n",
       "        vertical-align: middle;\n",
       "    }\n",
       "\n",
       "    .dataframe tbody tr th {\n",
       "        vertical-align: top;\n",
       "    }\n",
       "\n",
       "    .dataframe thead th {\n",
       "        text-align: right;\n",
       "    }\n",
       "</style>\n",
       "<table border=\"1\" class=\"dataframe\">\n",
       "  <thead>\n",
       "    <tr style=\"text-align: right;\">\n",
       "      <th></th>\n",
       "      <th>dep</th>\n",
       "      <th>jour</th>\n",
       "      <th>P</th>\n",
       "      <th>T</th>\n",
       "      <th>cl_age90</th>\n",
       "      <th>pop</th>\n",
       "    </tr>\n",
       "  </thead>\n",
       "  <tbody>\n",
       "    <tr>\n",
       "      <th>372429</th>\n",
       "      <td>976</td>\n",
       "      <td>2020-12-23</td>\n",
       "      <td>4</td>\n",
       "      <td>83</td>\n",
       "      <td>29</td>\n",
       "      <td>36651.0</td>\n",
       "    </tr>\n",
       "    <tr>\n",
       "      <th>360727</th>\n",
       "      <td>973</td>\n",
       "      <td>2020-10-19</td>\n",
       "      <td>2</td>\n",
       "      <td>109</td>\n",
       "      <td>49</td>\n",
       "      <td>34757.0</td>\n",
       "    </tr>\n",
       "    <tr>\n",
       "      <th>187482</th>\n",
       "      <td>51</td>\n",
       "      <td>2020-07-12</td>\n",
       "      <td>0</td>\n",
       "      <td>6</td>\n",
       "      <td>90</td>\n",
       "      <td>6990.0</td>\n",
       "    </tr>\n",
       "  </tbody>\n",
       "</table>\n",
       "</div>"
      ],
      "text/plain": [
       "        dep       jour  P    T  cl_age90      pop\n",
       "372429  976 2020-12-23  4   83        29  36651.0\n",
       "360727  973 2020-10-19  2  109        49  34757.0\n",
       "187482   51 2020-07-12  0    6        90   6990.0"
      ]
     },
     "execution_count": 4,
     "metadata": {},
     "output_type": "execute_result"
    }
   ],
   "source": [
    "print(d_tests_1.shape)\n",
    "d_tests_1.sample(3)"
   ]
  },
  {
   "cell_type": "code",
   "execution_count": 5,
   "metadata": {},
   "outputs": [
    {
     "name": "stdout",
     "output_type": "stream",
     "text": [
      "(154512, 6)\n"
     ]
    },
    {
     "data": {
      "text/html": [
       "<div>\n",
       "<style scoped>\n",
       "    .dataframe tbody tr th:only-of-type {\n",
       "        vertical-align: middle;\n",
       "    }\n",
       "\n",
       "    .dataframe tbody tr th {\n",
       "        vertical-align: top;\n",
       "    }\n",
       "\n",
       "    .dataframe thead th {\n",
       "        text-align: right;\n",
       "    }\n",
       "</style>\n",
       "<table border=\"1\" class=\"dataframe\">\n",
       "  <thead>\n",
       "    <tr style=\"text-align: right;\">\n",
       "      <th></th>\n",
       "      <th>entity</th>\n",
       "      <th>three_class</th>\n",
       "      <th>jour</th>\n",
       "      <th>P</th>\n",
       "      <th>T</th>\n",
       "      <th>pop</th>\n",
       "    </tr>\n",
       "  </thead>\n",
       "  <tbody>\n",
       "    <tr>\n",
       "      <th>11593</th>\n",
       "      <td>09</td>\n",
       "      <td>30-59</td>\n",
       "      <td>2021-01-02</td>\n",
       "      <td>5</td>\n",
       "      <td>175</td>\n",
       "      <td>56230.0</td>\n",
       "    </tr>\n",
       "    <tr>\n",
       "      <th>145150</th>\n",
       "      <td>Hauts-de-France</td>\n",
       "      <td>60+</td>\n",
       "      <td>2021-04-01</td>\n",
       "      <td>809</td>\n",
       "      <td>7965</td>\n",
       "      <td>1471086.0</td>\n",
       "    </tr>\n",
       "    <tr>\n",
       "      <th>67660</th>\n",
       "      <td>50</td>\n",
       "      <td>0-29</td>\n",
       "      <td>2021-02-02</td>\n",
       "      <td>37</td>\n",
       "      <td>728</td>\n",
       "      <td>149117.0</td>\n",
       "    </tr>\n",
       "  </tbody>\n",
       "</table>\n",
       "</div>"
      ],
      "text/plain": [
       "                 entity three_class       jour    P     T        pop\n",
       "11593                09       30-59 2021-01-02    5   175    56230.0\n",
       "145150  Hauts-de-France         60+ 2021-04-01  809  7965  1471086.0\n",
       "67660                50        0-29 2021-02-02   37   728   149117.0"
      ]
     },
     "execution_count": 5,
     "metadata": {},
     "output_type": "execute_result"
    }
   ],
   "source": [
    "print(d_tests_2.shape)\n",
    "d_tests_2.sample(3)"
   ]
  },
  {
   "cell_type": "code",
   "execution_count": 6,
   "metadata": {},
   "outputs": [
    {
     "name": "stdout",
     "output_type": "stream",
     "text": [
      "(154512, 11)\n"
     ]
    },
    {
     "data": {
      "text/html": [
       "<div>\n",
       "<style scoped>\n",
       "    .dataframe tbody tr th:only-of-type {\n",
       "        vertical-align: middle;\n",
       "    }\n",
       "\n",
       "    .dataframe tbody tr th {\n",
       "        vertical-align: top;\n",
       "    }\n",
       "\n",
       "    .dataframe thead th {\n",
       "        text-align: right;\n",
       "    }\n",
       "</style>\n",
       "<table border=\"1\" class=\"dataframe\">\n",
       "  <thead>\n",
       "    <tr style=\"text-align: right;\">\n",
       "      <th></th>\n",
       "      <th>entity</th>\n",
       "      <th>three_class</th>\n",
       "      <th>jour</th>\n",
       "      <th>P</th>\n",
       "      <th>T</th>\n",
       "      <th>pop</th>\n",
       "      <th>P hebdo</th>\n",
       "      <th>T hebdo</th>\n",
       "      <th>incidence hebdo</th>\n",
       "      <th>taux de positifs hebdo</th>\n",
       "      <th>taux de tests hebdo</th>\n",
       "    </tr>\n",
       "  </thead>\n",
       "  <tbody>\n",
       "    <tr>\n",
       "      <th>131999</th>\n",
       "      <td>974</td>\n",
       "      <td>whole</td>\n",
       "      <td>2020-06-14</td>\n",
       "      <td>0</td>\n",
       "      <td>156</td>\n",
       "      <td>859959.0</td>\n",
       "      <td>11.0</td>\n",
       "      <td>3462.0</td>\n",
       "      <td>1.279131</td>\n",
       "      <td>0.317735</td>\n",
       "      <td>402.577332</td>\n",
       "    </tr>\n",
       "    <tr>\n",
       "      <th>53921</th>\n",
       "      <td>40</td>\n",
       "      <td>30-59</td>\n",
       "      <td>2020-10-20</td>\n",
       "      <td>70</td>\n",
       "      <td>702</td>\n",
       "      <td>158040.0</td>\n",
       "      <td>302.0</td>\n",
       "      <td>3559.0</td>\n",
       "      <td>191.090863</td>\n",
       "      <td>8.485530</td>\n",
       "      <td>2251.961529</td>\n",
       "    </tr>\n",
       "    <tr>\n",
       "      <th>144541</th>\n",
       "      <td>Hauts-de-France</td>\n",
       "      <td>30-59</td>\n",
       "      <td>2020-10-31</td>\n",
       "      <td>1562</td>\n",
       "      <td>9798</td>\n",
       "      <td>2275147.0</td>\n",
       "      <td>17057.0</td>\n",
       "      <td>106725.0</td>\n",
       "      <td>749.709799</td>\n",
       "      <td>15.982197</td>\n",
       "      <td>4690.905687</td>\n",
       "    </tr>\n",
       "  </tbody>\n",
       "</table>\n",
       "</div>"
      ],
      "text/plain": [
       "                 entity three_class       jour     P     T        pop  \\\n",
       "131999              974       whole 2020-06-14     0   156   859959.0   \n",
       "53921                40       30-59 2020-10-20    70   702   158040.0   \n",
       "144541  Hauts-de-France       30-59 2020-10-31  1562  9798  2275147.0   \n",
       "\n",
       "        P hebdo   T hebdo  incidence hebdo  taux de positifs hebdo  \\\n",
       "131999     11.0    3462.0         1.279131                0.317735   \n",
       "53921     302.0    3559.0       191.090863                8.485530   \n",
       "144541  17057.0  106725.0       749.709799               15.982197   \n",
       "\n",
       "        taux de tests hebdo  \n",
       "131999           402.577332  \n",
       "53921           2251.961529  \n",
       "144541          4690.905687  "
      ]
     },
     "execution_count": 6,
     "metadata": {},
     "output_type": "execute_result"
    }
   ],
   "source": [
    "print(d_tests_3.shape)\n",
    "d_tests_3.sample(3)"
   ]
  },
  {
   "cell_type": "markdown",
   "metadata": {},
   "source": [
    "# Données hospitalières"
   ]
  },
  {
   "cell_type": "code",
   "execution_count": 7,
   "metadata": {},
   "outputs": [
    {
     "name": "stdout",
     "output_type": "stream",
     "text": [
      "../Data/donnees-hospitalieres-classe-age-covid19-2021-04-13-18h56.csv\n",
      "../Temp/v4/donnees-hospitalieres-classe-age-covid19-2021-04-13-18h56-3C-compute.csv\n"
     ]
    }
   ],
   "source": [
    "d_hosp_1, path_temp = cc.hosp_input()\n",
    "d_hosp_2 = cc.hosp_3C(d_hosp_1)\n",
    "d_hosp_3 = cc.hosp_compute(d_hosp_2)\n",
    "\n",
    "dout = d_hosp_3\n",
    "fname = path_temp + '-3C-compute.csv'\n",
    "dout.to_csv(fname, sep = ';', index = False)\n",
    "print(fname)"
   ]
  },
  {
   "cell_type": "code",
   "execution_count": 8,
   "metadata": {},
   "outputs": [
    {
     "name": "stdout",
     "output_type": "stream",
     "text": [
      "(77616, 10)\n"
     ]
    },
    {
     "data": {
      "text/html": [
       "<div>\n",
       "<style scoped>\n",
       "    .dataframe tbody tr th:only-of-type {\n",
       "        vertical-align: middle;\n",
       "    }\n",
       "\n",
       "    .dataframe tbody tr th {\n",
       "        vertical-align: top;\n",
       "    }\n",
       "\n",
       "    .dataframe thead th {\n",
       "        text-align: right;\n",
       "    }\n",
       "</style>\n",
       "<table border=\"1\" class=\"dataframe\">\n",
       "  <thead>\n",
       "    <tr style=\"text-align: right;\">\n",
       "      <th></th>\n",
       "      <th>jour</th>\n",
       "      <th>hosp</th>\n",
       "      <th>rea</th>\n",
       "      <th>HospConv</th>\n",
       "      <th>SSR_USLD</th>\n",
       "      <th>autres</th>\n",
       "      <th>rad</th>\n",
       "      <th>dc</th>\n",
       "      <th>entity</th>\n",
       "      <th>three_class</th>\n",
       "    </tr>\n",
       "  </thead>\n",
       "  <tbody>\n",
       "    <tr>\n",
       "      <th>24940</th>\n",
       "      <td>2020-07-21</td>\n",
       "      <td>0</td>\n",
       "      <td>0</td>\n",
       "      <td>NaN</td>\n",
       "      <td>NaN</td>\n",
       "      <td>NaN</td>\n",
       "      <td>14</td>\n",
       "      <td>0</td>\n",
       "      <td>Corse</td>\n",
       "      <td>0-29</td>\n",
       "    </tr>\n",
       "    <tr>\n",
       "      <th>57835</th>\n",
       "      <td>2021-01-04</td>\n",
       "      <td>7</td>\n",
       "      <td>2</td>\n",
       "      <td>NaN</td>\n",
       "      <td>NaN</td>\n",
       "      <td>NaN</td>\n",
       "      <td>65</td>\n",
       "      <td>12</td>\n",
       "      <td>Outre-mer (DROM)</td>\n",
       "      <td>60+</td>\n",
       "    </tr>\n",
       "    <tr>\n",
       "      <th>76876</th>\n",
       "      <td>2021-04-10</td>\n",
       "      <td>1</td>\n",
       "      <td>0</td>\n",
       "      <td>1.0</td>\n",
       "      <td>0.0</td>\n",
       "      <td>0.0</td>\n",
       "      <td>128</td>\n",
       "      <td>31</td>\n",
       "      <td>Outre-mer (DROM)</td>\n",
       "      <td>60+</td>\n",
       "    </tr>\n",
       "  </tbody>\n",
       "</table>\n",
       "</div>"
      ],
      "text/plain": [
       "            jour  hosp  rea  HospConv  SSR_USLD  autres  rad  dc  \\\n",
       "24940 2020-07-21     0    0       NaN       NaN     NaN   14   0   \n",
       "57835 2021-01-04     7    2       NaN       NaN     NaN   65  12   \n",
       "76876 2021-04-10     1    0       1.0       0.0     0.0  128  31   \n",
       "\n",
       "                 entity three_class  \n",
       "24940             Corse        0-29  \n",
       "57835  Outre-mer (DROM)         60+  \n",
       "76876  Outre-mer (DROM)         60+  "
      ]
     },
     "execution_count": 8,
     "metadata": {},
     "output_type": "execute_result"
    }
   ],
   "source": [
    "print(d_hosp_1.shape)\n",
    "d_hosp_1.sample(3)"
   ]
  },
  {
   "cell_type": "code",
   "execution_count": 9,
   "metadata": {},
   "outputs": [
    {
     "name": "stdout",
     "output_type": "stream",
     "text": [
      "(23520, 6)\n"
     ]
    },
    {
     "data": {
      "text/html": [
       "<div>\n",
       "<style scoped>\n",
       "    .dataframe tbody tr th:only-of-type {\n",
       "        vertical-align: middle;\n",
       "    }\n",
       "\n",
       "    .dataframe tbody tr th {\n",
       "        vertical-align: top;\n",
       "    }\n",
       "\n",
       "    .dataframe thead th {\n",
       "        text-align: right;\n",
       "    }\n",
       "</style>\n",
       "<table border=\"1\" class=\"dataframe\">\n",
       "  <thead>\n",
       "    <tr style=\"text-align: right;\">\n",
       "      <th></th>\n",
       "      <th>entity</th>\n",
       "      <th>three_class</th>\n",
       "      <th>jour</th>\n",
       "      <th>hosp</th>\n",
       "      <th>rea</th>\n",
       "      <th>dc</th>\n",
       "    </tr>\n",
       "  </thead>\n",
       "  <tbody>\n",
       "    <tr>\n",
       "      <th>15308</th>\n",
       "      <td>Occitanie</td>\n",
       "      <td>0-29</td>\n",
       "      <td>2021-01-11</td>\n",
       "      <td>12</td>\n",
       "      <td>1</td>\n",
       "      <td>1</td>\n",
       "    </tr>\n",
       "    <tr>\n",
       "      <th>20166</th>\n",
       "      <td>Provence-Alpes-Côte d'Azur</td>\n",
       "      <td>60+</td>\n",
       "      <td>2021-02-18</td>\n",
       "      <td>2969</td>\n",
       "      <td>333</td>\n",
       "      <td>5165</td>\n",
       "    </tr>\n",
       "    <tr>\n",
       "      <th>9880</th>\n",
       "      <td>Hauts-de-France</td>\n",
       "      <td>0-29</td>\n",
       "      <td>2020-07-14</td>\n",
       "      <td>8</td>\n",
       "      <td>0</td>\n",
       "      <td>1</td>\n",
       "    </tr>\n",
       "  </tbody>\n",
       "</table>\n",
       "</div>"
      ],
      "text/plain": [
       "                           entity three_class       jour  hosp  rea    dc\n",
       "15308                   Occitanie        0-29 2021-01-11    12    1     1\n",
       "20166  Provence-Alpes-Côte d'Azur         60+ 2021-02-18  2969  333  5165\n",
       "9880              Hauts-de-France        0-29 2020-07-14     8    0     1"
      ]
     },
     "execution_count": 9,
     "metadata": {},
     "output_type": "execute_result"
    }
   ],
   "source": [
    "print(d_hosp_2.shape)\n",
    "d_hosp_2.sample(3)"
   ]
  },
  {
   "cell_type": "code",
   "execution_count": 10,
   "metadata": {},
   "outputs": [
    {
     "name": "stdout",
     "output_type": "stream",
     "text": [
      "(23520, 10)\n"
     ]
    },
    {
     "data": {
      "text/html": [
       "<div>\n",
       "<style scoped>\n",
       "    .dataframe tbody tr th:only-of-type {\n",
       "        vertical-align: middle;\n",
       "    }\n",
       "\n",
       "    .dataframe tbody tr th {\n",
       "        vertical-align: top;\n",
       "    }\n",
       "\n",
       "    .dataframe thead th {\n",
       "        text-align: right;\n",
       "    }\n",
       "</style>\n",
       "<table border=\"1\" class=\"dataframe\">\n",
       "  <thead>\n",
       "    <tr style=\"text-align: right;\">\n",
       "      <th></th>\n",
       "      <th>entity</th>\n",
       "      <th>three_class</th>\n",
       "      <th>jour</th>\n",
       "      <th>hosp</th>\n",
       "      <th>rea</th>\n",
       "      <th>dc</th>\n",
       "      <th>dc hebdo</th>\n",
       "      <th>taux hosp</th>\n",
       "      <th>taux rea</th>\n",
       "      <th>taux décès</th>\n",
       "    </tr>\n",
       "  </thead>\n",
       "  <tbody>\n",
       "    <tr>\n",
       "      <th>8659</th>\n",
       "      <td>Grand Est</td>\n",
       "      <td>whole</td>\n",
       "      <td>2020-10-08</td>\n",
       "      <td>265</td>\n",
       "      <td>39</td>\n",
       "      <td>3752</td>\n",
       "      <td>12.0</td>\n",
       "      <td>4.807913</td>\n",
       "      <td>0.707580</td>\n",
       "      <td>0.217717</td>\n",
       "    </tr>\n",
       "    <tr>\n",
       "      <th>17926</th>\n",
       "      <td>Pays de la Loire</td>\n",
       "      <td>60+</td>\n",
       "      <td>2020-09-03</td>\n",
       "      <td>68</td>\n",
       "      <td>6</td>\n",
       "      <td>476</td>\n",
       "      <td>3.0</td>\n",
       "      <td>6.513092</td>\n",
       "      <td>0.574685</td>\n",
       "      <td>0.287342</td>\n",
       "    </tr>\n",
       "    <tr>\n",
       "      <th>9729</th>\n",
       "      <td>Hauts-de-France</td>\n",
       "      <td>30-59</td>\n",
       "      <td>2020-06-06</td>\n",
       "      <td>162</td>\n",
       "      <td>28</td>\n",
       "      <td>87</td>\n",
       "      <td>2.0</td>\n",
       "      <td>7.120419</td>\n",
       "      <td>1.230690</td>\n",
       "      <td>0.087906</td>\n",
       "    </tr>\n",
       "  </tbody>\n",
       "</table>\n",
       "</div>"
      ],
      "text/plain": [
       "                 entity three_class       jour  hosp  rea    dc  dc hebdo  \\\n",
       "8659          Grand Est       whole 2020-10-08   265   39  3752      12.0   \n",
       "17926  Pays de la Loire         60+ 2020-09-03    68    6   476       3.0   \n",
       "9729    Hauts-de-France       30-59 2020-06-06   162   28    87       2.0   \n",
       "\n",
       "       taux hosp  taux rea  taux décès  \n",
       "8659    4.807913  0.707580    0.217717  \n",
       "17926   6.513092  0.574685    0.287342  \n",
       "9729    7.120419  1.230690    0.087906  "
      ]
     },
     "execution_count": 10,
     "metadata": {},
     "output_type": "execute_result"
    }
   ],
   "source": [
    "print(d_hosp_3.shape)\n",
    "d_hosp_3.sample(3)"
   ]
  },
  {
   "cell_type": "markdown",
   "metadata": {},
   "source": [
    "# Données relatives aux personnes vaccinées (VACSI) "
   ]
  },
  {
   "cell_type": "code",
   "execution_count": 11,
   "metadata": {},
   "outputs": [
    {
     "name": "stdout",
     "output_type": "stream",
     "text": [
      "../Data/vacsi-a-dep-2021-04-13-18h55.csv\n",
      "../Temp/v4/vacsi-a-dep-2021-04-13-18h55-tot-3C-compute.csv\n"
     ]
    }
   ],
   "source": [
    "d_vac_1, path_temp = cc.vac_input()\n",
    "d_vac_2 = cc.vac_tot_3C(d_vac_1)\n",
    "d_vac_3 = cc.vac_compute(d_vac_2)\n",
    "\n",
    "dout = d_vac_3\n",
    "fname = path_temp + '-tot-3C-compute.csv'\n",
    "dout.to_csv(fname, sep = ';', index = False)\n",
    "print(fname)"
   ]
  },
  {
   "cell_type": "code",
   "execution_count": 12,
   "metadata": {},
   "outputs": [
    {
     "name": "stdout",
     "output_type": "stream",
     "text": [
      "(124762, 7)\n"
     ]
    },
    {
     "data": {
      "text/html": [
       "<div>\n",
       "<style scoped>\n",
       "    .dataframe tbody tr th:only-of-type {\n",
       "        vertical-align: middle;\n",
       "    }\n",
       "\n",
       "    .dataframe tbody tr th {\n",
       "        vertical-align: top;\n",
       "    }\n",
       "\n",
       "    .dataframe thead th {\n",
       "        text-align: right;\n",
       "    }\n",
       "</style>\n",
       "<table border=\"1\" class=\"dataframe\">\n",
       "  <thead>\n",
       "    <tr style=\"text-align: right;\">\n",
       "      <th></th>\n",
       "      <th>dep</th>\n",
       "      <th>clage_vacsi</th>\n",
       "      <th>jour</th>\n",
       "      <th>n_dose1</th>\n",
       "      <th>n_dose2</th>\n",
       "      <th>n_cum_dose1</th>\n",
       "      <th>n_cum_dose2</th>\n",
       "    </tr>\n",
       "  </thead>\n",
       "  <tbody>\n",
       "    <tr>\n",
       "      <th>34076</th>\n",
       "      <td>30</td>\n",
       "      <td>79</td>\n",
       "      <td>2021-02-15</td>\n",
       "      <td>129</td>\n",
       "      <td>164</td>\n",
       "      <td>5059</td>\n",
       "      <td>1233</td>\n",
       "    </tr>\n",
       "    <tr>\n",
       "      <th>26182</th>\n",
       "      <td>25</td>\n",
       "      <td>59</td>\n",
       "      <td>2021-03-11</td>\n",
       "      <td>206</td>\n",
       "      <td>21</td>\n",
       "      <td>5114</td>\n",
       "      <td>2481</td>\n",
       "    </tr>\n",
       "    <tr>\n",
       "      <th>5924</th>\n",
       "      <td>05</td>\n",
       "      <td>64</td>\n",
       "      <td>2021-02-04</td>\n",
       "      <td>1</td>\n",
       "      <td>12</td>\n",
       "      <td>299</td>\n",
       "      <td>62</td>\n",
       "    </tr>\n",
       "  </tbody>\n",
       "</table>\n",
       "</div>"
      ],
      "text/plain": [
       "      dep  clage_vacsi       jour  n_dose1  n_dose2  n_cum_dose1  n_cum_dose2\n",
       "34076  30           79 2021-02-15      129      164         5059         1233\n",
       "26182  25           59 2021-03-11      206       21         5114         2481\n",
       "5924   05           64 2021-02-04        1       12          299           62"
      ]
     },
     "execution_count": 12,
     "metadata": {},
     "output_type": "execute_result"
    }
   ],
   "source": [
    "print(d_vac_1.shape)\n",
    "d_vac_1.sample(3)"
   ]
  },
  {
   "cell_type": "code",
   "execution_count": 13,
   "metadata": {},
   "outputs": [
    {
     "name": "stdout",
     "output_type": "stream",
     "text": [
      "(49648, 7)\n"
     ]
    },
    {
     "data": {
      "text/html": [
       "<div>\n",
       "<style scoped>\n",
       "    .dataframe tbody tr th:only-of-type {\n",
       "        vertical-align: middle;\n",
       "    }\n",
       "\n",
       "    .dataframe tbody tr th {\n",
       "        vertical-align: top;\n",
       "    }\n",
       "\n",
       "    .dataframe thead th {\n",
       "        text-align: right;\n",
       "    }\n",
       "</style>\n",
       "<table border=\"1\" class=\"dataframe\">\n",
       "  <thead>\n",
       "    <tr style=\"text-align: right;\">\n",
       "      <th></th>\n",
       "      <th>entity</th>\n",
       "      <th>three_class</th>\n",
       "      <th>jour</th>\n",
       "      <th>n_dose1</th>\n",
       "      <th>n_dose2</th>\n",
       "      <th>n_cum_dose1</th>\n",
       "      <th>n_cum_dose2</th>\n",
       "    </tr>\n",
       "  </thead>\n",
       "  <tbody>\n",
       "    <tr>\n",
       "      <th>16946</th>\n",
       "      <td>39</td>\n",
       "      <td>60+</td>\n",
       "      <td>2021-02-28</td>\n",
       "      <td>0</td>\n",
       "      <td>0</td>\n",
       "      <td>15243</td>\n",
       "      <td>9890</td>\n",
       "    </tr>\n",
       "    <tr>\n",
       "      <th>18448</th>\n",
       "      <td>43</td>\n",
       "      <td>0-29</td>\n",
       "      <td>2021-01-07</td>\n",
       "      <td>0</td>\n",
       "      <td>0</td>\n",
       "      <td>0</td>\n",
       "      <td>0</td>\n",
       "    </tr>\n",
       "    <tr>\n",
       "      <th>33920</th>\n",
       "      <td>79</td>\n",
       "      <td>0-29</td>\n",
       "      <td>2021-01-23</td>\n",
       "      <td>2</td>\n",
       "      <td>0</td>\n",
       "      <td>108</td>\n",
       "      <td>0</td>\n",
       "    </tr>\n",
       "  </tbody>\n",
       "</table>\n",
       "</div>"
      ],
      "text/plain": [
       "      entity three_class       jour  n_dose1  n_dose2  n_cum_dose1  \\\n",
       "16946     39         60+ 2021-02-28        0        0        15243   \n",
       "18448     43        0-29 2021-01-07        0        0            0   \n",
       "33920     79        0-29 2021-01-23        2        0          108   \n",
       "\n",
       "       n_cum_dose2  \n",
       "16946         9890  \n",
       "18448            0  \n",
       "33920            0  "
      ]
     },
     "execution_count": 13,
     "metadata": {},
     "output_type": "execute_result"
    }
   ],
   "source": [
    "print(d_vac_2.shape)\n",
    "d_vac_2.sample(3)"
   ]
  },
  {
   "cell_type": "code",
   "execution_count": 14,
   "metadata": {},
   "outputs": [
    {
     "name": "stdout",
     "output_type": "stream",
     "text": [
      "(49648, 9)\n"
     ]
    },
    {
     "data": {
      "text/html": [
       "<div>\n",
       "<style scoped>\n",
       "    .dataframe tbody tr th:only-of-type {\n",
       "        vertical-align: middle;\n",
       "    }\n",
       "\n",
       "    .dataframe tbody tr th {\n",
       "        vertical-align: top;\n",
       "    }\n",
       "\n",
       "    .dataframe thead th {\n",
       "        text-align: right;\n",
       "    }\n",
       "</style>\n",
       "<table border=\"1\" class=\"dataframe\">\n",
       "  <thead>\n",
       "    <tr style=\"text-align: right;\">\n",
       "      <th></th>\n",
       "      <th>entity</th>\n",
       "      <th>three_class</th>\n",
       "      <th>jour</th>\n",
       "      <th>n_dose1</th>\n",
       "      <th>n_dose2</th>\n",
       "      <th>n_cum_dose1</th>\n",
       "      <th>n_cum_dose2</th>\n",
       "      <th>taux dose 1</th>\n",
       "      <th>taux dose 2</th>\n",
       "    </tr>\n",
       "  </thead>\n",
       "  <tbody>\n",
       "    <tr>\n",
       "      <th>8897</th>\n",
       "      <td>22</td>\n",
       "      <td>30-59</td>\n",
       "      <td>2021-03-21</td>\n",
       "      <td>0</td>\n",
       "      <td>0</td>\n",
       "      <td>14934</td>\n",
       "      <td>6249</td>\n",
       "      <td>6.976451</td>\n",
       "      <td>2.919234</td>\n",
       "    </tr>\n",
       "    <tr>\n",
       "      <th>41040</th>\n",
       "      <td>95</td>\n",
       "      <td>0-29</td>\n",
       "      <td>2021-04-01</td>\n",
       "      <td>236</td>\n",
       "      <td>6</td>\n",
       "      <td>3571</td>\n",
       "      <td>461</td>\n",
       "      <td>0.701529</td>\n",
       "      <td>0.090564</td>\n",
       "    </tr>\n",
       "    <tr>\n",
       "      <th>16066</th>\n",
       "      <td>37</td>\n",
       "      <td>60+</td>\n",
       "      <td>2021-02-22</td>\n",
       "      <td>142</td>\n",
       "      <td>317</td>\n",
       "      <td>16817</td>\n",
       "      <td>7927</td>\n",
       "      <td>9.723451</td>\n",
       "      <td>4.583326</td>\n",
       "    </tr>\n",
       "  </tbody>\n",
       "</table>\n",
       "</div>"
      ],
      "text/plain": [
       "      entity three_class       jour  n_dose1  n_dose2  n_cum_dose1  \\\n",
       "8897      22       30-59 2021-03-21        0        0        14934   \n",
       "41040     95        0-29 2021-04-01      236        6         3571   \n",
       "16066     37         60+ 2021-02-22      142      317        16817   \n",
       "\n",
       "       n_cum_dose2  taux dose 1  taux dose 2  \n",
       "8897          6249     6.976451     2.919234  \n",
       "41040          461     0.701529     0.090564  \n",
       "16066         7927     9.723451     4.583326  "
      ]
     },
     "execution_count": 14,
     "metadata": {},
     "output_type": "execute_result"
    }
   ],
   "source": [
    "print(d_vac_3.shape)\n",
    "d_vac_3.sample(3)"
   ]
  }
 ],
 "metadata": {
  "kernelspec": {
   "display_name": "Python 3",
   "language": "python",
   "name": "python3"
  },
  "language_info": {
   "codemirror_mode": {
    "name": "ipython",
    "version": 3
   },
   "file_extension": ".py",
   "mimetype": "text/x-python",
   "name": "python",
   "nbconvert_exporter": "python",
   "pygments_lexer": "ipython3",
   "version": "3.7.3"
  }
 },
 "nbformat": 4,
 "nbformat_minor": 2
}
