{
 "cells": [
  {
   "cell_type": "code",
   "execution_count": 1,
   "metadata": {},
   "outputs": [],
   "source": [
    "import pandas as pd"
   ]
  },
  {
   "cell_type": "code",
   "execution_count": 2,
   "metadata": {},
   "outputs": [
    {
     "name": "stdout",
     "output_type": "stream",
     "text": [
      "Today is 13/04/2021. Retrieve data from how many days? \n",
      "Ok, will retrieve data from 12/04/2021\n"
     ]
    }
   ],
   "source": [
    "import my_package.v4_dicts as dc\n",
    "import my_package.v4_datepaths as dp\n",
    "import my_package.v4_calculus as cc"
   ]
  },
  {
   "cell_type": "markdown",
   "metadata": {},
   "source": [
    "https://www.data.gouv.fr/fr/datasets/donnees-relatives-aux-resultats-des-tests-virologiques-covid-19/\n",
    "\n",
    "https://www.data.gouv.fr/fr/datasets/donnees-hospitalieres-relatives-a-lepidemie-de-covid-19/\n",
    "\n",
    "https://www.data.gouv.fr/fr/datasets/donnees-relatives-aux-personnes-vaccinees-contre-la-covid-19-1/"
   ]
  },
  {
   "cell_type": "markdown",
   "metadata": {},
   "source": [
    "# Données relatives aux résultats des tests virologiques"
   ]
  },
  {
   "cell_type": "code",
   "execution_count": 3,
   "metadata": {},
   "outputs": [
    {
     "name": "stdout",
     "output_type": "stream",
     "text": [
      "../Data/sp-pos-quot-dep-2021-04-12-18h12.csv\n",
      "../Temp/v4/sp-pos-quot-dep-2021-04-12-18h12-tot-3C-compute.csv\n"
     ]
    }
   ],
   "source": [
    "d_tests_1, path_temp = cc.sp_input()\n",
    "d_tests_2 = cc.sp_tot_3C(d_tests_1)\n",
    "d_tests_3 = cc.sp_compute(d_tests_2)\n",
    "\n",
    "dout = d_tests_3\n",
    "fname = path_temp + '-tot-3C-compute.csv'\n",
    "dout.to_csv(fname, sep = ';', index = False)\n",
    "print(fname)"
   ]
  },
  {
   "cell_type": "code",
   "execution_count": 4,
   "metadata": {},
   "outputs": [
    {
     "name": "stdout",
     "output_type": "stream",
     "text": [
      "(379808, 6)\n"
     ]
    },
    {
     "data": {
      "text/html": [
       "<div>\n",
       "<style scoped>\n",
       "    .dataframe tbody tr th:only-of-type {\n",
       "        vertical-align: middle;\n",
       "    }\n",
       "\n",
       "    .dataframe tbody tr th {\n",
       "        vertical-align: top;\n",
       "    }\n",
       "\n",
       "    .dataframe thead th {\n",
       "        text-align: right;\n",
       "    }\n",
       "</style>\n",
       "<table border=\"1\" class=\"dataframe\">\n",
       "  <thead>\n",
       "    <tr style=\"text-align: right;\">\n",
       "      <th></th>\n",
       "      <th>dep</th>\n",
       "      <th>jour</th>\n",
       "      <th>P</th>\n",
       "      <th>T</th>\n",
       "      <th>cl_age90</th>\n",
       "      <th>pop</th>\n",
       "    </tr>\n",
       "  </thead>\n",
       "  <tbody>\n",
       "    <tr>\n",
       "      <th>332034</th>\n",
       "      <td>90</td>\n",
       "      <td>2021-03-13</td>\n",
       "      <td>40</td>\n",
       "      <td>424</td>\n",
       "      <td>0</td>\n",
       "      <td>140145.0</td>\n",
       "    </tr>\n",
       "    <tr>\n",
       "      <th>304141</th>\n",
       "      <td>83</td>\n",
       "      <td>2020-08-14</td>\n",
       "      <td>30</td>\n",
       "      <td>620</td>\n",
       "      <td>29</td>\n",
       "      <td>95085.0</td>\n",
       "    </tr>\n",
       "    <tr>\n",
       "      <th>212354</th>\n",
       "      <td>58</td>\n",
       "      <td>2020-06-30</td>\n",
       "      <td>0</td>\n",
       "      <td>147</td>\n",
       "      <td>0</td>\n",
       "      <td>199596.0</td>\n",
       "    </tr>\n",
       "  </tbody>\n",
       "</table>\n",
       "</div>"
      ],
      "text/plain": [
       "       dep       jour   P    T  cl_age90       pop\n",
       "332034  90 2021-03-13  40  424         0  140145.0\n",
       "304141  83 2020-08-14  30  620        29   95085.0\n",
       "212354  58 2020-06-30   0  147         0  199596.0"
      ]
     },
     "execution_count": 4,
     "metadata": {},
     "output_type": "execute_result"
    }
   ],
   "source": [
    "print(d_tests_1.shape)\n",
    "d_tests_1.sample(3)"
   ]
  },
  {
   "cell_type": "code",
   "execution_count": 5,
   "metadata": {},
   "outputs": [
    {
     "name": "stdout",
     "output_type": "stream",
     "text": [
      "(154048, 6)\n"
     ]
    },
    {
     "data": {
      "text/html": [
       "<div>\n",
       "<style scoped>\n",
       "    .dataframe tbody tr th:only-of-type {\n",
       "        vertical-align: middle;\n",
       "    }\n",
       "\n",
       "    .dataframe tbody tr th {\n",
       "        vertical-align: top;\n",
       "    }\n",
       "\n",
       "    .dataframe thead th {\n",
       "        text-align: right;\n",
       "    }\n",
       "</style>\n",
       "<table border=\"1\" class=\"dataframe\">\n",
       "  <thead>\n",
       "    <tr style=\"text-align: right;\">\n",
       "      <th></th>\n",
       "      <th>entity</th>\n",
       "      <th>three_class</th>\n",
       "      <th>jour</th>\n",
       "      <th>P</th>\n",
       "      <th>T</th>\n",
       "      <th>pop</th>\n",
       "    </tr>\n",
       "  </thead>\n",
       "  <tbody>\n",
       "    <tr>\n",
       "      <th>98029</th>\n",
       "      <td>73</td>\n",
       "      <td>30-59</td>\n",
       "      <td>2021-02-08</td>\n",
       "      <td>65</td>\n",
       "      <td>924</td>\n",
       "      <td>169742.0</td>\n",
       "    </tr>\n",
       "    <tr>\n",
       "      <th>75605</th>\n",
       "      <td>56</td>\n",
       "      <td>30-59</td>\n",
       "      <td>2021-03-18</td>\n",
       "      <td>68</td>\n",
       "      <td>1419</td>\n",
       "      <td>278704.0</td>\n",
       "    </tr>\n",
       "    <tr>\n",
       "      <th>64749</th>\n",
       "      <td>48</td>\n",
       "      <td>30-59</td>\n",
       "      <td>2021-01-19</td>\n",
       "      <td>20</td>\n",
       "      <td>171</td>\n",
       "      <td>28147.0</td>\n",
       "    </tr>\n",
       "  </tbody>\n",
       "</table>\n",
       "</div>"
      ],
      "text/plain": [
       "      entity three_class       jour   P     T       pop\n",
       "98029     73       30-59 2021-02-08  65   924  169742.0\n",
       "75605     56       30-59 2021-03-18  68  1419  278704.0\n",
       "64749     48       30-59 2021-01-19  20   171   28147.0"
      ]
     },
     "execution_count": 5,
     "metadata": {},
     "output_type": "execute_result"
    }
   ],
   "source": [
    "print(d_tests_2.shape)\n",
    "d_tests_2.sample(3)"
   ]
  },
  {
   "cell_type": "code",
   "execution_count": 6,
   "metadata": {},
   "outputs": [
    {
     "name": "stdout",
     "output_type": "stream",
     "text": [
      "(154048, 11)\n"
     ]
    },
    {
     "data": {
      "text/html": [
       "<div>\n",
       "<style scoped>\n",
       "    .dataframe tbody tr th:only-of-type {\n",
       "        vertical-align: middle;\n",
       "    }\n",
       "\n",
       "    .dataframe tbody tr th {\n",
       "        vertical-align: top;\n",
       "    }\n",
       "\n",
       "    .dataframe thead th {\n",
       "        text-align: right;\n",
       "    }\n",
       "</style>\n",
       "<table border=\"1\" class=\"dataframe\">\n",
       "  <thead>\n",
       "    <tr style=\"text-align: right;\">\n",
       "      <th></th>\n",
       "      <th>entity</th>\n",
       "      <th>three_class</th>\n",
       "      <th>jour</th>\n",
       "      <th>P</th>\n",
       "      <th>T</th>\n",
       "      <th>pop</th>\n",
       "      <th>P hebdo</th>\n",
       "      <th>T hebdo</th>\n",
       "      <th>incidence hebdo</th>\n",
       "      <th>taux de positifs hebdo</th>\n",
       "      <th>taux de tests hebdo</th>\n",
       "    </tr>\n",
       "  </thead>\n",
       "  <tbody>\n",
       "    <tr>\n",
       "      <th>129939</th>\n",
       "      <td>972</td>\n",
       "      <td>whole</td>\n",
       "      <td>2021-02-17</td>\n",
       "      <td>3</td>\n",
       "      <td>174</td>\n",
       "      <td>358749.0</td>\n",
       "      <td>57.0</td>\n",
       "      <td>2234.0</td>\n",
       "      <td>15.888546</td>\n",
       "      <td>2.551477</td>\n",
       "      <td>622.719506</td>\n",
       "    </tr>\n",
       "    <tr>\n",
       "      <th>71700</th>\n",
       "      <td>53</td>\n",
       "      <td>0-29</td>\n",
       "      <td>2021-04-07</td>\n",
       "      <td>39</td>\n",
       "      <td>555</td>\n",
       "      <td>103116.0</td>\n",
       "      <td>221.0</td>\n",
       "      <td>4616.0</td>\n",
       "      <td>214.321735</td>\n",
       "      <td>4.787695</td>\n",
       "      <td>4476.511890</td>\n",
       "    </tr>\n",
       "    <tr>\n",
       "      <th>14482</th>\n",
       "      <td>11</td>\n",
       "      <td>60+</td>\n",
       "      <td>2021-03-09</td>\n",
       "      <td>17</td>\n",
       "      <td>636</td>\n",
       "      <td>126962.0</td>\n",
       "      <td>89.0</td>\n",
       "      <td>3390.0</td>\n",
       "      <td>70.099715</td>\n",
       "      <td>2.625369</td>\n",
       "      <td>2670.090263</td>\n",
       "    </tr>\n",
       "  </tbody>\n",
       "</table>\n",
       "</div>"
      ],
      "text/plain": [
       "       entity three_class       jour   P    T       pop  P hebdo  T hebdo  \\\n",
       "129939    972       whole 2021-02-17   3  174  358749.0     57.0   2234.0   \n",
       "71700      53        0-29 2021-04-07  39  555  103116.0    221.0   4616.0   \n",
       "14482      11         60+ 2021-03-09  17  636  126962.0     89.0   3390.0   \n",
       "\n",
       "        incidence hebdo  taux de positifs hebdo  taux de tests hebdo  \n",
       "129939        15.888546                2.551477           622.719506  \n",
       "71700        214.321735                4.787695          4476.511890  \n",
       "14482         70.099715                2.625369          2670.090263  "
      ]
     },
     "execution_count": 6,
     "metadata": {},
     "output_type": "execute_result"
    }
   ],
   "source": [
    "print(d_tests_3.shape)\n",
    "d_tests_3.sample(3)"
   ]
  },
  {
   "cell_type": "markdown",
   "metadata": {},
   "source": [
    "# Données hospitalières"
   ]
  },
  {
   "cell_type": "code",
   "execution_count": 7,
   "metadata": {},
   "outputs": [
    {
     "name": "stdout",
     "output_type": "stream",
     "text": [
      "../Data/donnees-hospitalieres-classe-age-covid19-2021-04-12-18h07.csv\n",
      "../Temp/v4/donnees-hospitalieres-classe-age-covid19-2021-04-12-18h07-3C-compute.csv\n"
     ]
    }
   ],
   "source": [
    "d_hosp_1, path_temp = cc.hosp_input()\n",
    "d_hosp_2 = cc.hosp_3C(d_hosp_1)\n",
    "d_hosp_3 = cc.hosp_compute(d_hosp_2)\n",
    "\n",
    "dout = d_hosp_3\n",
    "fname = path_temp + '-3C-compute.csv'\n",
    "dout.to_csv(fname, sep = ';', index = False)\n",
    "print(fname)"
   ]
  },
  {
   "cell_type": "code",
   "execution_count": 8,
   "metadata": {},
   "outputs": [
    {
     "name": "stdout",
     "output_type": "stream",
     "text": [
      "(77418, 10)\n"
     ]
    },
    {
     "data": {
      "text/html": [
       "<div>\n",
       "<style scoped>\n",
       "    .dataframe tbody tr th:only-of-type {\n",
       "        vertical-align: middle;\n",
       "    }\n",
       "\n",
       "    .dataframe tbody tr th {\n",
       "        vertical-align: top;\n",
       "    }\n",
       "\n",
       "    .dataframe thead th {\n",
       "        text-align: right;\n",
       "    }\n",
       "</style>\n",
       "<table border=\"1\" class=\"dataframe\">\n",
       "  <thead>\n",
       "    <tr style=\"text-align: right;\">\n",
       "      <th></th>\n",
       "      <th>jour</th>\n",
       "      <th>hosp</th>\n",
       "      <th>rea</th>\n",
       "      <th>HospConv</th>\n",
       "      <th>SSR_USLD</th>\n",
       "      <th>autres</th>\n",
       "      <th>rad</th>\n",
       "      <th>dc</th>\n",
       "      <th>entity</th>\n",
       "      <th>three_class</th>\n",
       "    </tr>\n",
       "  </thead>\n",
       "  <tbody>\n",
       "    <tr>\n",
       "      <th>77286</th>\n",
       "      <td>2021-04-12</td>\n",
       "      <td>1151</td>\n",
       "      <td>198</td>\n",
       "      <td>573.0</td>\n",
       "      <td>369.0</td>\n",
       "      <td>11.0</td>\n",
       "      <td>9620</td>\n",
       "      <td>2329</td>\n",
       "      <td>Centre-Val de Loire</td>\n",
       "      <td>whole</td>\n",
       "    </tr>\n",
       "    <tr>\n",
       "      <th>6422</th>\n",
       "      <td>2020-04-19</td>\n",
       "      <td>436</td>\n",
       "      <td>21</td>\n",
       "      <td>NaN</td>\n",
       "      <td>NaN</td>\n",
       "      <td>NaN</td>\n",
       "      <td>348</td>\n",
       "      <td>301</td>\n",
       "      <td>Bourgogne-Franche-Comté</td>\n",
       "      <td>60+</td>\n",
       "    </tr>\n",
       "    <tr>\n",
       "      <th>16121</th>\n",
       "      <td>2020-06-07</td>\n",
       "      <td>26</td>\n",
       "      <td>3</td>\n",
       "      <td>NaN</td>\n",
       "      <td>NaN</td>\n",
       "      <td>NaN</td>\n",
       "      <td>416</td>\n",
       "      <td>26</td>\n",
       "      <td>Bourgogne-Franche-Comté</td>\n",
       "      <td>30-59</td>\n",
       "    </tr>\n",
       "  </tbody>\n",
       "</table>\n",
       "</div>"
      ],
      "text/plain": [
       "            jour  hosp  rea  HospConv  SSR_USLD  autres   rad    dc  \\\n",
       "77286 2021-04-12  1151  198     573.0     369.0    11.0  9620  2329   \n",
       "6422  2020-04-19   436   21       NaN       NaN     NaN   348   301   \n",
       "16121 2020-06-07    26    3       NaN       NaN     NaN   416    26   \n",
       "\n",
       "                        entity three_class  \n",
       "77286      Centre-Val de Loire       whole  \n",
       "6422   Bourgogne-Franche-Comté         60+  \n",
       "16121  Bourgogne-Franche-Comté       30-59  "
      ]
     },
     "execution_count": 8,
     "metadata": {},
     "output_type": "execute_result"
    }
   ],
   "source": [
    "print(d_hosp_1.shape)\n",
    "d_hosp_1.sample(3)"
   ]
  },
  {
   "cell_type": "code",
   "execution_count": 9,
   "metadata": {},
   "outputs": [
    {
     "name": "stdout",
     "output_type": "stream",
     "text": [
      "(23460, 6)\n"
     ]
    },
    {
     "data": {
      "text/html": [
       "<div>\n",
       "<style scoped>\n",
       "    .dataframe tbody tr th:only-of-type {\n",
       "        vertical-align: middle;\n",
       "    }\n",
       "\n",
       "    .dataframe tbody tr th {\n",
       "        vertical-align: top;\n",
       "    }\n",
       "\n",
       "    .dataframe thead th {\n",
       "        text-align: right;\n",
       "    }\n",
       "</style>\n",
       "<table border=\"1\" class=\"dataframe\">\n",
       "  <thead>\n",
       "    <tr style=\"text-align: right;\">\n",
       "      <th></th>\n",
       "      <th>entity</th>\n",
       "      <th>three_class</th>\n",
       "      <th>jour</th>\n",
       "      <th>hosp</th>\n",
       "      <th>rea</th>\n",
       "      <th>dc</th>\n",
       "    </tr>\n",
       "  </thead>\n",
       "  <tbody>\n",
       "    <tr>\n",
       "      <th>22604</th>\n",
       "      <td>France</td>\n",
       "      <td>0-29</td>\n",
       "      <td>2020-09-11</td>\n",
       "      <td>158</td>\n",
       "      <td>11</td>\n",
       "      <td>34</td>\n",
       "    </tr>\n",
       "    <tr>\n",
       "      <th>9174</th>\n",
       "      <td>Grand Est</td>\n",
       "      <td>60+</td>\n",
       "      <td>2021-02-19</td>\n",
       "      <td>2078</td>\n",
       "      <td>222</td>\n",
       "      <td>7474</td>\n",
       "    </tr>\n",
       "    <tr>\n",
       "      <th>21020</th>\n",
       "      <td>Île-de-France</td>\n",
       "      <td>0-29</td>\n",
       "      <td>2020-09-06</td>\n",
       "      <td>65</td>\n",
       "      <td>4</td>\n",
       "      <td>18</td>\n",
       "    </tr>\n",
       "  </tbody>\n",
       "</table>\n",
       "</div>"
      ],
      "text/plain": [
       "              entity three_class       jour  hosp  rea    dc\n",
       "22604         France        0-29 2020-09-11   158   11    34\n",
       "9174       Grand Est         60+ 2021-02-19  2078  222  7474\n",
       "21020  Île-de-France        0-29 2020-09-06    65    4    18"
      ]
     },
     "execution_count": 9,
     "metadata": {},
     "output_type": "execute_result"
    }
   ],
   "source": [
    "print(d_hosp_2.shape)\n",
    "d_hosp_2.sample(3)"
   ]
  },
  {
   "cell_type": "code",
   "execution_count": 10,
   "metadata": {},
   "outputs": [
    {
     "name": "stdout",
     "output_type": "stream",
     "text": [
      "(23460, 10)\n"
     ]
    },
    {
     "data": {
      "text/html": [
       "<div>\n",
       "<style scoped>\n",
       "    .dataframe tbody tr th:only-of-type {\n",
       "        vertical-align: middle;\n",
       "    }\n",
       "\n",
       "    .dataframe tbody tr th {\n",
       "        vertical-align: top;\n",
       "    }\n",
       "\n",
       "    .dataframe thead th {\n",
       "        text-align: right;\n",
       "    }\n",
       "</style>\n",
       "<table border=\"1\" class=\"dataframe\">\n",
       "  <thead>\n",
       "    <tr style=\"text-align: right;\">\n",
       "      <th></th>\n",
       "      <th>entity</th>\n",
       "      <th>three_class</th>\n",
       "      <th>jour</th>\n",
       "      <th>hosp</th>\n",
       "      <th>rea</th>\n",
       "      <th>dc</th>\n",
       "      <th>dc hebdo</th>\n",
       "      <th>taux hosp</th>\n",
       "      <th>taux rea</th>\n",
       "      <th>taux décès</th>\n",
       "    </tr>\n",
       "  </thead>\n",
       "  <tbody>\n",
       "    <tr>\n",
       "      <th>19614</th>\n",
       "      <td>Provence-Alpes-Côte d'Azur</td>\n",
       "      <td>60+</td>\n",
       "      <td>2020-10-15</td>\n",
       "      <td>844</td>\n",
       "      <td>171</td>\n",
       "      <td>1186</td>\n",
       "      <td>52.0</td>\n",
       "      <td>55.970063</td>\n",
       "      <td>11.339906</td>\n",
       "      <td>3.448392</td>\n",
       "    </tr>\n",
       "    <tr>\n",
       "      <th>6825</th>\n",
       "      <td>Corse</td>\n",
       "      <td>30-59</td>\n",
       "      <td>2020-08-07</td>\n",
       "      <td>1</td>\n",
       "      <td>0</td>\n",
       "      <td>2</td>\n",
       "      <td>0.0</td>\n",
       "      <td>0.730999</td>\n",
       "      <td>0.000000</td>\n",
       "      <td>0.000000</td>\n",
       "    </tr>\n",
       "    <tr>\n",
       "      <th>8135</th>\n",
       "      <td>Grand Est</td>\n",
       "      <td>whole</td>\n",
       "      <td>2020-06-04</td>\n",
       "      <td>1863</td>\n",
       "      <td>138</td>\n",
       "      <td>3461</td>\n",
       "      <td>64.0</td>\n",
       "      <td>33.800535</td>\n",
       "      <td>2.503743</td>\n",
       "      <td>1.161156</td>\n",
       "    </tr>\n",
       "  </tbody>\n",
       "</table>\n",
       "</div>"
      ],
      "text/plain": [
       "                           entity three_class       jour  hosp  rea    dc  \\\n",
       "19614  Provence-Alpes-Côte d'Azur         60+ 2020-10-15   844  171  1186   \n",
       "6825                        Corse       30-59 2020-08-07     1    0     2   \n",
       "8135                    Grand Est       whole 2020-06-04  1863  138  3461   \n",
       "\n",
       "       dc hebdo  taux hosp   taux rea  taux décès  \n",
       "19614      52.0  55.970063  11.339906    3.448392  \n",
       "6825        0.0   0.730999   0.000000    0.000000  \n",
       "8135       64.0  33.800535   2.503743    1.161156  "
      ]
     },
     "execution_count": 10,
     "metadata": {},
     "output_type": "execute_result"
    }
   ],
   "source": [
    "print(d_hosp_3.shape)\n",
    "d_hosp_3.sample(3)"
   ]
  },
  {
   "cell_type": "markdown",
   "metadata": {},
   "source": [
    "# Données relatives aux personnes vaccinées (VACSI) "
   ]
  },
  {
   "cell_type": "code",
   "execution_count": 11,
   "metadata": {},
   "outputs": [
    {
     "name": "stdout",
     "output_type": "stream",
     "text": [
      "../Data/vacsi-a-dep-2021-04-12-18h47.csv\n",
      "../Temp/v4/vacsi-a-dep-2021-04-12-18h47-tot-3C-compute.csv\n"
     ]
    }
   ],
   "source": [
    "d_vac_1, path_temp = cc.vac_input()\n",
    "d_vac_2 = cc.vac_tot_3C(d_vac_1)\n",
    "d_vac_3 = cc.vac_compute(d_vac_2)\n",
    "\n",
    "dout = d_vac_3\n",
    "fname = path_temp + '-tot-3C-compute.csv'\n",
    "dout.to_csv(fname, sep = ';', index = False)\n",
    "print(fname)"
   ]
  },
  {
   "cell_type": "code",
   "execution_count": 12,
   "metadata": {},
   "outputs": [
    {
     "name": "stdout",
     "output_type": "stream",
     "text": [
      "(123596, 7)\n"
     ]
    },
    {
     "data": {
      "text/html": [
       "<div>\n",
       "<style scoped>\n",
       "    .dataframe tbody tr th:only-of-type {\n",
       "        vertical-align: middle;\n",
       "    }\n",
       "\n",
       "    .dataframe tbody tr th {\n",
       "        vertical-align: top;\n",
       "    }\n",
       "\n",
       "    .dataframe thead th {\n",
       "        text-align: right;\n",
       "    }\n",
       "</style>\n",
       "<table border=\"1\" class=\"dataframe\">\n",
       "  <thead>\n",
       "    <tr style=\"text-align: right;\">\n",
       "      <th></th>\n",
       "      <th>dep</th>\n",
       "      <th>clage_vacsi</th>\n",
       "      <th>jour</th>\n",
       "      <th>n_dose1</th>\n",
       "      <th>n_dose2</th>\n",
       "      <th>n_cum_dose1</th>\n",
       "      <th>n_cum_dose2</th>\n",
       "    </tr>\n",
       "  </thead>\n",
       "  <tbody>\n",
       "    <tr>\n",
       "      <th>114190</th>\n",
       "      <td>17</td>\n",
       "      <td>0</td>\n",
       "      <td>2021-01-24</td>\n",
       "      <td>48</td>\n",
       "      <td>0</td>\n",
       "      <td>14691</td>\n",
       "      <td>14</td>\n",
       "    </tr>\n",
       "    <tr>\n",
       "      <th>84977</th>\n",
       "      <td>78</td>\n",
       "      <td>29</td>\n",
       "      <td>2021-03-08</td>\n",
       "      <td>13</td>\n",
       "      <td>0</td>\n",
       "      <td>964</td>\n",
       "      <td>224</td>\n",
       "    </tr>\n",
       "    <tr>\n",
       "      <th>109867</th>\n",
       "      <td>976</td>\n",
       "      <td>69</td>\n",
       "      <td>2021-02-16</td>\n",
       "      <td>9</td>\n",
       "      <td>0</td>\n",
       "      <td>574</td>\n",
       "      <td>5</td>\n",
       "    </tr>\n",
       "  </tbody>\n",
       "</table>\n",
       "</div>"
      ],
      "text/plain": [
       "        dep  clage_vacsi       jour  n_dose1  n_dose2  n_cum_dose1  \\\n",
       "114190   17            0 2021-01-24       48        0        14691   \n",
       "84977    78           29 2021-03-08       13        0          964   \n",
       "109867  976           69 2021-02-16        9        0          574   \n",
       "\n",
       "        n_cum_dose2  \n",
       "114190           14  \n",
       "84977           224  \n",
       "109867            5  "
      ]
     },
     "execution_count": 12,
     "metadata": {},
     "output_type": "execute_result"
    }
   ],
   "source": [
    "print(d_vac_1.shape)\n",
    "d_vac_1.sample(3)"
   ]
  },
  {
   "cell_type": "code",
   "execution_count": 13,
   "metadata": {},
   "outputs": [
    {
     "name": "stdout",
     "output_type": "stream",
     "text": [
      "(49184, 7)\n"
     ]
    },
    {
     "data": {
      "text/html": [
       "<div>\n",
       "<style scoped>\n",
       "    .dataframe tbody tr th:only-of-type {\n",
       "        vertical-align: middle;\n",
       "    }\n",
       "\n",
       "    .dataframe tbody tr th {\n",
       "        vertical-align: top;\n",
       "    }\n",
       "\n",
       "    .dataframe thead th {\n",
       "        text-align: right;\n",
       "    }\n",
       "</style>\n",
       "<table border=\"1\" class=\"dataframe\">\n",
       "  <thead>\n",
       "    <tr style=\"text-align: right;\">\n",
       "      <th></th>\n",
       "      <th>entity</th>\n",
       "      <th>three_class</th>\n",
       "      <th>jour</th>\n",
       "      <th>n_dose1</th>\n",
       "      <th>n_dose2</th>\n",
       "      <th>n_cum_dose1</th>\n",
       "      <th>n_cum_dose2</th>\n",
       "    </tr>\n",
       "  </thead>\n",
       "  <tbody>\n",
       "    <tr>\n",
       "      <th>29700</th>\n",
       "      <td>70</td>\n",
       "      <td>0-29</td>\n",
       "      <td>2021-01-01</td>\n",
       "      <td>0</td>\n",
       "      <td>0</td>\n",
       "      <td>0</td>\n",
       "      <td>0</td>\n",
       "    </tr>\n",
       "    <tr>\n",
       "      <th>41935</th>\n",
       "      <td>973</td>\n",
       "      <td>whole</td>\n",
       "      <td>2021-04-01</td>\n",
       "      <td>347</td>\n",
       "      <td>273</td>\n",
       "      <td>9999</td>\n",
       "      <td>4570</td>\n",
       "    </tr>\n",
       "    <tr>\n",
       "      <th>20703</th>\n",
       "      <td>48</td>\n",
       "      <td>whole</td>\n",
       "      <td>2021-03-24</td>\n",
       "      <td>276</td>\n",
       "      <td>59</td>\n",
       "      <td>9751</td>\n",
       "      <td>5089</td>\n",
       "    </tr>\n",
       "  </tbody>\n",
       "</table>\n",
       "</div>"
      ],
      "text/plain": [
       "      entity three_class       jour  n_dose1  n_dose2  n_cum_dose1  \\\n",
       "29700     70        0-29 2021-01-01        0        0            0   \n",
       "41935    973       whole 2021-04-01      347      273         9999   \n",
       "20703     48       whole 2021-03-24      276       59         9751   \n",
       "\n",
       "       n_cum_dose2  \n",
       "29700            0  \n",
       "41935         4570  \n",
       "20703         5089  "
      ]
     },
     "execution_count": 13,
     "metadata": {},
     "output_type": "execute_result"
    }
   ],
   "source": [
    "print(d_vac_2.shape)\n",
    "d_vac_2.sample(3)"
   ]
  },
  {
   "cell_type": "code",
   "execution_count": 14,
   "metadata": {},
   "outputs": [
    {
     "name": "stdout",
     "output_type": "stream",
     "text": [
      "(49184, 9)\n"
     ]
    },
    {
     "data": {
      "text/html": [
       "<div>\n",
       "<style scoped>\n",
       "    .dataframe tbody tr th:only-of-type {\n",
       "        vertical-align: middle;\n",
       "    }\n",
       "\n",
       "    .dataframe tbody tr th {\n",
       "        vertical-align: top;\n",
       "    }\n",
       "\n",
       "    .dataframe thead th {\n",
       "        text-align: right;\n",
       "    }\n",
       "</style>\n",
       "<table border=\"1\" class=\"dataframe\">\n",
       "  <thead>\n",
       "    <tr style=\"text-align: right;\">\n",
       "      <th></th>\n",
       "      <th>entity</th>\n",
       "      <th>three_class</th>\n",
       "      <th>jour</th>\n",
       "      <th>n_dose1</th>\n",
       "      <th>n_dose2</th>\n",
       "      <th>n_cum_dose1</th>\n",
       "      <th>n_cum_dose2</th>\n",
       "      <th>taux dose 1</th>\n",
       "      <th>taux dose 2</th>\n",
       "    </tr>\n",
       "  </thead>\n",
       "  <tbody>\n",
       "    <tr>\n",
       "      <th>44178</th>\n",
       "      <td>Centre-Val de Loire</td>\n",
       "      <td>60+</td>\n",
       "      <td>2021-01-16</td>\n",
       "      <td>418</td>\n",
       "      <td>19</td>\n",
       "      <td>7347</td>\n",
       "      <td>19</td>\n",
       "      <td>0.968990</td>\n",
       "      <td>0.002506</td>\n",
       "    </tr>\n",
       "    <tr>\n",
       "      <th>20093</th>\n",
       "      <td>47</td>\n",
       "      <td>30-59</td>\n",
       "      <td>2021-02-06</td>\n",
       "      <td>29</td>\n",
       "      <td>60</td>\n",
       "      <td>2249</td>\n",
       "      <td>931</td>\n",
       "      <td>1.874385</td>\n",
       "      <td>0.775924</td>\n",
       "    </tr>\n",
       "    <tr>\n",
       "      <th>5042</th>\n",
       "      <td>12</td>\n",
       "      <td>60+</td>\n",
       "      <td>2021-03-31</td>\n",
       "      <td>1192</td>\n",
       "      <td>59</td>\n",
       "      <td>36861</td>\n",
       "      <td>15814</td>\n",
       "      <td>37.485890</td>\n",
       "      <td>16.082088</td>\n",
       "    </tr>\n",
       "  </tbody>\n",
       "</table>\n",
       "</div>"
      ],
      "text/plain": [
       "                    entity three_class       jour  n_dose1  n_dose2  \\\n",
       "44178  Centre-Val de Loire         60+ 2021-01-16      418       19   \n",
       "20093                   47       30-59 2021-02-06       29       60   \n",
       "5042                    12         60+ 2021-03-31     1192       59   \n",
       "\n",
       "       n_cum_dose1  n_cum_dose2  taux dose 1  taux dose 2  \n",
       "44178         7347           19     0.968990     0.002506  \n",
       "20093         2249          931     1.874385     0.775924  \n",
       "5042         36861        15814    37.485890    16.082088  "
      ]
     },
     "execution_count": 14,
     "metadata": {},
     "output_type": "execute_result"
    }
   ],
   "source": [
    "print(d_vac_3.shape)\n",
    "d_vac_3.sample(3)"
   ]
  }
 ],
 "metadata": {
  "kernelspec": {
   "display_name": "Python 3",
   "language": "python",
   "name": "python3"
  },
  "language_info": {
   "codemirror_mode": {
    "name": "ipython",
    "version": 3
   },
   "file_extension": ".py",
   "mimetype": "text/x-python",
   "name": "python",
   "nbconvert_exporter": "python",
   "pygments_lexer": "ipython3",
   "version": "3.7.3"
  }
 },
 "nbformat": 4,
 "nbformat_minor": 2
}
