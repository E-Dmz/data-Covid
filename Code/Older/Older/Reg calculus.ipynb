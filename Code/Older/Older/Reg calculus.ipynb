{
 "cells": [
  {
   "cell_type": "code",
   "execution_count": 1,
   "metadata": {},
   "outputs": [],
   "source": [
    "%matplotlib inline\n",
    "\n",
    "import pandas as pd\n",
    "import matplotlib as mpl\n",
    "import matplotlib.pyplot as plt\n",
    "import numpy as np\n",
    "import seaborn as sns\n",
    "import time\n",
    "import json"
   ]
  },
  {
   "cell_type": "code",
   "execution_count": 2,
   "metadata": {},
   "outputs": [
    {
     "data": {
      "text/html": [
       "<div>\n",
       "<style scoped>\n",
       "    .dataframe tbody tr th:only-of-type {\n",
       "        vertical-align: middle;\n",
       "    }\n",
       "\n",
       "    .dataframe tbody tr th {\n",
       "        vertical-align: top;\n",
       "    }\n",
       "\n",
       "    .dataframe thead th {\n",
       "        text-align: right;\n",
       "    }\n",
       "</style>\n",
       "<table border=\"1\" class=\"dataframe\">\n",
       "  <thead>\n",
       "    <tr style=\"text-align: right;\">\n",
       "      <th></th>\n",
       "      <th>reg</th>\n",
       "      <th>jour</th>\n",
       "      <th>cl_age90</th>\n",
       "      <th>P</th>\n",
       "      <th>T</th>\n",
       "      <th>pop</th>\n",
       "    </tr>\n",
       "  </thead>\n",
       "  <tbody>\n",
       "    <tr>\n",
       "      <th>40766</th>\n",
       "      <td>Pays de la Loire</td>\n",
       "      <td>2020-12-18</td>\n",
       "      <td>0</td>\n",
       "      <td>563</td>\n",
       "      <td>19834</td>\n",
       "      <td>3801797.0</td>\n",
       "    </tr>\n",
       "    <tr>\n",
       "      <th>48752</th>\n",
       "      <td>Île-de-France</td>\n",
       "      <td>2021-03-20</td>\n",
       "      <td>0</td>\n",
       "      <td>7824</td>\n",
       "      <td>74297</td>\n",
       "      <td>12278210.0</td>\n",
       "    </tr>\n",
       "    <tr>\n",
       "      <th>45328</th>\n",
       "      <td>Provence-Alpes-Côte d'Azur</td>\n",
       "      <td>2021-03-25</td>\n",
       "      <td>79</td>\n",
       "      <td>205</td>\n",
       "      <td>2694</td>\n",
       "      <td>509519.0</td>\n",
       "    </tr>\n",
       "  </tbody>\n",
       "</table>\n",
       "</div>"
      ],
      "text/plain": [
       "                              reg       jour  cl_age90     P      T  \\\n",
       "40766            Pays de la Loire 2020-12-18         0   563  19834   \n",
       "48752               Île-de-France 2021-03-20         0  7824  74297   \n",
       "45328  Provence-Alpes-Côte d'Azur 2021-03-25        79   205   2694   \n",
       "\n",
       "              pop  \n",
       "40766   3801797.0  \n",
       "48752  12278210.0  \n",
       "45328    509519.0  "
      ]
     },
     "execution_count": 2,
     "metadata": {},
     "output_type": "execute_result"
    }
   ],
   "source": [
    "fname = 'sp-pos-quot-dep-2021-03-28-19h20-reg.csv'\n",
    "d = pd.read_csv(fname, \n",
    "                sep = ';', \n",
    "                parse_dates = ['jour'], \n",
    "                dtype = {'P': int, 'T': int},\n",
    "                skiprows = [1])\n",
    "d.sample(3)"
   ]
  },
  {
   "cell_type": "code",
   "execution_count": 3,
   "metadata": {},
   "outputs": [
    {
     "data": {
      "text/plain": [
       "reg                 object\n",
       "jour        datetime64[ns]\n",
       "cl_age90             int64\n",
       "P                    int64\n",
       "T                    int64\n",
       "pop                float64\n",
       "dtype: object"
      ]
     },
     "execution_count": 3,
     "metadata": {},
     "output_type": "execute_result"
    }
   ],
   "source": [
    "d.dtypes"
   ]
  },
  {
   "cell_type": "code",
   "execution_count": 4,
   "metadata": {},
   "outputs": [],
   "source": [
    "regs = d['reg'].unique()\n",
    "ages = d['cl_age90'].unique()"
   ]
  },
  {
   "cell_type": "code",
   "execution_count": 5,
   "metadata": {},
   "outputs": [],
   "source": [
    "d['incidence'] = d['P'] / d['pop'] * 100000\n",
    "d['positivite'] = d['P'] / d['T'] * 100\n",
    "d"
   ]
  },
  {
   "cell_type": "code",
   "execution_count": 7,
   "metadata": {},
   "outputs": [
    {
     "name": "stdout",
     "output_type": "stream",
     "text": [
      "2.14 s : région Auvergne-Rhône-Alpes\n",
      "4.29 s : région Bourgogne-Franche-Comté\n",
      "6.39 s : région Bretagne\n",
      "8.50 s : région Centre-Val de Loire\n",
      "10.59 s : région Corse\n",
      "12.70 s : région Grand Est\n",
      "14.80 s : région Hauts-de-France\n",
      "16.89 s : région Normandie\n",
      "18.99 s : région Nouvelle-Aquitaine\n",
      "21.08 s : région Occitanie\n",
      "23.19 s : région Outre-mer\n",
      "25.28 s : région Pays de la Loire\n",
      "27.38 s : région Provence-Alpes-Côte d'Azur\n",
      "29.47 s : région Île-de-France\n"
     ]
    }
   ],
   "source": [
    "tic1 = time.time()\n",
    "d['incidence hebdo'] = np.zeros(len(d))\n",
    "for reg in regs:\n",
    "    for age in ages:\n",
    "        d2 = d[(d['reg'] == reg) & (d['cl_age90'] == age)]\n",
    "        d['temp'] = d2.apply(lambda x : (d2[ (d2['jour'] <= x['jour']) \n",
    "                                                        & (d2['jour'] > x['jour'] - np.timedelta64(1,'W'))]\n",
    "                                                    ['incidence']\n",
    "                                                    .sum()), axis = 1)\n",
    "        d['incidence hebdo'] = d['incidence hebdo'] + d['temp'].fillna(0)\n",
    "    toc1 = time.time()\n",
    "    print('{:.2f} s : région {}'.format(-tic1+toc1, reg))"
   ]
  },
  {
   "cell_type": "code",
   "execution_count": 8,
   "metadata": {},
   "outputs": [
    {
     "data": {
      "text/html": [
       "<div>\n",
       "<style scoped>\n",
       "    .dataframe tbody tr th:only-of-type {\n",
       "        vertical-align: middle;\n",
       "    }\n",
       "\n",
       "    .dataframe tbody tr th {\n",
       "        vertical-align: top;\n",
       "    }\n",
       "\n",
       "    .dataframe thead th {\n",
       "        text-align: right;\n",
       "    }\n",
       "</style>\n",
       "<table border=\"1\" class=\"dataframe\">\n",
       "  <thead>\n",
       "    <tr style=\"text-align: right;\">\n",
       "      <th></th>\n",
       "      <th>reg</th>\n",
       "      <th>jour</th>\n",
       "      <th>cl_age90</th>\n",
       "      <th>P</th>\n",
       "      <th>T</th>\n",
       "      <th>pop</th>\n",
       "      <th>incidence</th>\n",
       "      <th>positivite</th>\n",
       "      <th>incidence hebdo</th>\n",
       "    </tr>\n",
       "  </thead>\n",
       "  <tbody>\n",
       "    <tr>\n",
       "      <th>10067</th>\n",
       "      <td>Bretagne</td>\n",
       "      <td>2021-02-18</td>\n",
       "      <td>19</td>\n",
       "      <td>77</td>\n",
       "      <td>2198</td>\n",
       "      <td>417460.0</td>\n",
       "      <td>18.444881</td>\n",
       "      <td>3.503185</td>\n",
       "      <td>107.555215</td>\n",
       "    </tr>\n",
       "    <tr>\n",
       "      <th>33074</th>\n",
       "      <td>Occitanie</td>\n",
       "      <td>2020-10-13</td>\n",
       "      <td>79</td>\n",
       "      <td>143</td>\n",
       "      <td>1580</td>\n",
       "      <td>572470.0</td>\n",
       "      <td>24.979475</td>\n",
       "      <td>9.050633</td>\n",
       "      <td>128.391007</td>\n",
       "    </tr>\n",
       "    <tr>\n",
       "      <th>5161</th>\n",
       "      <td>Bourgogne-Franche-Comté</td>\n",
       "      <td>2020-10-12</td>\n",
       "      <td>19</td>\n",
       "      <td>123</td>\n",
       "      <td>1573</td>\n",
       "      <td>333965.0</td>\n",
       "      <td>36.830207</td>\n",
       "      <td>7.819453</td>\n",
       "      <td>135.044091</td>\n",
       "    </tr>\n",
       "  </tbody>\n",
       "</table>\n",
       "</div>"
      ],
      "text/plain": [
       "                           reg       jour  cl_age90    P     T       pop  \\\n",
       "10067                 Bretagne 2021-02-18        19   77  2198  417460.0   \n",
       "33074                Occitanie 2020-10-13        79  143  1580  572470.0   \n",
       "5161   Bourgogne-Franche-Comté 2020-10-12        19  123  1573  333965.0   \n",
       "\n",
       "       incidence  positivite  incidence hebdo  \n",
       "10067  18.444881    3.503185       107.555215  \n",
       "33074  24.979475    9.050633       128.391007  \n",
       "5161   36.830207    7.819453       135.044091  "
      ]
     },
     "execution_count": 8,
     "metadata": {},
     "output_type": "execute_result"
    }
   ],
   "source": [
    "d = d.drop(columns = ['temp'])\n",
    "d.sample(3)"
   ]
  },
  {
   "cell_type": "code",
   "execution_count": 9,
   "metadata": {},
   "outputs": [],
   "source": [
    "fname2 = fname[:-4] + '-processed.csv'\n",
    "d.to_csv(fname2, sep = ';', index = False)"
   ]
  }
 ],
 "metadata": {
  "kernelspec": {
   "display_name": "Python 3",
   "language": "python",
   "name": "python3"
  },
  "language_info": {
   "codemirror_mode": {
    "name": "ipython",
    "version": 3
   },
   "file_extension": ".py",
   "mimetype": "text/x-python",
   "name": "python",
   "nbconvert_exporter": "python",
   "pygments_lexer": "ipython3",
   "version": "3.7.3"
  }
 },
 "nbformat": 4,
 "nbformat_minor": 2
}
