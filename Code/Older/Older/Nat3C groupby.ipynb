{
 "cells": [
  {
   "cell_type": "code",
   "execution_count": 1,
   "metadata": {},
   "outputs": [],
   "source": [
    "%matplotlib inline\n",
    "\n",
    "import pandas as pd\n",
    "import matplotlib as mpl\n",
    "import matplotlib.pyplot as plt\n",
    "import numpy as np\n",
    "import seaborn as sns\n",
    "import time\n",
    "import json"
   ]
  },
  {
   "cell_type": "code",
   "execution_count": 2,
   "metadata": {},
   "outputs": [
    {
     "data": {
      "text/html": [
       "<div>\n",
       "<style scoped>\n",
       "    .dataframe tbody tr th:only-of-type {\n",
       "        vertical-align: middle;\n",
       "    }\n",
       "\n",
       "    .dataframe tbody tr th {\n",
       "        vertical-align: top;\n",
       "    }\n",
       "\n",
       "    .dataframe thead th {\n",
       "        text-align: right;\n",
       "    }\n",
       "</style>\n",
       "<table border=\"1\" class=\"dataframe\">\n",
       "  <thead>\n",
       "    <tr style=\"text-align: right;\">\n",
       "      <th></th>\n",
       "      <th>jour</th>\n",
       "      <th>cl_age90</th>\n",
       "      <th>P</th>\n",
       "      <th>T</th>\n",
       "      <th>pop</th>\n",
       "    </tr>\n",
       "  </thead>\n",
       "  <tbody>\n",
       "    <tr>\n",
       "      <th>1943</th>\n",
       "      <td>2020-11-05</td>\n",
       "      <td>69</td>\n",
       "      <td>5017</td>\n",
       "      <td>35126</td>\n",
       "      <td>8.004083e+06</td>\n",
       "    </tr>\n",
       "    <tr>\n",
       "      <th>390</th>\n",
       "      <td>2020-06-17</td>\n",
       "      <td>49</td>\n",
       "      <td>123</td>\n",
       "      <td>4779</td>\n",
       "      <td>8.592886e+06</td>\n",
       "    </tr>\n",
       "    <tr>\n",
       "      <th>2711</th>\n",
       "      <td>2021-01-14</td>\n",
       "      <td>49</td>\n",
       "      <td>2984</td>\n",
       "      <td>46968</td>\n",
       "      <td>8.592886e+06</td>\n",
       "    </tr>\n",
       "  </tbody>\n",
       "</table>\n",
       "</div>"
      ],
      "text/plain": [
       "           jour  cl_age90     P      T           pop\n",
       "1943 2020-11-05        69  5017  35126  8.004083e+06\n",
       "390  2020-06-17        49   123   4779  8.592886e+06\n",
       "2711 2021-01-14        49  2984  46968  8.592886e+06"
      ]
     },
     "execution_count": 2,
     "metadata": {},
     "output_type": "execute_result"
    }
   ],
   "source": [
    "fname = 'sp-pos-quot-dep-2021-03-28-19h20-nat.csv'\n",
    "d = pd.read_csv(fname, \n",
    "                sep = ';', \n",
    "                parse_dates = ['jour'], \n",
    "                dtype = {'P': int, 'T': int},\n",
    "                skiprows = [1])\n",
    "d.sample(3)"
   ]
  },
  {
   "cell_type": "code",
   "execution_count": 3,
   "metadata": {},
   "outputs": [
    {
     "data": {
      "text/plain": [
       "jour        datetime64[ns]\n",
       "cl_age90             int64\n",
       "P                    int64\n",
       "T                    int64\n",
       "pop                float64\n",
       "dtype: object"
      ]
     },
     "execution_count": 3,
     "metadata": {},
     "output_type": "execute_result"
    }
   ],
   "source": [
    "d.dtypes"
   ]
  },
  {
   "cell_type": "code",
   "execution_count": 4,
   "metadata": {},
   "outputs": [],
   "source": [
    "ages = d['cl_age90'].unique()"
   ]
  },
  {
   "cell_type": "code",
   "execution_count": 5,
   "metadata": {},
   "outputs": [],
   "source": [
    "three_class = {0: 'whole',\n",
    "               9: '0-19',\n",
    "               19: '0-19',\n",
    "               29: '20-59',\n",
    "               39: '20-59',\n",
    "               49: '20-59',\n",
    "               59: '20-59',\n",
    "               69: '60+',\n",
    "               79: '60+',\n",
    "               89: '60+',\n",
    "               90: '60+',\n",
    "              }"
   ]
  },
  {
   "cell_type": "code",
   "execution_count": 6,
   "metadata": {},
   "outputs": [
    {
     "data": {
      "text/html": [
       "<div>\n",
       "<style scoped>\n",
       "    .dataframe tbody tr th:only-of-type {\n",
       "        vertical-align: middle;\n",
       "    }\n",
       "\n",
       "    .dataframe tbody tr th {\n",
       "        vertical-align: top;\n",
       "    }\n",
       "\n",
       "    .dataframe thead th {\n",
       "        text-align: right;\n",
       "    }\n",
       "</style>\n",
       "<table border=\"1\" class=\"dataframe\">\n",
       "  <thead>\n",
       "    <tr style=\"text-align: right;\">\n",
       "      <th></th>\n",
       "      <th>jour</th>\n",
       "      <th>cl_age90</th>\n",
       "      <th>P</th>\n",
       "      <th>T</th>\n",
       "      <th>pop</th>\n",
       "      <th>three_class</th>\n",
       "    </tr>\n",
       "  </thead>\n",
       "  <tbody>\n",
       "    <tr>\n",
       "      <th>310</th>\n",
       "      <td>2020-06-10</td>\n",
       "      <td>19</td>\n",
       "      <td>41</td>\n",
       "      <td>2699</td>\n",
       "      <td>8.336486e+06</td>\n",
       "      <td>0-19</td>\n",
       "    </tr>\n",
       "    <tr>\n",
       "      <th>1535</th>\n",
       "      <td>2020-09-29</td>\n",
       "      <td>59</td>\n",
       "      <td>1625</td>\n",
       "      <td>23877</td>\n",
       "      <td>8.792675e+06</td>\n",
       "      <td>20-59</td>\n",
       "    </tr>\n",
       "    <tr>\n",
       "      <th>1572</th>\n",
       "      <td>2020-10-02</td>\n",
       "      <td>90</td>\n",
       "      <td>241</td>\n",
       "      <td>4773</td>\n",
       "      <td>9.125806e+05</td>\n",
       "      <td>60+</td>\n",
       "    </tr>\n",
       "  </tbody>\n",
       "</table>\n",
       "</div>"
      ],
      "text/plain": [
       "           jour  cl_age90     P      T           pop three_class\n",
       "310  2020-06-10        19    41   2699  8.336486e+06        0-19\n",
       "1535 2020-09-29        59  1625  23877  8.792675e+06       20-59\n",
       "1572 2020-10-02        90   241   4773  9.125806e+05         60+"
      ]
     },
     "execution_count": 6,
     "metadata": {},
     "output_type": "execute_result"
    }
   ],
   "source": [
    "d['three_class'] = d['cl_age90'].map(lambda x: three_class[x])\n",
    "d.sample(3)"
   ]
  },
  {
   "cell_type": "code",
   "execution_count": 7,
   "metadata": {},
   "outputs": [
    {
     "data": {
      "text/html": [
       "<div>\n",
       "<style scoped>\n",
       "    .dataframe tbody tr th:only-of-type {\n",
       "        vertical-align: middle;\n",
       "    }\n",
       "\n",
       "    .dataframe tbody tr th {\n",
       "        vertical-align: top;\n",
       "    }\n",
       "\n",
       "    .dataframe thead tr th {\n",
       "        text-align: left;\n",
       "    }\n",
       "\n",
       "    .dataframe thead tr:last-of-type th {\n",
       "        text-align: right;\n",
       "    }\n",
       "</style>\n",
       "<table border=\"1\" class=\"dataframe\">\n",
       "  <thead>\n",
       "    <tr>\n",
       "      <th></th>\n",
       "      <th></th>\n",
       "      <th>cl_age90</th>\n",
       "      <th>P</th>\n",
       "      <th>T</th>\n",
       "      <th>pop</th>\n",
       "    </tr>\n",
       "    <tr>\n",
       "      <th></th>\n",
       "      <th></th>\n",
       "      <th>sum</th>\n",
       "      <th>sum</th>\n",
       "      <th>sum</th>\n",
       "      <th>sum</th>\n",
       "    </tr>\n",
       "    <tr>\n",
       "      <th>jour</th>\n",
       "      <th>three_class</th>\n",
       "      <th></th>\n",
       "      <th></th>\n",
       "      <th></th>\n",
       "      <th></th>\n",
       "    </tr>\n",
       "  </thead>\n",
       "  <tbody>\n",
       "    <tr>\n",
       "      <th>2020-05-23</th>\n",
       "      <th>whole</th>\n",
       "      <td>0</td>\n",
       "      <td>260</td>\n",
       "      <td>18914</td>\n",
       "      <td>6.711500e+07</td>\n",
       "    </tr>\n",
       "    <tr>\n",
       "      <th>2020-09-05</th>\n",
       "      <th>0-19</th>\n",
       "      <td>28</td>\n",
       "      <td>732</td>\n",
       "      <td>16969</td>\n",
       "      <td>1.609969e+07</td>\n",
       "    </tr>\n",
       "    <tr>\n",
       "      <th>2020-09-15</th>\n",
       "      <th>60+</th>\n",
       "      <td>327</td>\n",
       "      <td>1830</td>\n",
       "      <td>46778</td>\n",
       "      <td>1.785758e+07</td>\n",
       "    </tr>\n",
       "  </tbody>\n",
       "</table>\n",
       "</div>"
      ],
      "text/plain": [
       "                       cl_age90     P      T           pop\n",
       "                            sum   sum    sum           sum\n",
       "jour       three_class                                    \n",
       "2020-05-23 whole              0   260  18914  6.711500e+07\n",
       "2020-09-05 0-19              28   732  16969  1.609969e+07\n",
       "2020-09-15 60+              327  1830  46778  1.785758e+07"
      ]
     },
     "execution_count": 7,
     "metadata": {},
     "output_type": "execute_result"
    }
   ],
   "source": [
    "dg = d.groupby(['jour', 'three_class']).agg([sum])\n",
    "dg.sample(3)"
   ]
  },
  {
   "cell_type": "code",
   "execution_count": 8,
   "metadata": {},
   "outputs": [
    {
     "name": "stderr",
     "output_type": "stream",
     "text": [
      "/home/edmz/snap/jupyter/common/lib/python3.7/site-packages/pandas/core/generic.py:4152: PerformanceWarning: dropping on a non-lexsorted multi-index without a level parameter may impact performance.\n",
      "  obj = obj._drop_axis(labels, axis, level=level, errors=errors)\n"
     ]
    },
    {
     "data": {
      "text/html": [
       "<div>\n",
       "<style scoped>\n",
       "    .dataframe tbody tr th:only-of-type {\n",
       "        vertical-align: middle;\n",
       "    }\n",
       "\n",
       "    .dataframe tbody tr th {\n",
       "        vertical-align: top;\n",
       "    }\n",
       "\n",
       "    .dataframe thead tr th {\n",
       "        text-align: left;\n",
       "    }\n",
       "</style>\n",
       "<table border=\"1\" class=\"dataframe\">\n",
       "  <thead>\n",
       "    <tr>\n",
       "      <th></th>\n",
       "      <th>jour</th>\n",
       "      <th>three_class</th>\n",
       "      <th>P</th>\n",
       "      <th>T</th>\n",
       "      <th>pop</th>\n",
       "    </tr>\n",
       "    <tr>\n",
       "      <th></th>\n",
       "      <th></th>\n",
       "      <th></th>\n",
       "      <th>sum</th>\n",
       "      <th>sum</th>\n",
       "      <th>sum</th>\n",
       "    </tr>\n",
       "  </thead>\n",
       "  <tbody>\n",
       "    <tr>\n",
       "      <th>871</th>\n",
       "      <td>2020-12-16</td>\n",
       "      <td>whole</td>\n",
       "      <td>15332</td>\n",
       "      <td>334298</td>\n",
       "      <td>6.711500e+07</td>\n",
       "    </tr>\n",
       "    <tr>\n",
       "      <th>204</th>\n",
       "      <td>2020-07-03</td>\n",
       "      <td>0-19</td>\n",
       "      <td>136</td>\n",
       "      <td>12582</td>\n",
       "      <td>1.609969e+07</td>\n",
       "    </tr>\n",
       "    <tr>\n",
       "      <th>657</th>\n",
       "      <td>2020-10-24</td>\n",
       "      <td>20-59</td>\n",
       "      <td>16367</td>\n",
       "      <td>101402</td>\n",
       "      <td>3.315772e+07</td>\n",
       "    </tr>\n",
       "  </tbody>\n",
       "</table>\n",
       "</div>"
      ],
      "text/plain": [
       "          jour three_class      P       T           pop\n",
       "                              sum     sum           sum\n",
       "871 2020-12-16       whole  15332  334298  6.711500e+07\n",
       "204 2020-07-03        0-19    136   12582  1.609969e+07\n",
       "657 2020-10-24       20-59  16367  101402  3.315772e+07"
      ]
     },
     "execution_count": 8,
     "metadata": {},
     "output_type": "execute_result"
    }
   ],
   "source": [
    "dg = (dg.reset_index()\n",
    "      .drop(columns = ['cl_age90'])\n",
    "            )\n",
    "dg.sample(3)"
   ]
  },
  {
   "cell_type": "code",
   "execution_count": 9,
   "metadata": {},
   "outputs": [
    {
     "data": {
      "text/html": [
       "<div>\n",
       "<style scoped>\n",
       "    .dataframe tbody tr th:only-of-type {\n",
       "        vertical-align: middle;\n",
       "    }\n",
       "\n",
       "    .dataframe tbody tr th {\n",
       "        vertical-align: top;\n",
       "    }\n",
       "\n",
       "    .dataframe thead tr th {\n",
       "        text-align: left;\n",
       "    }\n",
       "</style>\n",
       "<table border=\"1\" class=\"dataframe\">\n",
       "  <thead>\n",
       "    <tr>\n",
       "      <th></th>\n",
       "      <th>jour</th>\n",
       "      <th>three_class</th>\n",
       "      <th>P</th>\n",
       "      <th>T</th>\n",
       "      <th>pop</th>\n",
       "    </tr>\n",
       "    <tr>\n",
       "      <th></th>\n",
       "      <th></th>\n",
       "      <th></th>\n",
       "      <th>sum</th>\n",
       "      <th>sum</th>\n",
       "      <th>sum</th>\n",
       "    </tr>\n",
       "  </thead>\n",
       "  <tbody>\n",
       "    <tr>\n",
       "      <th>1265</th>\n",
       "      <td>2021-03-25</td>\n",
       "      <td>20-59</td>\n",
       "      <td>24960</td>\n",
       "      <td>303746</td>\n",
       "      <td>3.315772e+07</td>\n",
       "    </tr>\n",
       "    <tr>\n",
       "      <th>1266</th>\n",
       "      <td>2021-03-25</td>\n",
       "      <td>60+</td>\n",
       "      <td>6643</td>\n",
       "      <td>89679</td>\n",
       "      <td>1.785758e+07</td>\n",
       "    </tr>\n",
       "    <tr>\n",
       "      <th>1267</th>\n",
       "      <td>2021-03-25</td>\n",
       "      <td>whole</td>\n",
       "      <td>41439</td>\n",
       "      <td>560566</td>\n",
       "      <td>6.711500e+07</td>\n",
       "    </tr>\n",
       "  </tbody>\n",
       "</table>\n",
       "</div>"
      ],
      "text/plain": [
       "           jour three_class      P       T           pop\n",
       "                               sum     sum           sum\n",
       "1265 2021-03-25       20-59  24960  303746  3.315772e+07\n",
       "1266 2021-03-25         60+   6643   89679  1.785758e+07\n",
       "1267 2021-03-25       whole  41439  560566  6.711500e+07"
      ]
     },
     "execution_count": 9,
     "metadata": {},
     "output_type": "execute_result"
    }
   ],
   "source": [
    "dg.tail(3)"
   ]
  },
  {
   "cell_type": "code",
   "execution_count": 10,
   "metadata": {},
   "outputs": [],
   "source": [
    "fname = 'sp-pos-quot-dep-2021-03-28-19h20.csv'\n",
    "fname = fname[:-4] + '-nat3C.csv'\n",
    "dg.to_csv(fname, sep = ';', index = False)"
   ]
  }
 ],
 "metadata": {
  "kernelspec": {
   "display_name": "Python 3",
   "language": "python",
   "name": "python3"
  },
  "language_info": {
   "codemirror_mode": {
    "name": "ipython",
    "version": 3
   },
   "file_extension": ".py",
   "mimetype": "text/x-python",
   "name": "python",
   "nbconvert_exporter": "python",
   "pygments_lexer": "ipython3",
   "version": "3.7.3"
  }
 },
 "nbformat": 4,
 "nbformat_minor": 2
}
