{
 "cells": [
  {
   "cell_type": "code",
   "execution_count": 2,
   "metadata": {},
   "outputs": [],
   "source": [
    "%matplotlib inline\n",
    "\n",
    "import pandas as pd\n",
    "import matplotlib as mpl\n",
    "import matplotlib.pyplot as plt\n",
    "import numpy as np\n",
    "import seaborn as sns\n",
    "import time\n",
    "import json"
   ]
  },
  {
   "cell_type": "code",
   "execution_count": 3,
   "metadata": {},
   "outputs": [
    {
     "data": {
      "text/html": [
       "<div>\n",
       "<style scoped>\n",
       "    .dataframe tbody tr th:only-of-type {\n",
       "        vertical-align: middle;\n",
       "    }\n",
       "\n",
       "    .dataframe tbody tr th {\n",
       "        vertical-align: top;\n",
       "    }\n",
       "\n",
       "    .dataframe thead th {\n",
       "        text-align: right;\n",
       "    }\n",
       "</style>\n",
       "<table border=\"1\" class=\"dataframe\">\n",
       "  <thead>\n",
       "    <tr style=\"text-align: right;\">\n",
       "      <th></th>\n",
       "      <th>jour</th>\n",
       "      <th>cl_age90</th>\n",
       "      <th>P</th>\n",
       "      <th>T</th>\n",
       "      <th>pop</th>\n",
       "    </tr>\n",
       "  </thead>\n",
       "  <tbody>\n",
       "    <tr>\n",
       "      <th>617</th>\n",
       "      <td>2020-07-08</td>\n",
       "      <td>9</td>\n",
       "      <td>41</td>\n",
       "      <td>5728</td>\n",
       "      <td>7.763206e+06</td>\n",
       "    </tr>\n",
       "    <tr>\n",
       "      <th>286</th>\n",
       "      <td>2020-06-08</td>\n",
       "      <td>0</td>\n",
       "      <td>559</td>\n",
       "      <td>45144</td>\n",
       "      <td>6.711500e+07</td>\n",
       "    </tr>\n",
       "    <tr>\n",
       "      <th>2707</th>\n",
       "      <td>2021-01-14</td>\n",
       "      <td>9</td>\n",
       "      <td>665</td>\n",
       "      <td>8142</td>\n",
       "      <td>7.763206e+06</td>\n",
       "    </tr>\n",
       "  </tbody>\n",
       "</table>\n",
       "</div>"
      ],
      "text/plain": [
       "           jour  cl_age90    P      T           pop\n",
       "617  2020-07-08         9   41   5728  7.763206e+06\n",
       "286  2020-06-08         0  559  45144  6.711500e+07\n",
       "2707 2021-01-14         9  665   8142  7.763206e+06"
      ]
     },
     "execution_count": 3,
     "metadata": {},
     "output_type": "execute_result"
    }
   ],
   "source": [
    "fname = 'sp-pos-quot-dep-2021-03-28-19h20-nat.csv'\n",
    "d = pd.read_csv(fname, \n",
    "                sep = ';', \n",
    "                parse_dates = ['jour'], \n",
    "                dtype = {'P': int, 'T': int},\n",
    "                skiprows = [1])\n",
    "d.sample(3)"
   ]
  },
  {
   "cell_type": "code",
   "execution_count": 5,
   "metadata": {},
   "outputs": [
    {
     "data": {
      "text/html": [
       "<div>\n",
       "<style scoped>\n",
       "    .dataframe tbody tr th:only-of-type {\n",
       "        vertical-align: middle;\n",
       "    }\n",
       "\n",
       "    .dataframe tbody tr th {\n",
       "        vertical-align: top;\n",
       "    }\n",
       "\n",
       "    .dataframe thead th {\n",
       "        text-align: right;\n",
       "    }\n",
       "</style>\n",
       "<table border=\"1\" class=\"dataframe\">\n",
       "  <thead>\n",
       "    <tr style=\"text-align: right;\">\n",
       "      <th></th>\n",
       "      <th>jour</th>\n",
       "      <th>cl_age90</th>\n",
       "      <th>P</th>\n",
       "      <th>T</th>\n",
       "      <th>pop</th>\n",
       "      <th>incidence</th>\n",
       "      <th>positivite</th>\n",
       "    </tr>\n",
       "  </thead>\n",
       "  <tbody>\n",
       "    <tr>\n",
       "      <th>1083</th>\n",
       "      <td>2020-08-19</td>\n",
       "      <td>49</td>\n",
       "      <td>605</td>\n",
       "      <td>19561</td>\n",
       "      <td>8.592886e+06</td>\n",
       "      <td>7.040708</td>\n",
       "      <td>3.092889</td>\n",
       "    </tr>\n",
       "    <tr>\n",
       "      <th>3012</th>\n",
       "      <td>2021-02-10</td>\n",
       "      <td>89</td>\n",
       "      <td>1006</td>\n",
       "      <td>16352</td>\n",
       "      <td>3.245281e+06</td>\n",
       "      <td>30.998860</td>\n",
       "      <td>6.152153</td>\n",
       "    </tr>\n",
       "    <tr>\n",
       "      <th>1344</th>\n",
       "      <td>2020-09-12</td>\n",
       "      <td>19</td>\n",
       "      <td>640</td>\n",
       "      <td>14271</td>\n",
       "      <td>8.336486e+06</td>\n",
       "      <td>7.677095</td>\n",
       "      <td>4.484619</td>\n",
       "    </tr>\n",
       "  </tbody>\n",
       "</table>\n",
       "</div>"
      ],
      "text/plain": [
       "           jour  cl_age90     P      T           pop  incidence  positivite\n",
       "1083 2020-08-19        49   605  19561  8.592886e+06   7.040708    3.092889\n",
       "3012 2021-02-10        89  1006  16352  3.245281e+06  30.998860    6.152153\n",
       "1344 2020-09-12        19   640  14271  8.336486e+06   7.677095    4.484619"
      ]
     },
     "execution_count": 5,
     "metadata": {},
     "output_type": "execute_result"
    }
   ],
   "source": [
    "d['incidence'] = d['P'] / d['pop'] * 100000\n",
    "d['positivite'] = d['P'] / d['T'] * 100\n",
    "d.sample(3)"
   ]
  },
  {
   "cell_type": "code",
   "execution_count": 6,
   "metadata": {},
   "outputs": [],
   "source": [
    "ages = d['cl_age90'].unique()"
   ]
  },
  {
   "cell_type": "code",
   "execution_count": 7,
   "metadata": {},
   "outputs": [
    {
     "name": "stdout",
     "output_type": "stream",
     "text": [
      "2.03 s\n"
     ]
    }
   ],
   "source": [
    "tic1 = time.time()\n",
    "d['incidence hebdo'] = np.zeros(len(d))\n",
    "for age in ages:\n",
    "    d2 = d[(d['cl_age90'] == age)]\n",
    "    d['temp'] = d2.apply(lambda x : (d2[ (d2['jour'] <= x['jour']) \n",
    "                                                    & (d2['jour'] > x['jour'] - np.timedelta64(1,'W'))]\n",
    "                                                ['incidence']\n",
    "                                                .sum()), axis = 1)\n",
    "    d['incidence hebdo'] = d['incidence hebdo'] + d['temp'].fillna(0)\n",
    "toc1 = time.time()\n",
    "print('{:.2f} s'.format(-tic1+toc1))"
   ]
  },
  {
   "cell_type": "code",
   "execution_count": 9,
   "metadata": {},
   "outputs": [
    {
     "data": {
      "text/html": [
       "<div>\n",
       "<style scoped>\n",
       "    .dataframe tbody tr th:only-of-type {\n",
       "        vertical-align: middle;\n",
       "    }\n",
       "\n",
       "    .dataframe tbody tr th {\n",
       "        vertical-align: top;\n",
       "    }\n",
       "\n",
       "    .dataframe thead th {\n",
       "        text-align: right;\n",
       "    }\n",
       "</style>\n",
       "<table border=\"1\" class=\"dataframe\">\n",
       "  <thead>\n",
       "    <tr style=\"text-align: right;\">\n",
       "      <th></th>\n",
       "      <th>jour</th>\n",
       "      <th>cl_age90</th>\n",
       "      <th>P</th>\n",
       "      <th>T</th>\n",
       "      <th>pop</th>\n",
       "      <th>incidence</th>\n",
       "      <th>positivite</th>\n",
       "      <th>incidence hebdo</th>\n",
       "    </tr>\n",
       "  </thead>\n",
       "  <tbody>\n",
       "    <tr>\n",
       "      <th>2215</th>\n",
       "      <td>2020-11-30</td>\n",
       "      <td>39</td>\n",
       "      <td>2238</td>\n",
       "      <td>33306</td>\n",
       "      <td>8.295372e+06</td>\n",
       "      <td>26.978899</td>\n",
       "      <td>6.719510</td>\n",
       "      <td>124.057126</td>\n",
       "    </tr>\n",
       "    <tr>\n",
       "      <th>925</th>\n",
       "      <td>2020-08-05</td>\n",
       "      <td>9</td>\n",
       "      <td>82</td>\n",
       "      <td>4142</td>\n",
       "      <td>7.763206e+06</td>\n",
       "      <td>1.056265</td>\n",
       "      <td>1.979720</td>\n",
       "      <td>5.860981</td>\n",
       "    </tr>\n",
       "    <tr>\n",
       "      <th>3290</th>\n",
       "      <td>2021-03-08</td>\n",
       "      <td>9</td>\n",
       "      <td>1599</td>\n",
       "      <td>22629</td>\n",
       "      <td>7.763206e+06</td>\n",
       "      <td>20.597161</td>\n",
       "      <td>7.066154</td>\n",
       "      <td>93.865863</td>\n",
       "    </tr>\n",
       "  </tbody>\n",
       "</table>\n",
       "</div>"
      ],
      "text/plain": [
       "           jour  cl_age90     P      T           pop  incidence  positivite  \\\n",
       "2215 2020-11-30        39  2238  33306  8.295372e+06  26.978899    6.719510   \n",
       "925  2020-08-05         9    82   4142  7.763206e+06   1.056265    1.979720   \n",
       "3290 2021-03-08         9  1599  22629  7.763206e+06  20.597161    7.066154   \n",
       "\n",
       "      incidence hebdo  \n",
       "2215       124.057126  \n",
       "925          5.860981  \n",
       "3290        93.865863  "
      ]
     },
     "execution_count": 9,
     "metadata": {},
     "output_type": "execute_result"
    }
   ],
   "source": [
    "d = d.drop(columns = ['temp'])\n",
    "d.sample(3)"
   ]
  },
  {
   "cell_type": "code",
   "execution_count": 10,
   "metadata": {},
   "outputs": [],
   "source": [
    "fname2 = fname[:-4] + '-processed.csv'\n",
    "d.to_csv(fname2, sep = ';', index = False)"
   ]
  }
 ],
 "metadata": {
  "kernelspec": {
   "display_name": "Python 3",
   "language": "python",
   "name": "python3"
  },
  "language_info": {
   "codemirror_mode": {
    "name": "ipython",
    "version": 3
   },
   "file_extension": ".py",
   "mimetype": "text/x-python",
   "name": "python",
   "nbconvert_exporter": "python",
   "pygments_lexer": "ipython3",
   "version": "3.7.3"
  }
 },
 "nbformat": 4,
 "nbformat_minor": 2
}
