{
 "cells": [
  {
   "cell_type": "code",
   "execution_count": 5,
   "metadata": {},
   "outputs": [],
   "source": [
    "%matplotlib inline\n",
    "\n",
    "import pandas as pd\n",
    "import matplotlib as mpl\n",
    "import matplotlib.pyplot as plt\n",
    "import numpy as np\n",
    "import seaborn as sns\n",
    "import time\n",
    "import json"
   ]
  },
  {
   "cell_type": "code",
   "execution_count": 6,
   "metadata": {},
   "outputs": [
    {
     "data": {
      "text/html": [
       "<div>\n",
       "<style scoped>\n",
       "    .dataframe tbody tr th:only-of-type {\n",
       "        vertical-align: middle;\n",
       "    }\n",
       "\n",
       "    .dataframe tbody tr th {\n",
       "        vertical-align: top;\n",
       "    }\n",
       "\n",
       "    .dataframe thead th {\n",
       "        text-align: right;\n",
       "    }\n",
       "</style>\n",
       "<table border=\"1\" class=\"dataframe\">\n",
       "  <thead>\n",
       "    <tr style=\"text-align: right;\">\n",
       "      <th></th>\n",
       "      <th>jour</th>\n",
       "      <th>three_class</th>\n",
       "      <th>P</th>\n",
       "      <th>T</th>\n",
       "      <th>pop</th>\n",
       "    </tr>\n",
       "  </thead>\n",
       "  <tbody>\n",
       "    <tr>\n",
       "      <th>59</th>\n",
       "      <td>2020-05-27</td>\n",
       "      <td>whole</td>\n",
       "      <td>725</td>\n",
       "      <td>45997</td>\n",
       "      <td>6.711500e+07</td>\n",
       "    </tr>\n",
       "    <tr>\n",
       "      <th>20</th>\n",
       "      <td>2020-05-18</td>\n",
       "      <td>0-19</td>\n",
       "      <td>85</td>\n",
       "      <td>4711</td>\n",
       "      <td>1.609969e+07</td>\n",
       "    </tr>\n",
       "    <tr>\n",
       "      <th>979</th>\n",
       "      <td>2021-01-12</td>\n",
       "      <td>whole</td>\n",
       "      <td>21631</td>\n",
       "      <td>339836</td>\n",
       "      <td>6.711500e+07</td>\n",
       "    </tr>\n",
       "  </tbody>\n",
       "</table>\n",
       "</div>"
      ],
      "text/plain": [
       "          jour three_class      P       T           pop\n",
       "59  2020-05-27       whole    725   45997  6.711500e+07\n",
       "20  2020-05-18        0-19     85    4711  1.609969e+07\n",
       "979 2021-01-12       whole  21631  339836  6.711500e+07"
      ]
     },
     "execution_count": 6,
     "metadata": {},
     "output_type": "execute_result"
    }
   ],
   "source": [
    "fname = 'sp-pos-quot-dep-2021-03-28-19h20-nat3C.csv'\n",
    "d = pd.read_csv(fname, \n",
    "                sep = ';', \n",
    "                parse_dates = ['jour'], \n",
    "                dtype = {'P': int, 'T': int},\n",
    "                skiprows = [1])\n",
    "d.sample(3)"
   ]
  },
  {
   "cell_type": "code",
   "execution_count": 7,
   "metadata": {},
   "outputs": [
    {
     "data": {
      "text/html": [
       "<div>\n",
       "<style scoped>\n",
       "    .dataframe tbody tr th:only-of-type {\n",
       "        vertical-align: middle;\n",
       "    }\n",
       "\n",
       "    .dataframe tbody tr th {\n",
       "        vertical-align: top;\n",
       "    }\n",
       "\n",
       "    .dataframe thead th {\n",
       "        text-align: right;\n",
       "    }\n",
       "</style>\n",
       "<table border=\"1\" class=\"dataframe\">\n",
       "  <thead>\n",
       "    <tr style=\"text-align: right;\">\n",
       "      <th></th>\n",
       "      <th>jour</th>\n",
       "      <th>three_class</th>\n",
       "      <th>P</th>\n",
       "      <th>T</th>\n",
       "      <th>pop</th>\n",
       "      <th>incidence</th>\n",
       "      <th>positivite</th>\n",
       "    </tr>\n",
       "  </thead>\n",
       "  <tbody>\n",
       "    <tr>\n",
       "      <th>162</th>\n",
       "      <td>2020-06-22</td>\n",
       "      <td>60+</td>\n",
       "      <td>137</td>\n",
       "      <td>18134</td>\n",
       "      <td>1.785758e+07</td>\n",
       "      <td>0.767181</td>\n",
       "      <td>0.755487</td>\n",
       "    </tr>\n",
       "    <tr>\n",
       "      <th>440</th>\n",
       "      <td>2020-08-31</td>\n",
       "      <td>0-19</td>\n",
       "      <td>1528</td>\n",
       "      <td>28470</td>\n",
       "      <td>1.609969e+07</td>\n",
       "      <td>9.490865</td>\n",
       "      <td>5.367053</td>\n",
       "    </tr>\n",
       "    <tr>\n",
       "      <th>163</th>\n",
       "      <td>2020-06-22</td>\n",
       "      <td>whole</td>\n",
       "      <td>595</td>\n",
       "      <td>48101</td>\n",
       "      <td>6.711500e+07</td>\n",
       "      <td>0.886538</td>\n",
       "      <td>1.236981</td>\n",
       "    </tr>\n",
       "  </tbody>\n",
       "</table>\n",
       "</div>"
      ],
      "text/plain": [
       "          jour three_class     P      T           pop  incidence  positivite\n",
       "162 2020-06-22         60+   137  18134  1.785758e+07   0.767181    0.755487\n",
       "440 2020-08-31        0-19  1528  28470  1.609969e+07   9.490865    5.367053\n",
       "163 2020-06-22       whole   595  48101  6.711500e+07   0.886538    1.236981"
      ]
     },
     "execution_count": 7,
     "metadata": {},
     "output_type": "execute_result"
    }
   ],
   "source": [
    "d['incidence'] = d['P'] / d['pop'] * 100000\n",
    "d['positivite'] = d['P'] / d['T'] * 100\n",
    "d.sample(3)"
   ]
  },
  {
   "cell_type": "code",
   "execution_count": 10,
   "metadata": {},
   "outputs": [],
   "source": [
    "three_class = d['three_class'].unique()"
   ]
  },
  {
   "cell_type": "code",
   "execution_count": 11,
   "metadata": {},
   "outputs": [
    {
     "name": "stdout",
     "output_type": "stream",
     "text": [
      "0.76 s\n"
     ]
    }
   ],
   "source": [
    "tic1 = time.time()\n",
    "d['incidence hebdo'] = np.zeros(len(d))\n",
    "for age_class in three_class:\n",
    "    d2 = d[ (d['three_class'] == age_class) ]\n",
    "    d['temp'] = d2.apply(lambda x : (d2[ (d2['jour'] <= x['jour']) \n",
    "                                                    & (d2['jour'] > x['jour'] - np.timedelta64(1,'W'))]\n",
    "                                                ['incidence']\n",
    "                                                .sum()), axis = 1)\n",
    "    d['incidence hebdo'] = d['incidence hebdo'] + d['temp'].fillna(0)\n",
    "toc1 = time.time()\n",
    "print('{:.2f} s'.format(-tic1+toc1))"
   ]
  },
  {
   "cell_type": "code",
   "execution_count": 12,
   "metadata": {},
   "outputs": [
    {
     "data": {
      "text/html": [
       "<div>\n",
       "<style scoped>\n",
       "    .dataframe tbody tr th:only-of-type {\n",
       "        vertical-align: middle;\n",
       "    }\n",
       "\n",
       "    .dataframe tbody tr th {\n",
       "        vertical-align: top;\n",
       "    }\n",
       "\n",
       "    .dataframe thead th {\n",
       "        text-align: right;\n",
       "    }\n",
       "</style>\n",
       "<table border=\"1\" class=\"dataframe\">\n",
       "  <thead>\n",
       "    <tr style=\"text-align: right;\">\n",
       "      <th></th>\n",
       "      <th>jour</th>\n",
       "      <th>three_class</th>\n",
       "      <th>P</th>\n",
       "      <th>T</th>\n",
       "      <th>pop</th>\n",
       "      <th>incidence</th>\n",
       "      <th>positivite</th>\n",
       "      <th>incidence hebdo</th>\n",
       "    </tr>\n",
       "  </thead>\n",
       "  <tbody>\n",
       "    <tr>\n",
       "      <th>458</th>\n",
       "      <td>2020-09-04</td>\n",
       "      <td>60+</td>\n",
       "      <td>1305</td>\n",
       "      <td>48327</td>\n",
       "      <td>1.785758e+07</td>\n",
       "      <td>7.307820</td>\n",
       "      <td>2.700354</td>\n",
       "      <td>33.817566</td>\n",
       "    </tr>\n",
       "    <tr>\n",
       "      <th>632</th>\n",
       "      <td>2020-10-18</td>\n",
       "      <td>0-19</td>\n",
       "      <td>578</td>\n",
       "      <td>5801</td>\n",
       "      <td>1.609969e+07</td>\n",
       "      <td>3.590131</td>\n",
       "      <td>9.963799</td>\n",
       "      <td>157.599290</td>\n",
       "    </tr>\n",
       "    <tr>\n",
       "      <th>1025</th>\n",
       "      <td>2021-01-24</td>\n",
       "      <td>20-59</td>\n",
       "      <td>1592</td>\n",
       "      <td>23732</td>\n",
       "      <td>3.315772e+07</td>\n",
       "      <td>4.801295</td>\n",
       "      <td>6.708242</td>\n",
       "      <td>243.949222</td>\n",
       "    </tr>\n",
       "  </tbody>\n",
       "</table>\n",
       "</div>"
      ],
      "text/plain": [
       "           jour three_class     P      T           pop  incidence  positivite  \\\n",
       "458  2020-09-04         60+  1305  48327  1.785758e+07   7.307820    2.700354   \n",
       "632  2020-10-18        0-19   578   5801  1.609969e+07   3.590131    9.963799   \n",
       "1025 2021-01-24       20-59  1592  23732  3.315772e+07   4.801295    6.708242   \n",
       "\n",
       "      incidence hebdo  \n",
       "458         33.817566  \n",
       "632        157.599290  \n",
       "1025       243.949222  "
      ]
     },
     "execution_count": 12,
     "metadata": {},
     "output_type": "execute_result"
    }
   ],
   "source": [
    "d = d.drop(columns = ['temp'])\n",
    "d.sample(3)"
   ]
  },
  {
   "cell_type": "code",
   "execution_count": 13,
   "metadata": {},
   "outputs": [],
   "source": [
    "fname2 = fname[:-4] + '-processed.csv'\n",
    "d.to_csv(fname2, sep = ';', index = False)"
   ]
  },
  {
   "cell_type": "code",
   "execution_count": null,
   "metadata": {},
   "outputs": [],
   "source": []
  }
 ],
 "metadata": {
  "kernelspec": {
   "display_name": "Python 3",
   "language": "python",
   "name": "python3"
  },
  "language_info": {
   "codemirror_mode": {
    "name": "ipython",
    "version": 3
   },
   "file_extension": ".py",
   "mimetype": "text/x-python",
   "name": "python",
   "nbconvert_exporter": "python",
   "pygments_lexer": "ipython3",
   "version": "3.7.3"
  }
 },
 "nbformat": 4,
 "nbformat_minor": 2
}
